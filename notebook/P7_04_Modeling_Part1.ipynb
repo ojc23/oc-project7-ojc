{
 "cells": [
  {
   "cell_type": "markdown",
   "id": "df57cf69",
   "metadata": {},
   "source": [
    "# \"Implémentez un modèle de scoring\"\n",
    "\n",
    "References used for this notebook:\n",
    "\n",
    "Kernel pour le feature engineering : LightGBM with Simple Features\n",
    "- \"https://www.kaggle.com/code/jsaguiar/lightgbm-with-simple-features/script\"\n",
    "- \n",
    "\n",
    "    "
   ]
  },
  {
   "cell_type": "markdown",
   "id": "1b15f2fd",
   "metadata": {},
   "source": [
    "# Milestone 1 : Choix d’un Kernel\n",
    "\n",
    "## Notebook de préparation du jeu de données et de feature engineering"
   ]
  },
  {
   "cell_type": "markdown",
   "id": "23aa5d17",
   "metadata": {},
   "source": [
    "### 1.1. Import linrary"
   ]
  },
  {
   "cell_type": "code",
   "execution_count": 5,
   "id": "bb34cb08",
   "metadata": {},
   "outputs": [],
   "source": [
    "%load_ext autoreload\n",
    "%autoreload\n",
    "\n",
    "import warnings\n",
    "warnings.filterwarnings(\"ignore\")\n",
    "\n",
    "from scripts import *\n",
    "from scripts_utils import * \n",
    "\n",
    "# pd.set_op÷tion(\"display.max_rows\", None)\n",
    "# pd.set_option(\"display.max_columns\", None)"
   ]
  },
  {
   "cell_type": "markdown",
   "id": "70e9f14c",
   "metadata": {},
   "source": [
    "### 1.2. Mergin, Feature Engineering and Saving the Dataset"
   ]
  },
  {
   "cell_type": "code",
   "execution_count": 2,
   "id": "a6e23d19",
   "metadata": {},
   "outputs": [
    {
     "name": "stdout",
     "output_type": "stream",
     "text": [
      "Train samples: 307511, test samples: 48744\n",
      "Application df shape: (356251, 247)\n",
      "Process application train and test - done in 12s\n",
      "Bureau df shape: (305811, 116)\n",
      "Process bureau and bureau_balance - done in 48s\n",
      "Previous applications df shape: (338857, 249)\n",
      "Process previous_applications - done in 43s\n",
      "Pos-cash balance df shape: (337252, 18)\n",
      "Process POS-CASH balance - done in 20s\n",
      "Installments payments df shape: (339587, 26)\n",
      "Process installments payments - done in 43s\n",
      "Credit card balance df shape: (103558, 141)\n",
      "Process credit card balance - done in 48s\n",
      "start saving data... - done in 349s\n"
     ]
    },
    {
     "data": {
      "text/html": [
       "<div>\n",
       "<style scoped>\n",
       "    .dataframe tbody tr th:only-of-type {\n",
       "        vertical-align: middle;\n",
       "    }\n",
       "\n",
       "    .dataframe tbody tr th {\n",
       "        vertical-align: top;\n",
       "    }\n",
       "\n",
       "    .dataframe thead th {\n",
       "        text-align: right;\n",
       "    }\n",
       "</style>\n",
       "<table border=\"1\" class=\"dataframe\">\n",
       "  <thead>\n",
       "    <tr style=\"text-align: right;\">\n",
       "      <th></th>\n",
       "      <th>SK_ID_CURR</th>\n",
       "      <th>TARGET</th>\n",
       "      <th>CODE_GENDER</th>\n",
       "      <th>FLAG_OWN_CAR</th>\n",
       "      <th>FLAG_OWN_REALTY</th>\n",
       "      <th>CNT_CHILDREN</th>\n",
       "      <th>AMT_INCOME_TOTAL</th>\n",
       "      <th>AMT_CREDIT</th>\n",
       "      <th>AMT_ANNUITY</th>\n",
       "      <th>AMT_GOODS_PRICE</th>\n",
       "      <th>...</th>\n",
       "      <th>CC_NAME_CONTRACT_STATUS_Signed_MAX</th>\n",
       "      <th>CC_NAME_CONTRACT_STATUS_Signed_MEAN</th>\n",
       "      <th>CC_NAME_CONTRACT_STATUS_Signed_SUM</th>\n",
       "      <th>CC_NAME_CONTRACT_STATUS_Signed_VAR</th>\n",
       "      <th>CC_NAME_CONTRACT_STATUS_nan_MIN</th>\n",
       "      <th>CC_NAME_CONTRACT_STATUS_nan_MAX</th>\n",
       "      <th>CC_NAME_CONTRACT_STATUS_nan_MEAN</th>\n",
       "      <th>CC_NAME_CONTRACT_STATUS_nan_SUM</th>\n",
       "      <th>CC_NAME_CONTRACT_STATUS_nan_VAR</th>\n",
       "      <th>CC_COUNT</th>\n",
       "    </tr>\n",
       "  </thead>\n",
       "  <tbody>\n",
       "    <tr>\n",
       "      <th>0</th>\n",
       "      <td>100002</td>\n",
       "      <td>1.0</td>\n",
       "      <td>0</td>\n",
       "      <td>0</td>\n",
       "      <td>0</td>\n",
       "      <td>0</td>\n",
       "      <td>202500.0</td>\n",
       "      <td>406597.5</td>\n",
       "      <td>24700.5</td>\n",
       "      <td>351000.0</td>\n",
       "      <td>...</td>\n",
       "      <td>NaN</td>\n",
       "      <td>NaN</td>\n",
       "      <td>NaN</td>\n",
       "      <td>NaN</td>\n",
       "      <td>NaN</td>\n",
       "      <td>NaN</td>\n",
       "      <td>NaN</td>\n",
       "      <td>NaN</td>\n",
       "      <td>NaN</td>\n",
       "      <td>NaN</td>\n",
       "    </tr>\n",
       "    <tr>\n",
       "      <th>1</th>\n",
       "      <td>100003</td>\n",
       "      <td>0.0</td>\n",
       "      <td>1</td>\n",
       "      <td>0</td>\n",
       "      <td>1</td>\n",
       "      <td>0</td>\n",
       "      <td>270000.0</td>\n",
       "      <td>1293502.5</td>\n",
       "      <td>35698.5</td>\n",
       "      <td>1129500.0</td>\n",
       "      <td>...</td>\n",
       "      <td>NaN</td>\n",
       "      <td>NaN</td>\n",
       "      <td>NaN</td>\n",
       "      <td>NaN</td>\n",
       "      <td>NaN</td>\n",
       "      <td>NaN</td>\n",
       "      <td>NaN</td>\n",
       "      <td>NaN</td>\n",
       "      <td>NaN</td>\n",
       "      <td>NaN</td>\n",
       "    </tr>\n",
       "    <tr>\n",
       "      <th>2</th>\n",
       "      <td>100004</td>\n",
       "      <td>0.0</td>\n",
       "      <td>0</td>\n",
       "      <td>1</td>\n",
       "      <td>0</td>\n",
       "      <td>0</td>\n",
       "      <td>67500.0</td>\n",
       "      <td>135000.0</td>\n",
       "      <td>6750.0</td>\n",
       "      <td>135000.0</td>\n",
       "      <td>...</td>\n",
       "      <td>NaN</td>\n",
       "      <td>NaN</td>\n",
       "      <td>NaN</td>\n",
       "      <td>NaN</td>\n",
       "      <td>NaN</td>\n",
       "      <td>NaN</td>\n",
       "      <td>NaN</td>\n",
       "      <td>NaN</td>\n",
       "      <td>NaN</td>\n",
       "      <td>NaN</td>\n",
       "    </tr>\n",
       "    <tr>\n",
       "      <th>3</th>\n",
       "      <td>100006</td>\n",
       "      <td>0.0</td>\n",
       "      <td>1</td>\n",
       "      <td>0</td>\n",
       "      <td>0</td>\n",
       "      <td>0</td>\n",
       "      <td>135000.0</td>\n",
       "      <td>312682.5</td>\n",
       "      <td>29686.5</td>\n",
       "      <td>297000.0</td>\n",
       "      <td>...</td>\n",
       "      <td>0.0</td>\n",
       "      <td>0.0</td>\n",
       "      <td>0.0</td>\n",
       "      <td>0.0</td>\n",
       "      <td>0.0</td>\n",
       "      <td>0.0</td>\n",
       "      <td>0.0</td>\n",
       "      <td>0.0</td>\n",
       "      <td>0.0</td>\n",
       "      <td>6.0</td>\n",
       "    </tr>\n",
       "    <tr>\n",
       "      <th>4</th>\n",
       "      <td>100007</td>\n",
       "      <td>0.0</td>\n",
       "      <td>0</td>\n",
       "      <td>0</td>\n",
       "      <td>0</td>\n",
       "      <td>0</td>\n",
       "      <td>121500.0</td>\n",
       "      <td>513000.0</td>\n",
       "      <td>21865.5</td>\n",
       "      <td>513000.0</td>\n",
       "      <td>...</td>\n",
       "      <td>NaN</td>\n",
       "      <td>NaN</td>\n",
       "      <td>NaN</td>\n",
       "      <td>NaN</td>\n",
       "      <td>NaN</td>\n",
       "      <td>NaN</td>\n",
       "      <td>NaN</td>\n",
       "      <td>NaN</td>\n",
       "      <td>NaN</td>\n",
       "      <td>NaN</td>\n",
       "    </tr>\n",
       "  </tbody>\n",
       "</table>\n",
       "<p>5 rows × 797 columns</p>\n",
       "</div>"
      ],
      "text/plain": [
       "   SK_ID_CURR  TARGET  CODE_GENDER  FLAG_OWN_CAR  FLAG_OWN_REALTY  \\\n",
       "0      100002     1.0            0             0                0   \n",
       "1      100003     0.0            1             0                1   \n",
       "2      100004     0.0            0             1                0   \n",
       "3      100006     0.0            1             0                0   \n",
       "4      100007     0.0            0             0                0   \n",
       "\n",
       "   CNT_CHILDREN  AMT_INCOME_TOTAL  AMT_CREDIT  AMT_ANNUITY  AMT_GOODS_PRICE  \\\n",
       "0             0          202500.0    406597.5      24700.5         351000.0   \n",
       "1             0          270000.0   1293502.5      35698.5        1129500.0   \n",
       "2             0           67500.0    135000.0       6750.0         135000.0   \n",
       "3             0          135000.0    312682.5      29686.5         297000.0   \n",
       "4             0          121500.0    513000.0      21865.5         513000.0   \n",
       "\n",
       "   ...  CC_NAME_CONTRACT_STATUS_Signed_MAX  \\\n",
       "0  ...                                 NaN   \n",
       "1  ...                                 NaN   \n",
       "2  ...                                 NaN   \n",
       "3  ...                                 0.0   \n",
       "4  ...                                 NaN   \n",
       "\n",
       "   CC_NAME_CONTRACT_STATUS_Signed_MEAN  CC_NAME_CONTRACT_STATUS_Signed_SUM  \\\n",
       "0                                  NaN                                 NaN   \n",
       "1                                  NaN                                 NaN   \n",
       "2                                  NaN                                 NaN   \n",
       "3                                  0.0                                 0.0   \n",
       "4                                  NaN                                 NaN   \n",
       "\n",
       "   CC_NAME_CONTRACT_STATUS_Signed_VAR  CC_NAME_CONTRACT_STATUS_nan_MIN  \\\n",
       "0                                 NaN                              NaN   \n",
       "1                                 NaN                              NaN   \n",
       "2                                 NaN                              NaN   \n",
       "3                                 0.0                              0.0   \n",
       "4                                 NaN                              NaN   \n",
       "\n",
       "   CC_NAME_CONTRACT_STATUS_nan_MAX  CC_NAME_CONTRACT_STATUS_nan_MEAN  \\\n",
       "0                              NaN                               NaN   \n",
       "1                              NaN                               NaN   \n",
       "2                              NaN                               NaN   \n",
       "3                              0.0                               0.0   \n",
       "4                              NaN                               NaN   \n",
       "\n",
       "   CC_NAME_CONTRACT_STATUS_nan_SUM  CC_NAME_CONTRACT_STATUS_nan_VAR  CC_COUNT  \n",
       "0                              NaN                              NaN       NaN  \n",
       "1                              NaN                              NaN       NaN  \n",
       "2                              NaN                              NaN       NaN  \n",
       "3                              0.0                              0.0       6.0  \n",
       "4                              NaN                              NaN       NaN  \n",
       "\n",
       "[5 rows x 797 columns]"
      ]
     },
     "execution_count": 2,
     "metadata": {},
     "output_type": "execute_result"
    }
   ],
   "source": [
    "# merge dataFrame\n",
    "df = main()\n",
    "# save the dataframe for processing \n",
    "with timer(\"start saving data...\"):\n",
    "    df.to_csv('out.csv', index=False)  \n",
    "\n",
    "df.head()"
   ]
  },
  {
   "cell_type": "markdown",
   "id": "ae81fded",
   "metadata": {},
   "source": [
    "# Milestone 2 : Développement et simulation de modèles\n",
    "## Notebook de simulation et comparaison des modèles"
   ]
  },
  {
   "cell_type": "code",
   "execution_count": 3,
   "id": "001cc55d",
   "metadata": {},
   "outputs": [
    {
     "name": "stdout",
     "output_type": "stream",
     "text": [
      "start reading data... - done in 46s\n"
     ]
    }
   ],
   "source": [
    "with timer(\"start reading data...\"):\n",
    "    df = pd.read_csv('../notebook/out.csv')"
   ]
  },
  {
   "cell_type": "code",
   "execution_count": 4,
   "id": "f4835615",
   "metadata": {},
   "outputs": [],
   "source": [
    "# set new index\n",
    "df.set_index('SK_ID_CURR', inplace = True)"
   ]
  },
  {
   "cell_type": "code",
   "execution_count": 5,
   "id": "7df20a66",
   "metadata": {},
   "outputs": [
    {
     "data": {
      "text/html": [
       "<div>\n",
       "<style scoped>\n",
       "    .dataframe tbody tr th:only-of-type {\n",
       "        vertical-align: middle;\n",
       "    }\n",
       "\n",
       "    .dataframe tbody tr th {\n",
       "        vertical-align: top;\n",
       "    }\n",
       "\n",
       "    .dataframe thead th {\n",
       "        text-align: right;\n",
       "    }\n",
       "</style>\n",
       "<table border=\"1\" class=\"dataframe\">\n",
       "  <thead>\n",
       "    <tr style=\"text-align: right;\">\n",
       "      <th></th>\n",
       "      <th>TARGET</th>\n",
       "      <th>CODE_GENDER</th>\n",
       "      <th>FLAG_OWN_CAR</th>\n",
       "      <th>FLAG_OWN_REALTY</th>\n",
       "      <th>CNT_CHILDREN</th>\n",
       "      <th>AMT_INCOME_TOTAL</th>\n",
       "      <th>AMT_CREDIT</th>\n",
       "      <th>AMT_ANNUITY</th>\n",
       "      <th>AMT_GOODS_PRICE</th>\n",
       "      <th>REGION_POPULATION_RELATIVE</th>\n",
       "      <th>...</th>\n",
       "      <th>CC_NAME_CONTRACT_STATUS_Signed_MAX</th>\n",
       "      <th>CC_NAME_CONTRACT_STATUS_Signed_MEAN</th>\n",
       "      <th>CC_NAME_CONTRACT_STATUS_Signed_SUM</th>\n",
       "      <th>CC_NAME_CONTRACT_STATUS_Signed_VAR</th>\n",
       "      <th>CC_NAME_CONTRACT_STATUS_nan_MIN</th>\n",
       "      <th>CC_NAME_CONTRACT_STATUS_nan_MAX</th>\n",
       "      <th>CC_NAME_CONTRACT_STATUS_nan_MEAN</th>\n",
       "      <th>CC_NAME_CONTRACT_STATUS_nan_SUM</th>\n",
       "      <th>CC_NAME_CONTRACT_STATUS_nan_VAR</th>\n",
       "      <th>CC_COUNT</th>\n",
       "    </tr>\n",
       "    <tr>\n",
       "      <th>SK_ID_CURR</th>\n",
       "      <th></th>\n",
       "      <th></th>\n",
       "      <th></th>\n",
       "      <th></th>\n",
       "      <th></th>\n",
       "      <th></th>\n",
       "      <th></th>\n",
       "      <th></th>\n",
       "      <th></th>\n",
       "      <th></th>\n",
       "      <th></th>\n",
       "      <th></th>\n",
       "      <th></th>\n",
       "      <th></th>\n",
       "      <th></th>\n",
       "      <th></th>\n",
       "      <th></th>\n",
       "      <th></th>\n",
       "      <th></th>\n",
       "      <th></th>\n",
       "      <th></th>\n",
       "    </tr>\n",
       "  </thead>\n",
       "  <tbody>\n",
       "    <tr>\n",
       "      <th>100002</th>\n",
       "      <td>1.0</td>\n",
       "      <td>0</td>\n",
       "      <td>0</td>\n",
       "      <td>0</td>\n",
       "      <td>0</td>\n",
       "      <td>202500.0</td>\n",
       "      <td>406597.5</td>\n",
       "      <td>24700.5</td>\n",
       "      <td>351000.0</td>\n",
       "      <td>0.018801</td>\n",
       "      <td>...</td>\n",
       "      <td>NaN</td>\n",
       "      <td>NaN</td>\n",
       "      <td>NaN</td>\n",
       "      <td>NaN</td>\n",
       "      <td>NaN</td>\n",
       "      <td>NaN</td>\n",
       "      <td>NaN</td>\n",
       "      <td>NaN</td>\n",
       "      <td>NaN</td>\n",
       "      <td>NaN</td>\n",
       "    </tr>\n",
       "    <tr>\n",
       "      <th>100003</th>\n",
       "      <td>0.0</td>\n",
       "      <td>1</td>\n",
       "      <td>0</td>\n",
       "      <td>1</td>\n",
       "      <td>0</td>\n",
       "      <td>270000.0</td>\n",
       "      <td>1293502.5</td>\n",
       "      <td>35698.5</td>\n",
       "      <td>1129500.0</td>\n",
       "      <td>0.003541</td>\n",
       "      <td>...</td>\n",
       "      <td>NaN</td>\n",
       "      <td>NaN</td>\n",
       "      <td>NaN</td>\n",
       "      <td>NaN</td>\n",
       "      <td>NaN</td>\n",
       "      <td>NaN</td>\n",
       "      <td>NaN</td>\n",
       "      <td>NaN</td>\n",
       "      <td>NaN</td>\n",
       "      <td>NaN</td>\n",
       "    </tr>\n",
       "    <tr>\n",
       "      <th>100004</th>\n",
       "      <td>0.0</td>\n",
       "      <td>0</td>\n",
       "      <td>1</td>\n",
       "      <td>0</td>\n",
       "      <td>0</td>\n",
       "      <td>67500.0</td>\n",
       "      <td>135000.0</td>\n",
       "      <td>6750.0</td>\n",
       "      <td>135000.0</td>\n",
       "      <td>0.010032</td>\n",
       "      <td>...</td>\n",
       "      <td>NaN</td>\n",
       "      <td>NaN</td>\n",
       "      <td>NaN</td>\n",
       "      <td>NaN</td>\n",
       "      <td>NaN</td>\n",
       "      <td>NaN</td>\n",
       "      <td>NaN</td>\n",
       "      <td>NaN</td>\n",
       "      <td>NaN</td>\n",
       "      <td>NaN</td>\n",
       "    </tr>\n",
       "    <tr>\n",
       "      <th>100006</th>\n",
       "      <td>0.0</td>\n",
       "      <td>1</td>\n",
       "      <td>0</td>\n",
       "      <td>0</td>\n",
       "      <td>0</td>\n",
       "      <td>135000.0</td>\n",
       "      <td>312682.5</td>\n",
       "      <td>29686.5</td>\n",
       "      <td>297000.0</td>\n",
       "      <td>0.008019</td>\n",
       "      <td>...</td>\n",
       "      <td>0.0</td>\n",
       "      <td>0.0</td>\n",
       "      <td>0.0</td>\n",
       "      <td>0.0</td>\n",
       "      <td>0.0</td>\n",
       "      <td>0.0</td>\n",
       "      <td>0.0</td>\n",
       "      <td>0.0</td>\n",
       "      <td>0.0</td>\n",
       "      <td>6.0</td>\n",
       "    </tr>\n",
       "    <tr>\n",
       "      <th>100007</th>\n",
       "      <td>0.0</td>\n",
       "      <td>0</td>\n",
       "      <td>0</td>\n",
       "      <td>0</td>\n",
       "      <td>0</td>\n",
       "      <td>121500.0</td>\n",
       "      <td>513000.0</td>\n",
       "      <td>21865.5</td>\n",
       "      <td>513000.0</td>\n",
       "      <td>0.028663</td>\n",
       "      <td>...</td>\n",
       "      <td>NaN</td>\n",
       "      <td>NaN</td>\n",
       "      <td>NaN</td>\n",
       "      <td>NaN</td>\n",
       "      <td>NaN</td>\n",
       "      <td>NaN</td>\n",
       "      <td>NaN</td>\n",
       "      <td>NaN</td>\n",
       "      <td>NaN</td>\n",
       "      <td>NaN</td>\n",
       "    </tr>\n",
       "  </tbody>\n",
       "</table>\n",
       "<p>5 rows × 796 columns</p>\n",
       "</div>"
      ],
      "text/plain": [
       "            TARGET  CODE_GENDER  FLAG_OWN_CAR  FLAG_OWN_REALTY  CNT_CHILDREN  \\\n",
       "SK_ID_CURR                                                                     \n",
       "100002         1.0            0             0                0             0   \n",
       "100003         0.0            1             0                1             0   \n",
       "100004         0.0            0             1                0             0   \n",
       "100006         0.0            1             0                0             0   \n",
       "100007         0.0            0             0                0             0   \n",
       "\n",
       "            AMT_INCOME_TOTAL  AMT_CREDIT  AMT_ANNUITY  AMT_GOODS_PRICE  \\\n",
       "SK_ID_CURR                                                               \n",
       "100002              202500.0    406597.5      24700.5         351000.0   \n",
       "100003              270000.0   1293502.5      35698.5        1129500.0   \n",
       "100004               67500.0    135000.0       6750.0         135000.0   \n",
       "100006              135000.0    312682.5      29686.5         297000.0   \n",
       "100007              121500.0    513000.0      21865.5         513000.0   \n",
       "\n",
       "            REGION_POPULATION_RELATIVE  ...  \\\n",
       "SK_ID_CURR                              ...   \n",
       "100002                        0.018801  ...   \n",
       "100003                        0.003541  ...   \n",
       "100004                        0.010032  ...   \n",
       "100006                        0.008019  ...   \n",
       "100007                        0.028663  ...   \n",
       "\n",
       "            CC_NAME_CONTRACT_STATUS_Signed_MAX  \\\n",
       "SK_ID_CURR                                       \n",
       "100002                                     NaN   \n",
       "100003                                     NaN   \n",
       "100004                                     NaN   \n",
       "100006                                     0.0   \n",
       "100007                                     NaN   \n",
       "\n",
       "            CC_NAME_CONTRACT_STATUS_Signed_MEAN  \\\n",
       "SK_ID_CURR                                        \n",
       "100002                                      NaN   \n",
       "100003                                      NaN   \n",
       "100004                                      NaN   \n",
       "100006                                      0.0   \n",
       "100007                                      NaN   \n",
       "\n",
       "            CC_NAME_CONTRACT_STATUS_Signed_SUM  \\\n",
       "SK_ID_CURR                                       \n",
       "100002                                     NaN   \n",
       "100003                                     NaN   \n",
       "100004                                     NaN   \n",
       "100006                                     0.0   \n",
       "100007                                     NaN   \n",
       "\n",
       "            CC_NAME_CONTRACT_STATUS_Signed_VAR  \\\n",
       "SK_ID_CURR                                       \n",
       "100002                                     NaN   \n",
       "100003                                     NaN   \n",
       "100004                                     NaN   \n",
       "100006                                     0.0   \n",
       "100007                                     NaN   \n",
       "\n",
       "            CC_NAME_CONTRACT_STATUS_nan_MIN  CC_NAME_CONTRACT_STATUS_nan_MAX  \\\n",
       "SK_ID_CURR                                                                     \n",
       "100002                                  NaN                              NaN   \n",
       "100003                                  NaN                              NaN   \n",
       "100004                                  NaN                              NaN   \n",
       "100006                                  0.0                              0.0   \n",
       "100007                                  NaN                              NaN   \n",
       "\n",
       "            CC_NAME_CONTRACT_STATUS_nan_MEAN  CC_NAME_CONTRACT_STATUS_nan_SUM  \\\n",
       "SK_ID_CURR                                                                      \n",
       "100002                                   NaN                              NaN   \n",
       "100003                                   NaN                              NaN   \n",
       "100004                                   NaN                              NaN   \n",
       "100006                                   0.0                              0.0   \n",
       "100007                                   NaN                              NaN   \n",
       "\n",
       "            CC_NAME_CONTRACT_STATUS_nan_VAR  CC_COUNT  \n",
       "SK_ID_CURR                                             \n",
       "100002                                  NaN       NaN  \n",
       "100003                                  NaN       NaN  \n",
       "100004                                  NaN       NaN  \n",
       "100006                                  0.0       6.0  \n",
       "100007                                  NaN       NaN  \n",
       "\n",
       "[5 rows x 796 columns]"
      ]
     },
     "execution_count": 5,
     "metadata": {},
     "output_type": "execute_result"
    }
   ],
   "source": [
    "df.head()"
   ]
  },
  {
   "cell_type": "markdown",
   "id": "d974f92e",
   "metadata": {},
   "source": [
    "### 2.1. Data Processing  - clean up, remove infinite and replace NaN values"
   ]
  },
  {
   "cell_type": "code",
   "execution_count": 6,
   "id": "379ba5cd",
   "metadata": {},
   "outputs": [
    {
     "name": "stdout",
     "output_type": "stream",
     "text": [
      "\n",
      "checking for infinity\n",
      "\n",
      "printing the count of infinity values\n",
      "It contains 21 infinite values\n",
      "\n",
      "printing column name where infinity is present\n",
      "PREV_APP_CREDIT_PERC_MAX          PREV_APP_CREDIT_PERC_MAX\n",
      "REFUSED_APP_CREDIT_PERC_MAX    REFUSED_APP_CREDIT_PERC_MAX\n",
      "INSTAL_PAYMENT_PERC_MAX            INSTAL_PAYMENT_PERC_MAX\n",
      "dtype: object\n",
      "\n",
      "printing row index with infinity \n",
      "Int64Index([106652, 170117, 191663, 203360, 214375, 247019, 249387, 262837,\n",
      "            276278, 293754, 330828, 333092, 373540, 376062, 416262, 422089,\n",
      "            432795, 439267, 453803, 119813],\n",
      "           dtype='int64', name='SK_ID_CURR')\n",
      "\n",
      "printing the count of Nan values\n",
      "It contains 72051237 NaN values\n",
      "\n",
      "No. of columns not containing null values\n",
      "180\n",
      "\n",
      "printing column name where NaN is present\n",
      "AMT_ANNUITY                                              AMT_ANNUITY\n",
      "AMT_GOODS_PRICE                                      AMT_GOODS_PRICE\n",
      "DAYS_EMPLOYED                                          DAYS_EMPLOYED\n",
      "OWN_CAR_AGE                                              OWN_CAR_AGE\n",
      "CNT_FAM_MEMBERS                                      CNT_FAM_MEMBERS\n",
      "                                                  ...               \n",
      "CC_NAME_CONTRACT_STATUS_nan_MAX      CC_NAME_CONTRACT_STATUS_nan_MAX\n",
      "CC_NAME_CONTRACT_STATUS_nan_MEAN    CC_NAME_CONTRACT_STATUS_nan_MEAN\n",
      "CC_NAME_CONTRACT_STATUS_nan_SUM      CC_NAME_CONTRACT_STATUS_nan_SUM\n",
      "CC_NAME_CONTRACT_STATUS_nan_VAR      CC_NAME_CONTRACT_STATUS_nan_VAR\n",
      "CC_COUNT                                                    CC_COUNT\n",
      "Length: 616, dtype: object\n",
      "°°°°°°°°°°°°______________°°°°°°°°°°°°\n",
      "Filling null value with the mean \n",
      "\n",
      "printing the count of infinity values\n",
      "It contains 0 infinite values\n",
      "\n",
      "printing the count of Nan values\n",
      "It contains 0 NaN values\n"
     ]
    },
    {
     "data": {
      "text/html": [
       "<div>\n",
       "<style scoped>\n",
       "    .dataframe tbody tr th:only-of-type {\n",
       "        vertical-align: middle;\n",
       "    }\n",
       "\n",
       "    .dataframe tbody tr th {\n",
       "        vertical-align: top;\n",
       "    }\n",
       "\n",
       "    .dataframe thead th {\n",
       "        text-align: right;\n",
       "    }\n",
       "</style>\n",
       "<table border=\"1\" class=\"dataframe\">\n",
       "  <thead>\n",
       "    <tr style=\"text-align: right;\">\n",
       "      <th></th>\n",
       "      <th>TARGET</th>\n",
       "      <th>CODE_GENDER</th>\n",
       "      <th>FLAG_OWN_CAR</th>\n",
       "      <th>FLAG_OWN_REALTY</th>\n",
       "      <th>CNT_CHILDREN</th>\n",
       "      <th>AMT_INCOME_TOTAL</th>\n",
       "      <th>AMT_CREDIT</th>\n",
       "      <th>AMT_ANNUITY</th>\n",
       "      <th>AMT_GOODS_PRICE</th>\n",
       "      <th>REGION_POPULATION_RELATIVE</th>\n",
       "      <th>...</th>\n",
       "      <th>CC_NAME_CONTRACT_STATUS_Signed_MAX</th>\n",
       "      <th>CC_NAME_CONTRACT_STATUS_Signed_MEAN</th>\n",
       "      <th>CC_NAME_CONTRACT_STATUS_Signed_SUM</th>\n",
       "      <th>CC_NAME_CONTRACT_STATUS_Signed_VAR</th>\n",
       "      <th>CC_NAME_CONTRACT_STATUS_nan_MIN</th>\n",
       "      <th>CC_NAME_CONTRACT_STATUS_nan_MAX</th>\n",
       "      <th>CC_NAME_CONTRACT_STATUS_nan_MEAN</th>\n",
       "      <th>CC_NAME_CONTRACT_STATUS_nan_SUM</th>\n",
       "      <th>CC_NAME_CONTRACT_STATUS_nan_VAR</th>\n",
       "      <th>CC_COUNT</th>\n",
       "    </tr>\n",
       "    <tr>\n",
       "      <th>SK_ID_CURR</th>\n",
       "      <th></th>\n",
       "      <th></th>\n",
       "      <th></th>\n",
       "      <th></th>\n",
       "      <th></th>\n",
       "      <th></th>\n",
       "      <th></th>\n",
       "      <th></th>\n",
       "      <th></th>\n",
       "      <th></th>\n",
       "      <th></th>\n",
       "      <th></th>\n",
       "      <th></th>\n",
       "      <th></th>\n",
       "      <th></th>\n",
       "      <th></th>\n",
       "      <th></th>\n",
       "      <th></th>\n",
       "      <th></th>\n",
       "      <th></th>\n",
       "      <th></th>\n",
       "    </tr>\n",
       "  </thead>\n",
       "  <tbody>\n",
       "    <tr>\n",
       "      <th>100002</th>\n",
       "      <td>1.0</td>\n",
       "      <td>0</td>\n",
       "      <td>0</td>\n",
       "      <td>0</td>\n",
       "      <td>0</td>\n",
       "      <td>202500.0</td>\n",
       "      <td>406597.5</td>\n",
       "      <td>24700.5</td>\n",
       "      <td>351000.0</td>\n",
       "      <td>0.018801</td>\n",
       "      <td>...</td>\n",
       "      <td>0.047597</td>\n",
       "      <td>0.003583</td>\n",
       "      <td>0.106781</td>\n",
       "      <td>0.002955</td>\n",
       "      <td>0.0</td>\n",
       "      <td>0.0</td>\n",
       "      <td>0.0</td>\n",
       "      <td>0.0</td>\n",
       "      <td>0.0</td>\n",
       "      <td>37.083683</td>\n",
       "    </tr>\n",
       "    <tr>\n",
       "      <th>100003</th>\n",
       "      <td>0.0</td>\n",
       "      <td>1</td>\n",
       "      <td>0</td>\n",
       "      <td>1</td>\n",
       "      <td>0</td>\n",
       "      <td>270000.0</td>\n",
       "      <td>1293502.5</td>\n",
       "      <td>35698.5</td>\n",
       "      <td>1129500.0</td>\n",
       "      <td>0.003541</td>\n",
       "      <td>...</td>\n",
       "      <td>0.047597</td>\n",
       "      <td>0.003583</td>\n",
       "      <td>0.106781</td>\n",
       "      <td>0.002955</td>\n",
       "      <td>0.0</td>\n",
       "      <td>0.0</td>\n",
       "      <td>0.0</td>\n",
       "      <td>0.0</td>\n",
       "      <td>0.0</td>\n",
       "      <td>37.083683</td>\n",
       "    </tr>\n",
       "    <tr>\n",
       "      <th>100004</th>\n",
       "      <td>0.0</td>\n",
       "      <td>0</td>\n",
       "      <td>1</td>\n",
       "      <td>0</td>\n",
       "      <td>0</td>\n",
       "      <td>67500.0</td>\n",
       "      <td>135000.0</td>\n",
       "      <td>6750.0</td>\n",
       "      <td>135000.0</td>\n",
       "      <td>0.010032</td>\n",
       "      <td>...</td>\n",
       "      <td>0.047597</td>\n",
       "      <td>0.003583</td>\n",
       "      <td>0.106781</td>\n",
       "      <td>0.002955</td>\n",
       "      <td>0.0</td>\n",
       "      <td>0.0</td>\n",
       "      <td>0.0</td>\n",
       "      <td>0.0</td>\n",
       "      <td>0.0</td>\n",
       "      <td>37.083683</td>\n",
       "    </tr>\n",
       "    <tr>\n",
       "      <th>100006</th>\n",
       "      <td>0.0</td>\n",
       "      <td>1</td>\n",
       "      <td>0</td>\n",
       "      <td>0</td>\n",
       "      <td>0</td>\n",
       "      <td>135000.0</td>\n",
       "      <td>312682.5</td>\n",
       "      <td>29686.5</td>\n",
       "      <td>297000.0</td>\n",
       "      <td>0.008019</td>\n",
       "      <td>...</td>\n",
       "      <td>0.000000</td>\n",
       "      <td>0.000000</td>\n",
       "      <td>0.000000</td>\n",
       "      <td>0.000000</td>\n",
       "      <td>0.0</td>\n",
       "      <td>0.0</td>\n",
       "      <td>0.0</td>\n",
       "      <td>0.0</td>\n",
       "      <td>0.0</td>\n",
       "      <td>6.000000</td>\n",
       "    </tr>\n",
       "    <tr>\n",
       "      <th>100007</th>\n",
       "      <td>0.0</td>\n",
       "      <td>0</td>\n",
       "      <td>0</td>\n",
       "      <td>0</td>\n",
       "      <td>0</td>\n",
       "      <td>121500.0</td>\n",
       "      <td>513000.0</td>\n",
       "      <td>21865.5</td>\n",
       "      <td>513000.0</td>\n",
       "      <td>0.028663</td>\n",
       "      <td>...</td>\n",
       "      <td>0.047597</td>\n",
       "      <td>0.003583</td>\n",
       "      <td>0.106781</td>\n",
       "      <td>0.002955</td>\n",
       "      <td>0.0</td>\n",
       "      <td>0.0</td>\n",
       "      <td>0.0</td>\n",
       "      <td>0.0</td>\n",
       "      <td>0.0</td>\n",
       "      <td>37.083683</td>\n",
       "    </tr>\n",
       "  </tbody>\n",
       "</table>\n",
       "<p>5 rows × 796 columns</p>\n",
       "</div>"
      ],
      "text/plain": [
       "            TARGET  CODE_GENDER  FLAG_OWN_CAR  FLAG_OWN_REALTY  CNT_CHILDREN  \\\n",
       "SK_ID_CURR                                                                     \n",
       "100002         1.0            0             0                0             0   \n",
       "100003         0.0            1             0                1             0   \n",
       "100004         0.0            0             1                0             0   \n",
       "100006         0.0            1             0                0             0   \n",
       "100007         0.0            0             0                0             0   \n",
       "\n",
       "            AMT_INCOME_TOTAL  AMT_CREDIT  AMT_ANNUITY  AMT_GOODS_PRICE  \\\n",
       "SK_ID_CURR                                                               \n",
       "100002              202500.0    406597.5      24700.5         351000.0   \n",
       "100003              270000.0   1293502.5      35698.5        1129500.0   \n",
       "100004               67500.0    135000.0       6750.0         135000.0   \n",
       "100006              135000.0    312682.5      29686.5         297000.0   \n",
       "100007              121500.0    513000.0      21865.5         513000.0   \n",
       "\n",
       "            REGION_POPULATION_RELATIVE  ...  \\\n",
       "SK_ID_CURR                              ...   \n",
       "100002                        0.018801  ...   \n",
       "100003                        0.003541  ...   \n",
       "100004                        0.010032  ...   \n",
       "100006                        0.008019  ...   \n",
       "100007                        0.028663  ...   \n",
       "\n",
       "            CC_NAME_CONTRACT_STATUS_Signed_MAX  \\\n",
       "SK_ID_CURR                                       \n",
       "100002                                0.047597   \n",
       "100003                                0.047597   \n",
       "100004                                0.047597   \n",
       "100006                                0.000000   \n",
       "100007                                0.047597   \n",
       "\n",
       "            CC_NAME_CONTRACT_STATUS_Signed_MEAN  \\\n",
       "SK_ID_CURR                                        \n",
       "100002                                 0.003583   \n",
       "100003                                 0.003583   \n",
       "100004                                 0.003583   \n",
       "100006                                 0.000000   \n",
       "100007                                 0.003583   \n",
       "\n",
       "            CC_NAME_CONTRACT_STATUS_Signed_SUM  \\\n",
       "SK_ID_CURR                                       \n",
       "100002                                0.106781   \n",
       "100003                                0.106781   \n",
       "100004                                0.106781   \n",
       "100006                                0.000000   \n",
       "100007                                0.106781   \n",
       "\n",
       "            CC_NAME_CONTRACT_STATUS_Signed_VAR  \\\n",
       "SK_ID_CURR                                       \n",
       "100002                                0.002955   \n",
       "100003                                0.002955   \n",
       "100004                                0.002955   \n",
       "100006                                0.000000   \n",
       "100007                                0.002955   \n",
       "\n",
       "            CC_NAME_CONTRACT_STATUS_nan_MIN  CC_NAME_CONTRACT_STATUS_nan_MAX  \\\n",
       "SK_ID_CURR                                                                     \n",
       "100002                                  0.0                              0.0   \n",
       "100003                                  0.0                              0.0   \n",
       "100004                                  0.0                              0.0   \n",
       "100006                                  0.0                              0.0   \n",
       "100007                                  0.0                              0.0   \n",
       "\n",
       "            CC_NAME_CONTRACT_STATUS_nan_MEAN  CC_NAME_CONTRACT_STATUS_nan_SUM  \\\n",
       "SK_ID_CURR                                                                      \n",
       "100002                                   0.0                              0.0   \n",
       "100003                                   0.0                              0.0   \n",
       "100004                                   0.0                              0.0   \n",
       "100006                                   0.0                              0.0   \n",
       "100007                                   0.0                              0.0   \n",
       "\n",
       "            CC_NAME_CONTRACT_STATUS_nan_VAR   CC_COUNT  \n",
       "SK_ID_CURR                                              \n",
       "100002                                  0.0  37.083683  \n",
       "100003                                  0.0  37.083683  \n",
       "100004                                  0.0  37.083683  \n",
       "100006                                  0.0   6.000000  \n",
       "100007                                  0.0  37.083683  \n",
       "\n",
       "[5 rows x 796 columns]"
      ]
     },
     "execution_count": 6,
     "metadata": {},
     "output_type": "execute_result"
    }
   ],
   "source": [
    "# clean up, remove infinite and replace NaN values\n",
    "# use mean() to fill missing values\n",
    "df = infinity_na_values_table(df, fill_method=4)\n",
    "df.head()"
   ]
  },
  {
   "cell_type": "markdown",
   "id": "2d58961b",
   "metadata": {},
   "source": [
    "### 2.2 Splitting Dataset into Train/Test Sets\n",
    "We'll be splitting a dataset into train set(80% samples) and test set (20% samples)."
   ]
  },
  {
   "cell_type": "code",
   "execution_count": 7,
   "id": "8c9b0bd4",
   "metadata": {},
   "outputs": [
    {
     "name": "stdout",
     "output_type": "stream",
     "text": [
      "Starting LightGBM. Train shape: (307507, 796), test shape: (48744, 795)\n"
     ]
    }
   ],
   "source": [
    "# Divide in training/validation and test data\n",
    "train_df = df[df['TARGET'] != 3]\n",
    "test_df = df[df['TARGET'] == 3].drop(['TARGET'], axis=1)\n",
    "print(\"Starting LightGBM. Train shape: {}, test shape: {}\".format(train_df.shape, test_df.shape))"
   ]
  },
  {
   "cell_type": "code",
   "execution_count": 8,
   "id": "3cf8b8cf",
   "metadata": {},
   "outputs": [
    {
     "data": {
      "text/plain": [
       "['df', 'test_df', 'train_df']"
      ]
     },
     "execution_count": 8,
     "metadata": {},
     "output_type": "execute_result"
    }
   ],
   "source": [
    "##### Pandas Get a List Of All Data Frames loaded into memory\n",
    "%who_ls DataFrame "
   ]
  },
  {
   "cell_type": "markdown",
   "id": "7093cb2e",
   "metadata": {},
   "source": [
    "We'll split the \"train_df\" data in x_train and x_test.\n",
    "- x_train will be used with cross-validation to find the best model and for hyperparameter tuning.\n",
    "- x_test will be used to evaluate the performance of the best models."
   ]
  },
  {
   "cell_type": "code",
   "execution_count": 9,
   "id": "a6182476",
   "metadata": {},
   "outputs": [
    {
     "data": {
      "text/plain": [
       "['X_test', 'X_train', 'test_df', 'train_df']"
      ]
     },
     "execution_count": 9,
     "metadata": {},
     "output_type": "execute_result"
    }
   ],
   "source": [
    "##### Pandas Get a List Of All Data Frames loaded into memory\n",
    "%who_ls DataFrame\n",
    "X_train = train_df.drop(['TARGET'], axis=1)\n",
    "Y_train = train_df['TARGET']\n",
    "X_test = test_df\n",
    "del df\n",
    "%who_ls DataFrame "
   ]
  },
  {
   "cell_type": "code",
   "execution_count": 10,
   "id": "cb49042b",
   "metadata": {},
   "outputs": [
    {
     "name": "stdout",
     "output_type": "stream",
     "text": [
      "Dataset Train/Test Sizes  :  (307507, 795) (307507,) (48744, 795)\n"
     ]
    }
   ],
   "source": [
    "print('Dataset Train/Test Sizes  : ',X_train.shape, Y_train.shape, X_test.shape)"
   ]
  },
  {
   "cell_type": "code",
   "execution_count": 11,
   "id": "570f475d",
   "metadata": {},
   "outputs": [],
   "source": [
    "from sklearn.model_selection import train_test_split\n",
    "\n",
    "# Splitting a training set and a test set\n",
    "x_train, x_test, y_train, y_test = train_test_split(X_train, Y_train,\n",
    "                                          train_size=0.8, shuffle=True,\n",
    "                                          stratify=Y_train,\n",
    "                                          random_state=14)\n",
    "\n",
    "# del X_train, Y_train"
   ]
  },
  {
   "cell_type": "code",
   "execution_count": 12,
   "id": "aeecf0ff",
   "metadata": {},
   "outputs": [
    {
     "data": {
      "text/plain": [
       "['X_test', 'X_train', 'test_df', 'train_df', 'x_test', 'x_train']"
      ]
     },
     "execution_count": 12,
     "metadata": {},
     "output_type": "execute_result"
    }
   ],
   "source": [
    "%who_ls DataFrame "
   ]
  },
  {
   "cell_type": "code",
   "execution_count": 13,
   "id": "d5f1c675",
   "metadata": {},
   "outputs": [
    {
     "name": "stdout",
     "output_type": "stream",
     "text": [
      "Dataset Train/Test Sizes  :  (246005, 795) (61502, 795) (246005,) (61502,)\n"
     ]
    }
   ],
   "source": [
    "print('Dataset Train/Test Sizes  : ',x_train.shape, x_test.shape, y_train.shape, y_test.shape)"
   ]
  },
  {
   "cell_type": "markdown",
   "id": "8a6a35c5",
   "metadata": {},
   "source": [
    "### 2.2.1 Visualize the target variable"
   ]
  },
  {
   "cell_type": "markdown",
   "id": "7a80c075",
   "metadata": {},
   "source": [
    "You can clearly see that there is a huge difference between the data set, the classes are imbalanced. Class imbalance can lead to problems with training machine learning models because the models may be biased towards the more common class. If there are more examples of one class than another, the model will be more likely to learn and predict the majority class. This can be a problem because it can lead to inaccurate results when the model is applied to data that is more evenly balanced."
   ]
  },
  {
   "cell_type": "code",
   "execution_count": 14,
   "id": "29f63ed5",
   "metadata": {},
   "outputs": [
    {
     "data": {
      "text/plain": [
       "0.0    282682\n",
       "1.0     24825\n",
       "Name: TARGET, dtype: int64"
      ]
     },
     "execution_count": 14,
     "metadata": {},
     "output_type": "execute_result"
    },
    {
     "data": {
      "image/png": "[encoded data removed]",
      "text/plain": [
       "<Figure size 432x288 with 1 Axes>"
      ]
     },
     "metadata": {
      "needs_background": "light"
     },
     "output_type": "display_data"
    }
   ],
   "source": [
    "# visualize the target variable\n",
    "g = sns.countplot(train_df['TARGET'])\n",
    "g.set_xticklabels(['Paid','Un-Paid']);\n",
    "\n",
    "train_df.loc[:, 'TARGET'].value_counts()"
   ]
  },
  {
   "cell_type": "markdown",
   "id": "1b723a73",
   "metadata": {},
   "source": [
    "We see clearly that the classes are umbalaced. Before processing the data we will need to fix this issue. However let's continue with this umbaled data and run the model to see their performances and then fix the umbalanced problem and run agian the models."
   ]
  },
  {
   "cell_type": "markdown",
   "id": "9fc7b452",
   "metadata": {},
   "source": [
    "### 2.2.5 The Metric Trap [1](https://www.analyticsvidhya.com/blog/2020/07/10-techniques-to-deal-with-class-imbalance-in-machine-learning/)\n",
    "\n",
    "\n",
    "One of the major issues that new developer users fall into when dealing with unbalanced datasets relates to the metrics used to evaluate their model. Using simpler metrics like accuracy score can be misleading. In a dataset with highly unbalanced classes, the classifier will always “predicts” the most common class without performing any analysis of the features and it will have a high accuracy rate, obviously not the correct one.\n",
    "\n",
    "Metrics that can provide better insight are:\n",
    "\n",
    "- Confusion Matrix: a table showing correct predictions and types of incorrect predictions.\n",
    "- Precision: the number of true positives divided by all positive predictions. Precision is also called Positive Predictive Value. It is a measure of a classifier’s exactness. Low precision indicates a high number of false positives.\n",
    "- Recall: the number of true positives divided by the number of positive values in the test data. The recall is also called Sensitivity or the True Positive Rate. It is a measure of a classifier’s completeness. Low recall indicates a high number of false negatives.\n",
    "- F1: Score: the weighted average of precision and recall.\n",
    "- Area Under ROC Curve (AUROC): AUROC represents the likelihood of your model distinguishing observations from two classes.\n",
    "\n",
    "In other words, if you randomly select one observation from each class, what’s the probability that your model will be able to “rank” them correctly?\n",
    "\n",
    "Let’s do this experiment, using simple DummyClassifier:\n",
    "\n",
    "Below we are initializing the defaults DummyClassifier model, training it and checking its performance on test data.\n",
    "\n"
   ]
  },
  {
   "cell_type": "code",
   "execution_count": 15,
   "id": "df97f24e",
   "metadata": {},
   "outputs": [
    {
     "name": "stdout",
     "output_type": "stream",
     "text": [
      "Predicting Test Set...\n",
      "[0. 0. 0. 0. 0. 0. 0. 0. 0. 0. 0. 0. 0. 0. 0.]\n",
      "[1. 0. 0. 0. 0. 0. 0. 0. 0. 0. 0. 0. 0. 0. 0.]\n",
      "\n",
      "Test Accuracy score is: 0.919271\n",
      "Test Accuracy score is: 0.919271\n",
      "Training Accuracy score is: 0.919270\n",
      "\n",
      "              precision    recall  f1-score   support\n",
      "\n",
      "         0.0       0.92      1.00      0.96     56537\n",
      "         1.0       0.00      0.00      0.00      4965\n",
      "\n",
      "    accuracy                           0.92     61502\n",
      "   macro avg       0.46      0.50      0.48     61502\n",
      "weighted avg       0.85      0.92      0.88     61502\n",
      "\n"
     ]
    }
   ],
   "source": [
    "from sklearn.dummy import DummyClassifier\n",
    "from sklearn.metrics import plot_confusion_matrix, classification_report\n",
    "\n",
    "dum_class = DummyClassifier(strategy='most_frequent',random_state=14)\n",
    "\n",
    "dum_class.fit(x_train, y_train)\n",
    "\n",
    "# predict\n",
    "dum_y_predict = dum_class.predict(x_test)\n",
    "\n",
    "# accuracy score\n",
    "dum_score = dum_class.score(dum_y_predict, y_test)\n",
    "\n",
    "print (\"Predicting Test Set...\")\n",
    "\n",
    "print(dum_y_predict[:15])\n",
    "print(y_test[:15].values)\n",
    "print()\n",
    "\n",
    "print('Test Accuracy score is: %.6f'%(dum_y_predict == y_test).mean())\n",
    "print('Test Accuracy score is: %.6f'%dum_class.score(dum_y_predict, y_test)) ## Score method also evaluates accuracy for classification models.\n",
    "print('Training Accuracy score is: %.6f'%dum_class.score(x_train, y_train))\n",
    "print()\n",
    "print(classification_report(y_test, dum_y_predict))"
   ]
  },
  {
   "attachments": {
    "image.png": {
     "image/png": "[encoded data removed]"
    }
   },
   "cell_type": "markdown",
   "id": "bb48df4b",
   "metadata": {},
   "source": [
    "We can see 92% accuracy, we are getting very high accuracy because it is predicting mostly the majority class that is 0 (Paid, no default).\n",
    "We can see above that DummyClassifier is performing quite bad in guessing class 1 as both precision and recall are really bad.\n",
    "\n",
    "\n",
    "**Classification Report**\n",
    "Classification report metrics provides precision, recall, f1-score and support for each class.\n",
    "\n",
    "Precision - It represents how many of predictions of particular class are actually of that class. \n",
    "![image.png](attachment:image.png)"
   ]
  },
  {
   "cell_type": "markdown",
   "id": "1ddce568",
   "metadata": {},
   "source": [
    "Below we are initializing defaults LogisticRegression model, training it and checking its performance on test data.\n"
   ]
  },
  {
   "cell_type": "code",
   "execution_count": 16,
   "id": "9a1c0e8a",
   "metadata": {},
   "outputs": [],
   "source": [
    "from sklearn.pipeline import Pipeline\n",
    "from sklearn.preprocessing import StandardScaler\n",
    "from sklearn.linear_model import LogisticRegression\n",
    "from sklearn.model_selection import GridSearchCV\n",
    "from sklearn.metrics import make_scorer, accuracy_score\n",
    "import sklearn.metrics as metrics\n",
    "\n",
    "pipe = Pipeline([\n",
    "    ('scale', StandardScaler()),\n",
    "    ('model', LogisticRegression())\n",
    "])\n",
    "\n",
    "grid = GridSearchCV(estimator=pipe,\n",
    "                    param_grid={},\n",
    "                    cv=2,\n",
    "                    scoring={'acc': make_scorer(accuracy_score)},\n",
    "                    refit='acc',\n",
    "                    return_train_score=True)\n",
    "\n",
    "grid.fit(x_train, y_train);\n"
   ]
  },
  {
   "cell_type": "code",
   "execution_count": 17,
   "id": "725eaaf7",
   "metadata": {},
   "outputs": [
    {
     "data": {
      "text/html": [
       "<div>\n",
       "<style scoped>\n",
       "    .dataframe tbody tr th:only-of-type {\n",
       "        vertical-align: middle;\n",
       "    }\n",
       "\n",
       "    .dataframe tbody tr th {\n",
       "        vertical-align: top;\n",
       "    }\n",
       "\n",
       "    .dataframe thead th {\n",
       "        text-align: right;\n",
       "    }\n",
       "</style>\n",
       "<table border=\"1\" class=\"dataframe\">\n",
       "  <thead>\n",
       "    <tr style=\"text-align: right;\">\n",
       "      <th></th>\n",
       "      <th>mean_fit_time</th>\n",
       "      <th>std_fit_time</th>\n",
       "      <th>mean_score_time</th>\n",
       "      <th>std_score_time</th>\n",
       "      <th>params</th>\n",
       "      <th>split0_test_acc</th>\n",
       "      <th>split1_test_acc</th>\n",
       "      <th>mean_test_acc</th>\n",
       "      <th>std_test_acc</th>\n",
       "      <th>rank_test_acc</th>\n",
       "      <th>split0_train_acc</th>\n",
       "      <th>split1_train_acc</th>\n",
       "      <th>mean_train_acc</th>\n",
       "      <th>std_train_acc</th>\n",
       "    </tr>\n",
       "  </thead>\n",
       "  <tbody>\n",
       "    <tr>\n",
       "      <th>0</th>\n",
       "      <td>19.108193</td>\n",
       "      <td>2.52047</td>\n",
       "      <td>2.179022</td>\n",
       "      <td>0.603406</td>\n",
       "      <td>{}</td>\n",
       "      <td>0.919091</td>\n",
       "      <td>0.919424</td>\n",
       "      <td>0.919258</td>\n",
       "      <td>0.000166</td>\n",
       "      <td>1</td>\n",
       "      <td>0.920107</td>\n",
       "      <td>0.919644</td>\n",
       "      <td>0.919876</td>\n",
       "      <td>0.000231</td>\n",
       "    </tr>\n",
       "  </tbody>\n",
       "</table>\n",
       "</div>"
      ],
      "text/plain": [
       "   mean_fit_time  std_fit_time  mean_score_time  std_score_time params  \\\n",
       "0      19.108193       2.52047         2.179022        0.603406     {}   \n",
       "\n",
       "   split0_test_acc  split1_test_acc  mean_test_acc  std_test_acc  \\\n",
       "0         0.919091         0.919424       0.919258      0.000166   \n",
       "\n",
       "   rank_test_acc  split0_train_acc  split1_train_acc  mean_train_acc  \\\n",
       "0              1          0.920107          0.919644        0.919876   \n",
       "\n",
       "   std_train_acc  \n",
       "0       0.000231  "
      ]
     },
     "execution_count": 17,
     "metadata": {},
     "output_type": "execute_result"
    }
   ],
   "source": [
    "import pandas as pd\n",
    "pd.DataFrame(grid.cv_results_)\n"
   ]
  },
  {
   "cell_type": "code",
   "execution_count": 18,
   "id": "49eafdb8",
   "metadata": {},
   "outputs": [
    {
     "data": {
      "text/html": [
       "<div>\n",
       "<style scoped>\n",
       "    .dataframe tbody tr th:only-of-type {\n",
       "        vertical-align: middle;\n",
       "    }\n",
       "\n",
       "    .dataframe tbody tr th {\n",
       "        vertical-align: top;\n",
       "    }\n",
       "\n",
       "    .dataframe thead th {\n",
       "        text-align: right;\n",
       "    }\n",
       "</style>\n",
       "<table border=\"1\" class=\"dataframe\">\n",
       "  <thead>\n",
       "    <tr style=\"text-align: right;\">\n",
       "      <th></th>\n",
       "      <th>mean_test_acc</th>\n",
       "      <th>mean_train_acc</th>\n",
       "    </tr>\n",
       "  </thead>\n",
       "  <tbody>\n",
       "    <tr>\n",
       "      <th>0</th>\n",
       "      <td>0.919258</td>\n",
       "      <td>0.919876</td>\n",
       "    </tr>\n",
       "  </tbody>\n",
       "</table>\n",
       "</div>"
      ],
      "text/plain": [
       "   mean_test_acc  mean_train_acc\n",
       "0       0.919258        0.919876"
      ]
     },
     "execution_count": 18,
     "metadata": {},
     "output_type": "execute_result"
    }
   ],
   "source": [
    "pd.DataFrame(grid.cv_results_)[['mean_test_acc', 'mean_train_acc']]"
   ]
  },
  {
   "cell_type": "code",
   "execution_count": 19,
   "id": "5d630798",
   "metadata": {},
   "outputs": [
    {
     "data": {
      "text/plain": [
       "Counter({1.0: 19860, 0.0: 226145})"
      ]
     },
     "execution_count": 19,
     "metadata": {},
     "output_type": "execute_result"
    }
   ],
   "source": [
    "from collections import Counter\n",
    "Counter(y_train)\n"
   ]
  },
  {
   "cell_type": "markdown",
   "id": "4005678c",
   "metadata": {},
   "source": [
    "There is a substantial class unbalanced. What the algorithm is doing is that it prediction the class zero and not learning anything in particular, this can be seen looking at the score 0,92 which is too high and suspicions."
   ]
  },
  {
   "cell_type": "markdown",
   "id": "91184caf",
   "metadata": {},
   "source": [
    "### 2.3.1 Compare DummyClassifier with GridSeach : Grid Search To Improve Model Performance On Unbalanced Dataset\n",
    "\n",
    "Let's run a dummy model in a gridsearch so we can compare with our original result.\n",
    "Parameters<br>\n",
    "    ----------<br>\n",
    "strategy : {\"most_frequent\", \"prior\", \"stratified\", \"uniform\", \"constant\"}, default=\"prior\"\n",
    "Strategy to use to generate predictions.\n",
    "- \"most_frequent\": the `predict` method always returns the most\n",
    "  frequent class label in the observed `y` argument passed to `fit`.\n",
    "  The `predict_proba` method returns the matching one-hot encoded\n",
    "  vector.\n",
    "- \"prior\": the `predict` method always returns the most frequent\n",
    "  class label in the observed `y` argument passed to `fit` (like\n",
    "  \"most_frequent\"). ``predict_proba`` always returns the empirical\n",
    "  class distribution of `y` also known as the empirical class prior\n",
    "  distribution.\n",
    "- \"stratified\": the `predict_proba` method randomly samples one-hot\n",
    "  vectors from a multinomial distribution parametrized by the empirical\n",
    "  class prior probabilities.\n",
    "  The `predict` method returns the class label which got probability\n",
    "  one in the one-hot vector of `predict_proba`.\n",
    "  Each sampled row of both methods is therefore independent and\n",
    "  identically distributed.\n",
    "- \"uniform\": generates predictions uniformly at random from the list\n",
    "  of unique classes observed in `y`, i.e. each class has equal\n",
    "  probability.\n",
    "- \"constant\": always predicts a constant label that is provided by\n",
    "  the user. This is useful for metrics that evaluate a non-majority\n",
    "  class."
   ]
  },
  {
   "cell_type": "code",
   "execution_count": 20,
   "id": "bb76c480",
   "metadata": {},
   "outputs": [
    {
     "data": {
      "text/plain": [
       "GridSearchCV(cv=5,\n",
       "             estimator=Pipeline(steps=[('scale', StandardScaler()),\n",
       "                                       ('model', DummyClassifier())]),\n",
       "             param_grid={'model__strategy': ['most_frequent', 'prior',\n",
       "                                             'stratified', 'uniform']},\n",
       "             refit='acc', return_train_score=True,\n",
       "             scoring={'acc': make_scorer(accuracy_score)})"
      ]
     },
     "execution_count": 20,
     "metadata": {},
     "output_type": "execute_result"
    }
   ],
   "source": [
    "pipe = Pipeline([\n",
    "    ('scale', StandardScaler()),\n",
    "    ('model', DummyClassifier())\n",
    "])\n",
    "\n",
    "grid = GridSearchCV(estimator=pipe,\n",
    "                    param_grid={'model__strategy': ['most_frequent', 'prior', 'stratified', 'uniform']},\n",
    "                    cv=5,\n",
    "                    scoring={'acc': make_scorer(accuracy_score)},\n",
    "                    refit='acc',\n",
    "                    return_train_score=True\n",
    "                   )\n",
    "\n",
    "grid.fit(x_train, y_train)\n"
   ]
  },
  {
   "cell_type": "code",
   "execution_count": 21,
   "id": "a607d235",
   "metadata": {},
   "outputs": [
    {
     "data": {
      "text/html": [
       "<div>\n",
       "<style scoped>\n",
       "    .dataframe tbody tr th:only-of-type {\n",
       "        vertical-align: middle;\n",
       "    }\n",
       "\n",
       "    .dataframe tbody tr th {\n",
       "        vertical-align: top;\n",
       "    }\n",
       "\n",
       "    .dataframe thead th {\n",
       "        text-align: right;\n",
       "    }\n",
       "</style>\n",
       "<table border=\"1\" class=\"dataframe\">\n",
       "  <thead>\n",
       "    <tr style=\"text-align: right;\">\n",
       "      <th></th>\n",
       "      <th>mean_fit_time</th>\n",
       "      <th>std_fit_time</th>\n",
       "      <th>mean_score_time</th>\n",
       "      <th>std_score_time</th>\n",
       "      <th>param_model__strategy</th>\n",
       "      <th>params</th>\n",
       "      <th>split0_test_acc</th>\n",
       "      <th>split1_test_acc</th>\n",
       "      <th>split2_test_acc</th>\n",
       "      <th>split3_test_acc</th>\n",
       "      <th>...</th>\n",
       "      <th>mean_test_acc</th>\n",
       "      <th>std_test_acc</th>\n",
       "      <th>rank_test_acc</th>\n",
       "      <th>split0_train_acc</th>\n",
       "      <th>split1_train_acc</th>\n",
       "      <th>split2_train_acc</th>\n",
       "      <th>split3_train_acc</th>\n",
       "      <th>split4_train_acc</th>\n",
       "      <th>mean_train_acc</th>\n",
       "      <th>std_train_acc</th>\n",
       "    </tr>\n",
       "  </thead>\n",
       "  <tbody>\n",
       "    <tr>\n",
       "      <th>0</th>\n",
       "      <td>7.817762</td>\n",
       "      <td>0.194951</td>\n",
       "      <td>0.566382</td>\n",
       "      <td>0.00453</td>\n",
       "      <td>most_frequent</td>\n",
       "      <td>{'model__strategy': 'most_frequent'}</td>\n",
       "      <td>0.91927</td>\n",
       "      <td>0.91927</td>\n",
       "      <td>0.91927</td>\n",
       "      <td>0.91927</td>\n",
       "      <td>...</td>\n",
       "      <td>0.91927</td>\n",
       "      <td>1.110223e-16</td>\n",
       "      <td>1</td>\n",
       "      <td>0.91927</td>\n",
       "      <td>0.91927</td>\n",
       "      <td>0.91927</td>\n",
       "      <td>0.91927</td>\n",
       "      <td>0.91927</td>\n",
       "      <td>0.91927</td>\n",
       "      <td>1.110223e-16</td>\n",
       "    </tr>\n",
       "  </tbody>\n",
       "</table>\n",
       "<p>1 rows × 21 columns</p>\n",
       "</div>"
      ],
      "text/plain": [
       "   mean_fit_time  std_fit_time  mean_score_time  std_score_time  \\\n",
       "0       7.817762      0.194951         0.566382         0.00453   \n",
       "\n",
       "  param_model__strategy                                params  \\\n",
       "0         most_frequent  {'model__strategy': 'most_frequent'}   \n",
       "\n",
       "   split0_test_acc  split1_test_acc  split2_test_acc  split3_test_acc  ...  \\\n",
       "0          0.91927          0.91927          0.91927          0.91927  ...   \n",
       "\n",
       "   mean_test_acc  std_test_acc  rank_test_acc  split0_train_acc  \\\n",
       "0        0.91927  1.110223e-16              1           0.91927   \n",
       "\n",
       "   split1_train_acc  split2_train_acc  split3_train_acc  split4_train_acc  \\\n",
       "0           0.91927           0.91927           0.91927           0.91927   \n",
       "\n",
       "   mean_train_acc  std_train_acc  \n",
       "0         0.91927   1.110223e-16  \n",
       "\n",
       "[1 rows x 21 columns]"
      ]
     },
     "execution_count": 21,
     "metadata": {},
     "output_type": "execute_result"
    }
   ],
   "source": [
    "pd.DataFrame(grid.cv_results_).head(1)"
   ]
  },
  {
   "cell_type": "code",
   "execution_count": 22,
   "id": "500c1a61",
   "metadata": {},
   "outputs": [
    {
     "data": {
      "text/html": [
       "<div>\n",
       "<style scoped>\n",
       "    .dataframe tbody tr th:only-of-type {\n",
       "        vertical-align: middle;\n",
       "    }\n",
       "\n",
       "    .dataframe tbody tr th {\n",
       "        vertical-align: top;\n",
       "    }\n",
       "\n",
       "    .dataframe thead th {\n",
       "        text-align: right;\n",
       "    }\n",
       "</style>\n",
       "<table border=\"1\" class=\"dataframe\">\n",
       "  <thead>\n",
       "    <tr style=\"text-align: right;\">\n",
       "      <th></th>\n",
       "      <th>param_model__strategy</th>\n",
       "      <th>mean_test_acc</th>\n",
       "      <th>mean_train_acc</th>\n",
       "      <th>mean_score_time</th>\n",
       "    </tr>\n",
       "  </thead>\n",
       "  <tbody>\n",
       "    <tr>\n",
       "      <th>0</th>\n",
       "      <td>most_frequent</td>\n",
       "      <td>0.919270</td>\n",
       "      <td>0.919270</td>\n",
       "      <td>0.566382</td>\n",
       "    </tr>\n",
       "    <tr>\n",
       "      <th>1</th>\n",
       "      <td>prior</td>\n",
       "      <td>0.919270</td>\n",
       "      <td>0.919270</td>\n",
       "      <td>0.581171</td>\n",
       "    </tr>\n",
       "    <tr>\n",
       "      <th>2</th>\n",
       "      <td>stratified</td>\n",
       "      <td>0.851434</td>\n",
       "      <td>0.851371</td>\n",
       "      <td>0.580600</td>\n",
       "    </tr>\n",
       "    <tr>\n",
       "      <th>3</th>\n",
       "      <td>uniform</td>\n",
       "      <td>0.500921</td>\n",
       "      <td>0.500027</td>\n",
       "      <td>0.566747</td>\n",
       "    </tr>\n",
       "  </tbody>\n",
       "</table>\n",
       "</div>"
      ],
      "text/plain": [
       "  param_model__strategy  mean_test_acc  mean_train_acc  mean_score_time\n",
       "0         most_frequent       0.919270        0.919270         0.566382\n",
       "1                 prior       0.919270        0.919270         0.581171\n",
       "2            stratified       0.851434        0.851371         0.580600\n",
       "3               uniform       0.500921        0.500027         0.566747"
      ]
     },
     "execution_count": 22,
     "metadata": {},
     "output_type": "execute_result"
    }
   ],
   "source": [
    "pd.DataFrame(grid.cv_results_)[['param_model__strategy', 'mean_test_acc', 'mean_train_acc','mean_score_time']]\n"
   ]
  },
  {
   "cell_type": "markdown",
   "id": "f832c29d",
   "metadata": {},
   "source": [
    "What we can is that the 'uniform' strategy perform well even with a class unbalanced compared to the others. With a score of 0,5 where the 'most_frequent' one is around 0,92. Same for 'prior' and 'stratified' that are worse. "
   ]
  },
  {
   "cell_type": "code",
   "execution_count": 23,
   "id": "969f34a0",
   "metadata": {},
   "outputs": [],
   "source": [
    "# predict\n",
    "dum_y_predict = grid.predict(x_test)\n"
   ]
  },
  {
   "cell_type": "code",
   "execution_count": 24,
   "id": "3c063af9",
   "metadata": {},
   "outputs": [
    {
     "name": "stdout",
     "output_type": "stream",
     "text": [
      "\n",
      "ROCAUC score: 0.5\n",
      "Accuracy score: 0.919271\n",
      "F1 score: 0.0\n",
      "\n",
      "              precision    recall  f1-score   support\n",
      "\n",
      "         0.0       0.92      1.00      0.96     56537\n",
      "         1.0       0.00      0.00      0.00      4965\n",
      "\n",
      "    accuracy                           0.92     61502\n",
      "   macro avg       0.46      0.50      0.48     61502\n",
      "weighted avg       0.85      0.92      0.88     61502\n",
      "\n"
     ]
    }
   ],
   "source": [
    "print()\n",
    "\n",
    "#generate_model_report(y_test, dum_y_predict)\n",
    "\n",
    "from sklearn.metrics import f1_score\n",
    "print('ROCAUC score:',roc_auc_score(y_test, dum_y_predict))\n",
    "print('Accuracy score: %.6f'%accuracy_score(y_test, dum_y_predict))\n",
    "print('F1 score:',f1_score(y_test, dum_y_predict))\n",
    "\n",
    "print()\n",
    "print(classification_report(y_test, dum_y_predict))"
   ]
  },
  {
   "attachments": {
    "image.png": {
     "image/png": "[encoded data removed]"
    }
   },
   "cell_type": "markdown",
   "id": "ed887d12",
   "metadata": {},
   "source": [
    "### 2.4 Resampling to reduce imbalance of the dataset\n",
    "### 2.4.1. Synthetic Minority Oversampling Technique (SMOTE)\n",
    "This technique generates synthetic data for the minority class. [1](https://www.analyticsvidhya.com/blog/2020/07/10-techniques-to-deal-with-class-imbalance-in-machine-learning/)\n",
    "\n",
    "SMOTE (Synthetic Minority Oversampling Technique) works by randomly picking a point from the minority class and computing the k-nearest neighbors for this point. The synthetic points are added between the chosen point and its neighbors.\n",
    "![image.png](attachment:image.png)\n",
    "SMOTE algorithm works in 4 simple steps:\n",
    "\n",
    "1. Choose a minority class as the input vector\n",
    "2. Find its k nearest neighbors (k_neighbors is specified as an argument in the SMOTE() function)\n",
    "3. Choose one of these neighbors and place a synthetic point anywhere on the line joining the point under consideration and its chosen neighbor\n",
    "4. Repeat the steps until data is balanced"
   ]
  },
  {
   "cell_type": "code",
   "execution_count": 25,
   "id": "1b21f6d3",
   "metadata": {},
   "outputs": [
    {
     "name": "stdout",
     "output_type": "stream",
     "text": [
      "Original dataset shape Counter({0.0: 226145, 1.0: 19860})\n",
      "Resample dataset shape Counter({1.0: 226145, 0.0: 226145})\n"
     ]
    },
    {
     "data": {
      "text/plain": [
       "1.0    226145\n",
       "0.0    226145\n",
       "Name: TARGET, dtype: int64"
      ]
     },
     "execution_count": 25,
     "metadata": {},
     "output_type": "execute_result"
    },
    {
     "data": {
      "image/png": "[encoded data removed]",
      "text/plain": [
       "<Figure size 432x288 with 1 Axes>"
      ]
     },
     "metadata": {
      "needs_background": "light"
     },
     "output_type": "display_data"
    }
   ],
   "source": [
    "# import library\n",
    "from imblearn.over_sampling import SMOTE\n",
    "\n",
    "smote = SMOTE(sampling_strategy='auto', k_neighbors=5,\n",
    "              n_jobs=-1, random_state=14)\n",
    "\n",
    "# fit predictor and target variable\n",
    "x_smote, y_smote = smote.fit_resample(x_train, y_train)\n",
    "\n",
    "print('Original dataset shape', Counter(y_train))\n",
    "print('Resample dataset shape', Counter(y_smote))\n",
    "\n",
    "# visualize the target variable\n",
    "g = sns.countplot(y_smote)\n",
    "g.set_xticklabels(['Paid','Un-Paid']);\n",
    "\n",
    "y_smote.value_counts()"
   ]
  },
  {
   "cell_type": "code",
   "execution_count": 26,
   "id": "47898951",
   "metadata": {},
   "outputs": [
    {
     "name": "stdout",
     "output_type": "stream",
     "text": [
      "[[56537     0]\n",
      " [ 4965     0]]\n"
     ]
    }
   ],
   "source": [
    "from sklearn.metrics import confusion_matrix\n",
    "\n",
    "conf_mat = confusion_matrix(y_test, dum_y_predict)\n",
    "print(conf_mat)"
   ]
  },
  {
   "cell_type": "markdown",
   "id": "7cc82719",
   "metadata": {},
   "source": [
    "### 2.4.2 Resampling to reduce imbalance of the dataset\n",
    "\n",
    "We will perform a cross-validation evaluation to get an estimate of the test score. [1](https://imbalanced-learn.org/stable/auto_examples/applications/plot_impact_imbalanced_classes.html)\n",
    "\n",
    "As a baseline, we could use a classifier which will always predict the majority class independently of the features provided.\n"
   ]
  },
  {
   "cell_type": "code",
   "execution_count": 27,
   "id": "4c7279e6",
   "metadata": {},
   "outputs": [
    {
     "name": "stdout",
     "output_type": "stream",
     "text": [
      "Accuracy score of a dummy classifier: 0.919\n"
     ]
    }
   ],
   "source": [
    "from sklearn.model_selection import cross_validate\n",
    "from sklearn.dummy import DummyClassifier\n",
    "\n",
    "dummy_clf = DummyClassifier(strategy=\"most_frequent\")\n",
    "scoring = [\"accuracy\", \"balanced_accuracy\"]\n",
    "cv_result = cross_validate(dummy_clf, x_train, y_train, scoring=scoring)\n",
    "print(f\"Accuracy score of a dummy classifier: {cv_result['test_accuracy'].mean():.3f}\")\n"
   ]
  },
  {
   "cell_type": "markdown",
   "id": "4ad7abdc",
   "metadata": {},
   "source": [
    "Instead of using the accuracy, we can use the balanced accuracy which will take into account the balancing issue."
   ]
  },
  {
   "cell_type": "code",
   "execution_count": 28,
   "id": "a4520f86",
   "metadata": {},
   "outputs": [
    {
     "name": "stdout",
     "output_type": "stream",
     "text": [
      "Balanced accuracy score of a dummy classifier: 0.500\n"
     ]
    }
   ],
   "source": [
    "print(\n",
    "    f\"Balanced accuracy score of a dummy classifier: \"\n",
    "    f\"{cv_result['test_balanced_accuracy'].mean():.3f}\"\n",
    ")"
   ]
  },
  {
   "cell_type": "markdown",
   "id": "5d92dead",
   "metadata": {},
   "source": [
    "### 2.4.3 Strategies to learn from an imbalanced dataset\n",
    "We will use a dictionary and a list to continuously store the results of our experiments and show them as a pandas dataframe."
   ]
  },
  {
   "cell_type": "code",
   "execution_count": 29,
   "id": "36b01467",
   "metadata": {},
   "outputs": [],
   "source": [
    "index = []\n",
    "scores = {\"Accuracy\": [], \"Balanced accuracy\": []}"
   ]
  },
  {
   "cell_type": "markdown",
   "id": "0efdb2c2",
   "metadata": {},
   "source": [
    "### 2.4.3.1 Dummy baseline\n",
    "\n",
    "Before to train a real machine learning model, we can store the results obtained with our DummyClassifier."
   ]
  },
  {
   "cell_type": "code",
   "execution_count": 30,
   "id": "a323b9be",
   "metadata": {},
   "outputs": [
    {
     "data": {
      "text/html": [
       "<div>\n",
       "<style scoped>\n",
       "    .dataframe tbody tr th:only-of-type {\n",
       "        vertical-align: middle;\n",
       "    }\n",
       "\n",
       "    .dataframe tbody tr th {\n",
       "        vertical-align: top;\n",
       "    }\n",
       "\n",
       "    .dataframe thead th {\n",
       "        text-align: right;\n",
       "    }\n",
       "</style>\n",
       "<table border=\"1\" class=\"dataframe\">\n",
       "  <thead>\n",
       "    <tr style=\"text-align: right;\">\n",
       "      <th></th>\n",
       "      <th>Accuracy</th>\n",
       "      <th>Balanced accuracy</th>\n",
       "    </tr>\n",
       "  </thead>\n",
       "  <tbody>\n",
       "    <tr>\n",
       "      <th>Dummy classifier</th>\n",
       "      <td>0.91927</td>\n",
       "      <td>0.5</td>\n",
       "    </tr>\n",
       "  </tbody>\n",
       "</table>\n",
       "</div>"
      ],
      "text/plain": [
       "                  Accuracy  Balanced accuracy\n",
       "Dummy classifier   0.91927                0.5"
      ]
     },
     "execution_count": 30,
     "metadata": {},
     "output_type": "execute_result"
    }
   ],
   "source": [
    "import pandas as pd\n",
    "\n",
    "index += [\"Dummy classifier\"]\n",
    "cv_result = cross_validate(dummy_clf, x_train, y_train, scoring=scoring)\n",
    "scores[\"Accuracy\"].append(cv_result[\"test_accuracy\"].mean())\n",
    "scores[\"Balanced accuracy\"].append(cv_result[\"test_balanced_accuracy\"].mean())\n",
    "\n",
    "df_scores = pd.DataFrame(scores, index=index)\n",
    "df_scores"
   ]
  },
  {
   "cell_type": "markdown",
   "id": "3e9ce032",
   "metadata": {},
   "source": [
    "### 2.4.3.2 Linear classifier baseline\n",
    "\n",
    "Let's create and evaluate our **LogisticRegression** classifier."
   ]
  },
  {
   "cell_type": "code",
   "execution_count": 31,
   "id": "c93b6d56",
   "metadata": {},
   "outputs": [],
   "source": [
    "from sklearn.impute import SimpleImputer\n",
    "from sklearn.pipeline import make_pipeline\n",
    "\n",
    "num_pipe = make_pipeline(\n",
    "    StandardScaler(), SimpleImputer(strategy=\"mean\", add_indicator=True)\n",
    ")\n",
    "cat_pipe = make_pipeline(\n",
    "    SimpleImputer(strategy=\"constant\", fill_value=\"missing\"),\n",
    ")"
   ]
  },
  {
   "cell_type": "code",
   "execution_count": 32,
   "id": "49864233",
   "metadata": {},
   "outputs": [],
   "source": [
    "from sklearn.compose import make_column_transformer\n",
    "from sklearn.compose import make_column_selector as selector\n",
    "\n",
    "preprocessor_linear = make_column_transformer(\n",
    "    (num_pipe, selector(dtype_include=\"number\")),\n",
    "    (cat_pipe, selector(dtype_include=\"category\")),\n",
    "    n_jobs=2,\n",
    ")"
   ]
  },
  {
   "cell_type": "code",
   "execution_count": 33,
   "id": "cb9e616a",
   "metadata": {},
   "outputs": [],
   "source": [
    "from sklearn.linear_model import LogisticRegression\n",
    "\n",
    "lr_clf = make_pipeline(preprocessor_linear, LogisticRegression(max_iter=1000))"
   ]
  },
  {
   "cell_type": "code",
   "execution_count": 34,
   "id": "e7adb8d2",
   "metadata": {},
   "outputs": [
    {
     "data": {
      "text/html": [
       "<div>\n",
       "<style scoped>\n",
       "    .dataframe tbody tr th:only-of-type {\n",
       "        vertical-align: middle;\n",
       "    }\n",
       "\n",
       "    .dataframe tbody tr th {\n",
       "        vertical-align: top;\n",
       "    }\n",
       "\n",
       "    .dataframe thead th {\n",
       "        text-align: right;\n",
       "    }\n",
       "</style>\n",
       "<table border=\"1\" class=\"dataframe\">\n",
       "  <thead>\n",
       "    <tr style=\"text-align: right;\">\n",
       "      <th></th>\n",
       "      <th>Accuracy</th>\n",
       "      <th>Balanced accuracy</th>\n",
       "    </tr>\n",
       "  </thead>\n",
       "  <tbody>\n",
       "    <tr>\n",
       "      <th>Dummy classifier</th>\n",
       "      <td>0.919270</td>\n",
       "      <td>0.500000</td>\n",
       "    </tr>\n",
       "    <tr>\n",
       "      <th>Logistic regression</th>\n",
       "      <td>0.919205</td>\n",
       "      <td>0.515558</td>\n",
       "    </tr>\n",
       "  </tbody>\n",
       "</table>\n",
       "</div>"
      ],
      "text/plain": [
       "                     Accuracy  Balanced accuracy\n",
       "Dummy classifier     0.919270           0.500000\n",
       "Logistic regression  0.919205           0.515558"
      ]
     },
     "execution_count": 34,
     "metadata": {},
     "output_type": "execute_result"
    }
   ],
   "source": [
    "index += [\"Logistic regression\"]\n",
    "cv_result = cross_validate(lr_clf, x_train, y_train, scoring=scoring)\n",
    "scores[\"Accuracy\"].append(cv_result[\"test_accuracy\"].mean())\n",
    "scores[\"Balanced accuracy\"].append(cv_result[\"test_balanced_accuracy\"].mean())\n",
    "\n",
    "df_scores = pd.DataFrame(scores, index=index)\n",
    "df_scores"
   ]
  },
  {
   "cell_type": "markdown",
   "id": "becd2a08",
   "metadata": {},
   "source": [
    "We can see that our linear model not perform better than our dummy baseline. It is as well impacted by the class imbalance.\n",
    "\n",
    "We can verify that something similar is happening with a tree-based model such as **RandomForestClassifier**. With this type of classifier, we will not need to scale the numerical data, and we will only need to ordinal encode the categorical data."
   ]
  },
  {
   "cell_type": "code",
   "execution_count": 35,
   "id": "676b3a28",
   "metadata": {},
   "outputs": [],
   "source": [
    "from sklearn.preprocessing import OrdinalEncoder\n",
    "from sklearn.ensemble import RandomForestClassifier\n",
    "\n",
    "num_pipe = SimpleImputer(strategy=\"mean\", add_indicator=True)\n",
    "cat_pipe = make_pipeline(\n",
    "    SimpleImputer(strategy=\"constant\", fill_value=\"missing\"),\n",
    ")\n",
    "\n",
    "preprocessor_tree = make_column_transformer(\n",
    "    (num_pipe, selector(dtype_include=\"number\")),\n",
    "    (cat_pipe, selector(dtype_include=\"category\")),\n",
    "    n_jobs=2,\n",
    ")\n",
    "\n",
    "rf_clf = make_pipeline(\n",
    "    preprocessor_tree, RandomForestClassifier(random_state=42, n_jobs=2)\n",
    ")"
   ]
  },
  {
   "cell_type": "code",
   "execution_count": 36,
   "id": "0258681d",
   "metadata": {},
   "outputs": [
    {
     "data": {
      "text/html": [
       "<div>\n",
       "<style scoped>\n",
       "    .dataframe tbody tr th:only-of-type {\n",
       "        vertical-align: middle;\n",
       "    }\n",
       "\n",
       "    .dataframe tbody tr th {\n",
       "        vertical-align: top;\n",
       "    }\n",
       "\n",
       "    .dataframe thead th {\n",
       "        text-align: right;\n",
       "    }\n",
       "</style>\n",
       "<table border=\"1\" class=\"dataframe\">\n",
       "  <thead>\n",
       "    <tr style=\"text-align: right;\">\n",
       "      <th></th>\n",
       "      <th>Accuracy</th>\n",
       "      <th>Balanced accuracy</th>\n",
       "    </tr>\n",
       "  </thead>\n",
       "  <tbody>\n",
       "    <tr>\n",
       "      <th>Dummy classifier</th>\n",
       "      <td>0.919270</td>\n",
       "      <td>0.500000</td>\n",
       "    </tr>\n",
       "    <tr>\n",
       "      <th>Logistic regression</th>\n",
       "      <td>0.919205</td>\n",
       "      <td>0.515558</td>\n",
       "    </tr>\n",
       "    <tr>\n",
       "      <th>Random forest</th>\n",
       "      <td>0.919335</td>\n",
       "      <td>0.500701</td>\n",
       "    </tr>\n",
       "  </tbody>\n",
       "</table>\n",
       "</div>"
      ],
      "text/plain": [
       "                     Accuracy  Balanced accuracy\n",
       "Dummy classifier     0.919270           0.500000\n",
       "Logistic regression  0.919205           0.515558\n",
       "Random forest        0.919335           0.500701"
      ]
     },
     "execution_count": 36,
     "metadata": {},
     "output_type": "execute_result"
    }
   ],
   "source": [
    "index += [\"Random forest\"]\n",
    "cv_result = cross_validate(rf_clf, x_train, y_train, scoring=scoring)\n",
    "scores[\"Accuracy\"].append(cv_result[\"test_accuracy\"].mean())\n",
    "scores[\"Balanced accuracy\"].append(cv_result[\"test_balanced_accuracy\"].mean())\n",
    "\n",
    "df_scores = pd.DataFrame(scores, index=index)\n",
    "df_scores"
   ]
  },
  {
   "cell_type": "markdown",
   "id": "ac6bd158",
   "metadata": {},
   "source": [
    "The **RandomForestClassifier** is as well affected by the class imbalanced, slightly less than the linear model. Now, we will present different approach to improve the performance of these 2 models."
   ]
  },
  {
   "cell_type": "markdown",
   "id": "d847bbb9",
   "metadata": {},
   "source": [
    "### 2.4.4 Use class_weight\n",
    "\n",
    "**Most of the models in scikit-learn have a parameter class_weight**. This parameter will affect the computation of the loss in linear model or the criterion in the tree-based model to penalize differently a false classification from the minority and majority class. We can set **class_weight=\"balanced\" such that the weight applied is inversely proportional to the class frequency**. We test this parametrization in both linear model and tree-based model. [1](https://imbalanced-learn.org/stable/auto_examples/applications/plot_impact_imbalanced_classes.html)"
   ]
  },
  {
   "cell_type": "markdown",
   "id": "939b2eea",
   "metadata": {},
   "source": [
    "\n",
    "### 2.4.4.1 Let's create and evaluate our **LogisticRegression** classifier using class_weight."
   ]
  },
  {
   "cell_type": "code",
   "execution_count": 37,
   "id": "fcbbebb5",
   "metadata": {},
   "outputs": [
    {
     "data": {
      "text/html": [
       "<div>\n",
       "<style scoped>\n",
       "    .dataframe tbody tr th:only-of-type {\n",
       "        vertical-align: middle;\n",
       "    }\n",
       "\n",
       "    .dataframe tbody tr th {\n",
       "        vertical-align: top;\n",
       "    }\n",
       "\n",
       "    .dataframe thead th {\n",
       "        text-align: right;\n",
       "    }\n",
       "</style>\n",
       "<table border=\"1\" class=\"dataframe\">\n",
       "  <thead>\n",
       "    <tr style=\"text-align: right;\">\n",
       "      <th></th>\n",
       "      <th>Accuracy</th>\n",
       "      <th>Balanced accuracy</th>\n",
       "    </tr>\n",
       "  </thead>\n",
       "  <tbody>\n",
       "    <tr>\n",
       "      <th>Dummy classifier</th>\n",
       "      <td>0.919270</td>\n",
       "      <td>0.500000</td>\n",
       "    </tr>\n",
       "    <tr>\n",
       "      <th>Logistic regression</th>\n",
       "      <td>0.919205</td>\n",
       "      <td>0.515558</td>\n",
       "    </tr>\n",
       "    <tr>\n",
       "      <th>Random forest</th>\n",
       "      <td>0.919335</td>\n",
       "      <td>0.500701</td>\n",
       "    </tr>\n",
       "    <tr>\n",
       "      <th>Logistic regression with balanced class weights</th>\n",
       "      <td>0.709181</td>\n",
       "      <td>0.704029</td>\n",
       "    </tr>\n",
       "  </tbody>\n",
       "</table>\n",
       "</div>"
      ],
      "text/plain": [
       "                                                 Accuracy  Balanced accuracy\n",
       "Dummy classifier                                 0.919270           0.500000\n",
       "Logistic regression                              0.919205           0.515558\n",
       "Random forest                                    0.919335           0.500701\n",
       "Logistic regression with balanced class weights  0.709181           0.704029"
      ]
     },
     "execution_count": 37,
     "metadata": {},
     "output_type": "execute_result"
    }
   ],
   "source": [
    "lr_clf.set_params(logisticregression__class_weight=\"balanced\")\n",
    "\n",
    "index += [\"Logistic regression with balanced class weights\"]\n",
    "cv_result = cross_validate(lr_clf, x_train, y_train, scoring=scoring)\n",
    "scores[\"Accuracy\"].append(cv_result[\"test_accuracy\"].mean())\n",
    "scores[\"Balanced accuracy\"].append(cv_result[\"test_balanced_accuracy\"].mean())\n",
    "\n",
    "df_scores = pd.DataFrame(scores, index=index)\n",
    "df_scores"
   ]
  },
  {
   "cell_type": "markdown",
   "id": "0ddce060",
   "metadata": {},
   "source": [
    "\n",
    "### 2.4.4.2 Let's create and evaluate our **Randomforestclassifier** classifier using class_weight."
   ]
  },
  {
   "cell_type": "code",
   "execution_count": 38,
   "id": "f85bbe7b",
   "metadata": {},
   "outputs": [
    {
     "data": {
      "text/html": [
       "<div>\n",
       "<style scoped>\n",
       "    .dataframe tbody tr th:only-of-type {\n",
       "        vertical-align: middle;\n",
       "    }\n",
       "\n",
       "    .dataframe tbody tr th {\n",
       "        vertical-align: top;\n",
       "    }\n",
       "\n",
       "    .dataframe thead th {\n",
       "        text-align: right;\n",
       "    }\n",
       "</style>\n",
       "<table border=\"1\" class=\"dataframe\">\n",
       "  <thead>\n",
       "    <tr style=\"text-align: right;\">\n",
       "      <th></th>\n",
       "      <th>Accuracy</th>\n",
       "      <th>Balanced accuracy</th>\n",
       "    </tr>\n",
       "  </thead>\n",
       "  <tbody>\n",
       "    <tr>\n",
       "      <th>Dummy classifier</th>\n",
       "      <td>0.919270</td>\n",
       "      <td>0.500000</td>\n",
       "    </tr>\n",
       "    <tr>\n",
       "      <th>Logistic regression</th>\n",
       "      <td>0.919205</td>\n",
       "      <td>0.515558</td>\n",
       "    </tr>\n",
       "    <tr>\n",
       "      <th>Random forest</th>\n",
       "      <td>0.919335</td>\n",
       "      <td>0.500701</td>\n",
       "    </tr>\n",
       "    <tr>\n",
       "      <th>Logistic regression with balanced class weights</th>\n",
       "      <td>0.709181</td>\n",
       "      <td>0.704029</td>\n",
       "    </tr>\n",
       "    <tr>\n",
       "      <th>Random forest with balanced class weights</th>\n",
       "      <td>0.919278</td>\n",
       "      <td>0.500785</td>\n",
       "    </tr>\n",
       "  </tbody>\n",
       "</table>\n",
       "</div>"
      ],
      "text/plain": [
       "                                                 Accuracy  Balanced accuracy\n",
       "Dummy classifier                                 0.919270           0.500000\n",
       "Logistic regression                              0.919205           0.515558\n",
       "Random forest                                    0.919335           0.500701\n",
       "Logistic regression with balanced class weights  0.709181           0.704029\n",
       "Random forest with balanced class weights        0.919278           0.500785"
      ]
     },
     "execution_count": 38,
     "metadata": {},
     "output_type": "execute_result"
    }
   ],
   "source": [
    "rf_clf.set_params(randomforestclassifier__class_weight=\"balanced\")\n",
    "\n",
    "index += [\"Random forest with balanced class weights\"]\n",
    "cv_result = cross_validate(rf_clf, x_train, y_train, scoring=scoring)\n",
    "scores[\"Accuracy\"].append(cv_result[\"test_accuracy\"].mean())\n",
    "scores[\"Balanced accuracy\"].append(cv_result[\"test_balanced_accuracy\"].mean())\n",
    "\n",
    "df_scores = pd.DataFrame(scores, index=index)\n",
    "df_scores"
   ]
  },
  {
   "cell_type": "markdown",
   "id": "b92f214b",
   "metadata": {},
   "source": [
    "We can see that **using class_weight was really effective for the linear model**, alleviating the issue of learning from imbalanced classes. **However, the RandomForestClassifier is still biased toward the majority class, mainly due to the criterion which is not suited enough to fight the class imbalance**."
   ]
  },
  {
   "cell_type": "code",
   "execution_count": null,
   "id": "eb575963",
   "metadata": {},
   "outputs": [],
   "source": []
  },
  {
   "cell_type": "code",
   "execution_count": null,
   "id": "8e0be390",
   "metadata": {},
   "outputs": [],
   "source": []
  },
  {
   "cell_type": "code",
   "execution_count": 39,
   "id": "3fdfa343",
   "metadata": {},
   "outputs": [],
   "source": [
    "rf_clf.set_params(randomforestclassifier__class_weight=\"balanced\")\n",
    "clf = rf_clf.fit(x_train, y_train)\n",
    "Y_Test_Pred = clf.predict(x_test)"
   ]
  },
  {
   "cell_type": "code",
   "execution_count": 40,
   "id": "3eb88b7a",
   "metadata": {},
   "outputs": [
    {
     "name": "stdout",
     "output_type": "stream",
     "text": [
      "Test Accuracy score , Precision metrics\n",
      "Accuracy = 0.919190\n",
      "Precision = 0.380952\n",
      "Recall = 0.001611\n",
      "F1 Score = 0.003209\n",
      "ROCAUC :0.500691\n"
     ]
    }
   ],
   "source": [
    "from sklearn.metrics import precision_score, recall_score, confusion_matrix\n",
    "from sklearn.metrics import f1_score, roc_auc_score, roc_curve\n",
    "\n",
    "generate_model_report(y_test, Y_Test_Pred)"
   ]
  },
  {
   "cell_type": "code",
   "execution_count": 41,
   "id": "b3bf715a",
   "metadata": {},
   "outputs": [
    {
     "data": {
      "image/png": "[encoded data removed]",
      "text/plain": [
       "<Figure size 432x288 with 1 Axes>"
      ]
     },
     "metadata": {
      "needs_background": "light"
     },
     "output_type": "display_data"
    }
   ],
   "source": [
    "generate_auc_roc_curve(clf, x_test, y_test)"
   ]
  },
  {
   "cell_type": "markdown",
   "id": "ba3dc966",
   "metadata": {},
   "source": [
    "### 2.5 Confusion Matrix\n",
    "For binary and multi-class classification problems, confusion matrix is another metrics which helps in indentifying which classes are easy to predict and which are hard to predict. It provides how many samples for each class are correctly classified and how many are confused with other classes.[1](https://coderzcolumn.com/tutorials/machine-learning/model-evaluation-scoring-metrics-scikit-learn-sklearn)"
   ]
  },
  {
   "cell_type": "code",
   "execution_count": 42,
   "id": "b6fde727",
   "metadata": {},
   "outputs": [
    {
     "name": "stdout",
     "output_type": "stream",
     "text": [
      "[[56524    13]\n",
      " [ 4957     8]]\n"
     ]
    }
   ],
   "source": [
    "from sklearn.metrics import confusion_matrix\n",
    "import itertools\n",
    "\n",
    "# conf_mat = confusion_matrix(y_test, y_preds)\n",
    "conf_mat = confusion_matrix(y_test, Y_Test_Pred)\n",
    "\n",
    "\n",
    "print(conf_mat)"
   ]
  },
  {
   "cell_type": "markdown",
   "id": "46530619",
   "metadata": {},
   "source": [
    "**Confusion Matrix** for binary classification problems has the below-mentioned structure.[1](https://coderzcolumn.com/tutorials/machine-learning/model-evaluation-scoring-metrics-scikit-learn-sklearn)\n",
    "\n",
    "[[TN, FP ]\n",
    "\n",
    "[FN, TP ]]\n",
    "\n",
    "**TN** refers to True Negative which is the count of labels which were originally belonged to negative class and model also predicted them as negative.<br>\n",
    "**FP** refers to False positive which is the count of labels which were actually belonged to negative class but model predicted them as positive.<br>\n",
    "**FN** refers to False Negative which is the count of labels which were actually belonged to Positive Class but model predicted them as negative.<br>\n",
    "**TP** refers to True Positive which is the count of labels predicted positive which were actually positive.\n",
    "Below we are plotting the confusion matrix as it helps in interpreting results fast."
   ]
  },
  {
   "cell_type": "code",
   "execution_count": 43,
   "id": "118371ad",
   "metadata": {},
   "outputs": [
    {
     "data": {
      "image/png": "[encoded data removed]",
      "text/plain": [
       "<Figure size 432x432 with 2 Axes>"
      ]
     },
     "metadata": {},
     "output_type": "display_data"
    }
   ],
   "source": [
    "with plt.style.context(('ggplot', 'seaborn')):\n",
    "    fig = plt.figure(figsize=(6,6), num=1)\n",
    "    plt.imshow(conf_mat, interpolation='nearest',cmap= plt.cm.Blues )\n",
    "    plt.xticks([0,1],[0,1])\n",
    "    plt.yticks([0,1],[0,1])\n",
    "    plt.xlabel('Predicted Label')\n",
    "    plt.ylabel('Actual Label')\n",
    "    for i, j in itertools.product(range(conf_mat.shape[0]), range(conf_mat.shape[1])):\n",
    "                plt.text(j, i,conf_mat[i, j], horizontalalignment=\"center\",color=\"red\")\n",
    "    plt.grid(None)\n",
    "    plt.title('Confusion Matrix')\n",
    "    plt.colorbar();"
   ]
  },
  {
   "cell_type": "markdown",
   "id": "46f0feb5",
   "metadata": {},
   "source": [
    "### 3.3 Model Selection (PyCaret)\n",
    "We'll use PyCaret to proceed to a fast spot checking of different classification models.\n",
    "\n",
    "references:\n",
    "[1](https://pycaret.gitbook.io/docs/get-started/installation),\n",
    "[2](https://pycaret.gitbook.io/docs/get-started/quickstart),\n",
    "[3](https://github.com/pycaret/pycaret/blob/master/examples/Fetal%20State%20Classification%20Tutorial%20-FSC101.ipynb)\n",
    "[setup](https://pycaret.readthedocs.io/en/latest/api/classification.html)"
   ]
  },
  {
   "cell_type": "markdown",
   "id": "26ae6f8e",
   "metadata": {},
   "source": [
    "### 3.3.1 Laoding data"
   ]
  },
  {
   "cell_type": "code",
   "execution_count": 44,
   "id": "4795cd08",
   "metadata": {},
   "outputs": [],
   "source": [
    "def load_file():\n",
    "    with timer(\"start reading data...\"):\n",
    "        df = pd.read_csv('../notebook/out.csv')\n",
    "    \n",
    "    # set new index\n",
    "    df.set_index('SK_ID_CURR', inplace = True)\n",
    "\n",
    "    # clean up, remove infinite and replace NaN values\n",
    "    # use mean() to fill missing values\n",
    "    df = infinity_na_values_table(df, fill_method=4)\n",
    "    df.head()\n",
    "\n",
    "    # Divide in training/validation and test data\n",
    "    train_df = df[df['TARGET'] != 3]\n",
    "    test_df = df[df['TARGET'] == 3].drop(['TARGET'], axis=1)\n",
    "    print(\"Starting LightGBM. Train shape: {}, test shape: {}\".format(train_df.shape, test_df.shape))\n",
    "\n",
    "    ##### Pandas Get a List Of All Data Frames loaded into memory\n",
    "    %who_ls DataFrame \n",
    "\n",
    "    ##### Pandas Get a List Of All Data Frames loaded into memory\n",
    "    %who_ls DataFrame\n",
    "    X_train = train_df.drop(['TARGET'], axis=1)\n",
    "    Y_train = train_df['TARGET']\n",
    "    X_test = test_df\n",
    "    del df\n",
    "    %who_ls DataFrame \n",
    "\n",
    "    print('Dataset Train/Test Sizes  : ',X_train.shape, Y_train.shape, X_test.shape)\n",
    "\n",
    "    from sklearn.model_selection import train_test_split\n",
    "\n",
    "    # Splitting a training set and a test set\n",
    "    x_train, x_test, y_train, y_test = train_test_split(X_train, Y_train,\n",
    "                                              train_size=0.8, shuffle=True,\n",
    "                                              stratify=Y_train,\n",
    "                                              random_state=14)\n",
    "\n",
    "    print()\n",
    "    print('Dataset X Train Sizes : ', x_train.shape)\n",
    "    print('Dataset X Test Sizes  : ', x_test.shape, )\n",
    "    print('Dataset Y Train Sizes  : ', y_train.shape)\n",
    "    print('Dataset Y Test Sizes  : ', y_test.shape)\n",
    "    \n",
    "    return x_train, x_test, y_train, y_test"
   ]
  },
  {
   "cell_type": "code",
   "execution_count": 45,
   "id": "4ce99d12",
   "metadata": {
    "scrolled": false
   },
   "outputs": [
    {
     "name": "stdout",
     "output_type": "stream",
     "text": [
      "start reading data... - done in 53s\n",
      "\n",
      "checking for infinity\n",
      "\n",
      "printing the count of infinity values\n",
      "It contains 21 infinite values\n",
      "\n",
      "printing column name where infinity is present\n",
      "PREV_APP_CREDIT_PERC_MAX          PREV_APP_CREDIT_PERC_MAX\n",
      "REFUSED_APP_CREDIT_PERC_MAX    REFUSED_APP_CREDIT_PERC_MAX\n",
      "INSTAL_PAYMENT_PERC_MAX            INSTAL_PAYMENT_PERC_MAX\n",
      "dtype: object\n",
      "\n",
      "printing row index with infinity \n",
      "Int64Index([106652, 170117, 191663, 203360, 214375, 247019, 249387, 262837,\n",
      "            276278, 293754, 330828, 333092, 373540, 376062, 416262, 422089,\n",
      "            432795, 439267, 453803, 119813],\n",
      "           dtype='int64', name='SK_ID_CURR')\n",
      "\n",
      "printing the count of Nan values\n",
      "It contains 72051237 NaN values\n",
      "\n",
      "No. of columns not containing null values\n",
      "180\n",
      "\n",
      "printing column name where NaN is present\n",
      "AMT_ANNUITY                                              AMT_ANNUITY\n",
      "AMT_GOODS_PRICE                                      AMT_GOODS_PRICE\n",
      "DAYS_EMPLOYED                                          DAYS_EMPLOYED\n",
      "OWN_CAR_AGE                                              OWN_CAR_AGE\n",
      "CNT_FAM_MEMBERS                                      CNT_FAM_MEMBERS\n",
      "                                                  ...               \n",
      "CC_NAME_CONTRACT_STATUS_nan_MAX      CC_NAME_CONTRACT_STATUS_nan_MAX\n",
      "CC_NAME_CONTRACT_STATUS_nan_MEAN    CC_NAME_CONTRACT_STATUS_nan_MEAN\n",
      "CC_NAME_CONTRACT_STATUS_nan_SUM      CC_NAME_CONTRACT_STATUS_nan_SUM\n",
      "CC_NAME_CONTRACT_STATUS_nan_VAR      CC_NAME_CONTRACT_STATUS_nan_VAR\n",
      "CC_COUNT                                                    CC_COUNT\n",
      "Length: 616, dtype: object\n",
      "°°°°°°°°°°°°______________°°°°°°°°°°°°\n",
      "Filling null value with the mean \n",
      "\n",
      "printing the count of infinity values\n",
      "It contains 0 infinite values\n",
      "\n",
      "printing the count of Nan values\n",
      "It contains 0 NaN values\n",
      "Starting LightGBM. Train shape: (307507, 796), test shape: (48744, 795)\n",
      "Dataset Train/Test Sizes  :  (307507, 795) (307507,) (48744, 795)\n",
      "\n",
      "Dataset X Train Sizes :  (246005, 795)\n",
      "Dataset X Test Sizes  :  (61502, 795)\n",
      "Dataset Y Train Sizes  :  (246005,)\n",
      "Dataset Y Test Sizes  :  (61502,)\n"
     ]
    }
   ],
   "source": [
    "x_train, x_test, y_train, y_test, data_unseen = load_file()"
   ]
  },
  {
   "cell_type": "code",
   "execution_count": null,
   "id": "0ba04504",
   "metadata": {},
   "outputs": [],
   "source": []
  },
  {
   "cell_type": "markdown",
   "id": "662ff76b",
   "metadata": {},
   "source": [
    "### 3.3.2 Start processing pycaret"
   ]
  },
  {
   "cell_type": "code",
   "execution_count": 4,
   "id": "e745e284",
   "metadata": {},
   "outputs": [
    {
     "name": "stdout",
     "output_type": "stream",
     "text": [
      "PyCaret: 2.3.10\n"
     ]
    }
   ],
   "source": [
    "# check pycaret version\n",
    "\n",
    "import pycaret\n",
    "print('PyCaret: %s' % pycaret.__version__)\n",
    "from pycaret.classification import *"
   ]
  },
  {
   "cell_type": "markdown",
   "id": "4d2adf1a",
   "metadata": {},
   "source": [
    "#### Setting up the dataset"
   ]
  },
  {
   "cell_type": "code",
   "execution_count": 47,
   "id": "8d2373c9",
   "metadata": {},
   "outputs": [
    {
     "name": "stdout",
     "output_type": "stream",
     "text": [
      "Data for Modeling: (233705, 795)\n",
      "Unseen Data For Predictions: (12300, 795)\n"
     ]
    }
   ],
   "source": [
    "import numpy as np\n",
    "import pandas as pd\n",
    "\n",
    "\n",
    "## sample returns a random sample from an axis of the object. That would be 22,800 samples, not 24,000\n",
    "x_train_seen = x_train.sample(frac=0.95, random_state=786)\n",
    "x_train_seen\n",
    "\n",
    "# we remove from the original dataset this random data\n",
    "data_unseen = x_train.drop(x_train_seen.index)\n",
    "data_unseen\n",
    "\n",
    "## we reset the index of both datasets\n",
    "x_train_seen.reset_index(inplace=True, drop=True)\n",
    "data_unseen.reset_index(inplace=True, drop=True)\n",
    "print('Data for Modeling: ' + str(x_train_seen.shape))\n",
    "print('Unseen Data For Predictions: ' + str(data_unseen.shape))"
   ]
  },
  {
   "cell_type": "code",
   "execution_count": null,
   "id": "80903f24",
   "metadata": {},
   "outputs": [],
   "source": [
    "# setup the dataset\n",
    "\n",
    "# Setting up the classifier\n",
    "# Pass the complete dataset as data and the featured to be predicted as target\n",
    "# clf=setup(data=data,target='TARGET')\n",
    "data = pd.concat([x_train, y_train"
   ]
  },
  {
   "cell_type": "code",
   "execution_count": null,
   "id": "b61246e3",
   "metadata": {},
   "outputs": [],
   "source": []
  },
  {
   "cell_type": "code",
   "execution_count": 49,
   "id": "99f9d103",
   "metadata": {},
   "outputs": [
    {
     "data": {
      "text/html": [
       "<style type=\"text/css\">\n",
       "#T_c8da2_row44_col1, #T_c8da2_row58_col1 {\n",
       "  background-color: lightgreen;\n",
       "}\n",
       "</style>\n",
       "<table id=\"T_c8da2_\">\n",
       "  <thead>\n",
       "    <tr>\n",
       "      <th class=\"blank level0\" >&nbsp;</th>\n",
       "      <th class=\"col_heading level0 col0\" >Description</th>\n",
       "      <th class=\"col_heading level0 col1\" >Value</th>\n",
       "    </tr>\n",
       "  </thead>\n",
       "  <tbody>\n",
       "    <tr>\n",
       "      <th id=\"T_c8da2_level0_row0\" class=\"row_heading level0 row0\" >0</th>\n",
       "      <td id=\"T_c8da2_row0_col0\" class=\"data row0 col0\" >session_id</td>\n",
       "      <td id=\"T_c8da2_row0_col1\" class=\"data row0 col1\" >1626</td>\n",
       "    </tr>\n",
       "    <tr>\n",
       "      <th id=\"T_c8da2_level0_row1\" class=\"row_heading level0 row1\" >1</th>\n",
       "      <td id=\"T_c8da2_row1_col0\" class=\"data row1 col0\" >Target</td>\n",
       "      <td id=\"T_c8da2_row1_col1\" class=\"data row1 col1\" >TARGET</td>\n",
       "    </tr>\n",
       "    <tr>\n",
       "      <th id=\"T_c8da2_level0_row2\" class=\"row_heading level0 row2\" >2</th>\n",
       "      <td id=\"T_c8da2_row2_col0\" class=\"data row2 col0\" >Target Type</td>\n",
       "      <td id=\"T_c8da2_row2_col1\" class=\"data row2 col1\" >Binary</td>\n",
       "    </tr>\n",
       "    <tr>\n",
       "      <th id=\"T_c8da2_level0_row3\" class=\"row_heading level0 row3\" >3</th>\n",
       "      <td id=\"T_c8da2_row3_col0\" class=\"data row3 col0\" >Label Encoded</td>\n",
       "      <td id=\"T_c8da2_row3_col1\" class=\"data row3 col1\" >0.0: 0, 1.0: 1</td>\n",
       "    </tr>\n",
       "    <tr>\n",
       "      <th id=\"T_c8da2_level0_row4\" class=\"row_heading level0 row4\" >4</th>\n",
       "      <td id=\"T_c8da2_row4_col0\" class=\"data row4 col0\" >Original Data</td>\n",
       "      <td id=\"T_c8da2_row4_col1\" class=\"data row4 col1\" >(246005, 796)</td>\n",
       "    </tr>\n",
       "    <tr>\n",
       "      <th id=\"T_c8da2_level0_row5\" class=\"row_heading level0 row5\" >5</th>\n",
       "      <td id=\"T_c8da2_row5_col0\" class=\"data row5 col0\" >Missing Values</td>\n",
       "      <td id=\"T_c8da2_row5_col1\" class=\"data row5 col1\" >False</td>\n",
       "    </tr>\n",
       "    <tr>\n",
       "      <th id=\"T_c8da2_level0_row6\" class=\"row_heading level0 row6\" >6</th>\n",
       "      <td id=\"T_c8da2_row6_col0\" class=\"data row6 col0\" >Numeric Features</td>\n",
       "      <td id=\"T_c8da2_row6_col1\" class=\"data row6 col1\" >618</td>\n",
       "    </tr>\n",
       "    <tr>\n",
       "      <th id=\"T_c8da2_level0_row7\" class=\"row_heading level0 row7\" >7</th>\n",
       "      <td id=\"T_c8da2_row7_col0\" class=\"data row7 col0\" >Categorical Features</td>\n",
       "      <td id=\"T_c8da2_row7_col1\" class=\"data row7 col1\" >177</td>\n",
       "    </tr>\n",
       "    <tr>\n",
       "      <th id=\"T_c8da2_level0_row8\" class=\"row_heading level0 row8\" >8</th>\n",
       "      <td id=\"T_c8da2_row8_col0\" class=\"data row8 col0\" >Ordinal Features</td>\n",
       "      <td id=\"T_c8da2_row8_col1\" class=\"data row8 col1\" >False</td>\n",
       "    </tr>\n",
       "    <tr>\n",
       "      <th id=\"T_c8da2_level0_row9\" class=\"row_heading level0 row9\" >9</th>\n",
       "      <td id=\"T_c8da2_row9_col0\" class=\"data row9 col0\" >High Cardinality Features</td>\n",
       "      <td id=\"T_c8da2_row9_col1\" class=\"data row9 col1\" >False</td>\n",
       "    </tr>\n",
       "    <tr>\n",
       "      <th id=\"T_c8da2_level0_row10\" class=\"row_heading level0 row10\" >10</th>\n",
       "      <td id=\"T_c8da2_row10_col0\" class=\"data row10 col0\" >High Cardinality Method</td>\n",
       "      <td id=\"T_c8da2_row10_col1\" class=\"data row10 col1\" >None</td>\n",
       "    </tr>\n",
       "    <tr>\n",
       "      <th id=\"T_c8da2_level0_row11\" class=\"row_heading level0 row11\" >11</th>\n",
       "      <td id=\"T_c8da2_row11_col0\" class=\"data row11 col0\" >Transformed Train Set</td>\n",
       "      <td id=\"T_c8da2_row11_col1\" class=\"data row11 col1\" >(172203, 750)</td>\n",
       "    </tr>\n",
       "    <tr>\n",
       "      <th id=\"T_c8da2_level0_row12\" class=\"row_heading level0 row12\" >12</th>\n",
       "      <td id=\"T_c8da2_row12_col0\" class=\"data row12 col0\" >Transformed Test Set</td>\n",
       "      <td id=\"T_c8da2_row12_col1\" class=\"data row12 col1\" >(73802, 750)</td>\n",
       "    </tr>\n",
       "    <tr>\n",
       "      <th id=\"T_c8da2_level0_row13\" class=\"row_heading level0 row13\" >13</th>\n",
       "      <td id=\"T_c8da2_row13_col0\" class=\"data row13 col0\" >Shuffle Train-Test</td>\n",
       "      <td id=\"T_c8da2_row13_col1\" class=\"data row13 col1\" >True</td>\n",
       "    </tr>\n",
       "    <tr>\n",
       "      <th id=\"T_c8da2_level0_row14\" class=\"row_heading level0 row14\" >14</th>\n",
       "      <td id=\"T_c8da2_row14_col0\" class=\"data row14 col0\" >Stratify Train-Test</td>\n",
       "      <td id=\"T_c8da2_row14_col1\" class=\"data row14 col1\" >False</td>\n",
       "    </tr>\n",
       "    <tr>\n",
       "      <th id=\"T_c8da2_level0_row15\" class=\"row_heading level0 row15\" >15</th>\n",
       "      <td id=\"T_c8da2_row15_col0\" class=\"data row15 col0\" >Fold Generator</td>\n",
       "      <td id=\"T_c8da2_row15_col1\" class=\"data row15 col1\" >StratifiedKFold</td>\n",
       "    </tr>\n",
       "    <tr>\n",
       "      <th id=\"T_c8da2_level0_row16\" class=\"row_heading level0 row16\" >16</th>\n",
       "      <td id=\"T_c8da2_row16_col0\" class=\"data row16 col0\" >Fold Number</td>\n",
       "      <td id=\"T_c8da2_row16_col1\" class=\"data row16 col1\" >10</td>\n",
       "    </tr>\n",
       "    <tr>\n",
       "      <th id=\"T_c8da2_level0_row17\" class=\"row_heading level0 row17\" >17</th>\n",
       "      <td id=\"T_c8da2_row17_col0\" class=\"data row17 col0\" >CPU Jobs</td>\n",
       "      <td id=\"T_c8da2_row17_col1\" class=\"data row17 col1\" >-1</td>\n",
       "    </tr>\n",
       "    <tr>\n",
       "      <th id=\"T_c8da2_level0_row18\" class=\"row_heading level0 row18\" >18</th>\n",
       "      <td id=\"T_c8da2_row18_col0\" class=\"data row18 col0\" >Use GPU</td>\n",
       "      <td id=\"T_c8da2_row18_col1\" class=\"data row18 col1\" >False</td>\n",
       "    </tr>\n",
       "    <tr>\n",
       "      <th id=\"T_c8da2_level0_row19\" class=\"row_heading level0 row19\" >19</th>\n",
       "      <td id=\"T_c8da2_row19_col0\" class=\"data row19 col0\" >Log Experiment</td>\n",
       "      <td id=\"T_c8da2_row19_col1\" class=\"data row19 col1\" >False</td>\n",
       "    </tr>\n",
       "    <tr>\n",
       "      <th id=\"T_c8da2_level0_row20\" class=\"row_heading level0 row20\" >20</th>\n",
       "      <td id=\"T_c8da2_row20_col0\" class=\"data row20 col0\" >Experiment Name</td>\n",
       "      <td id=\"T_c8da2_row20_col1\" class=\"data row20 col1\" >clf-default-name</td>\n",
       "    </tr>\n",
       "    <tr>\n",
       "      <th id=\"T_c8da2_level0_row21\" class=\"row_heading level0 row21\" >21</th>\n",
       "      <td id=\"T_c8da2_row21_col0\" class=\"data row21 col0\" >USI</td>\n",
       "      <td id=\"T_c8da2_row21_col1\" class=\"data row21 col1\" >bf9e</td>\n",
       "    </tr>\n",
       "    <tr>\n",
       "      <th id=\"T_c8da2_level0_row22\" class=\"row_heading level0 row22\" >22</th>\n",
       "      <td id=\"T_c8da2_row22_col0\" class=\"data row22 col0\" >Imputation Type</td>\n",
       "      <td id=\"T_c8da2_row22_col1\" class=\"data row22 col1\" >simple</td>\n",
       "    </tr>\n",
       "    <tr>\n",
       "      <th id=\"T_c8da2_level0_row23\" class=\"row_heading level0 row23\" >23</th>\n",
       "      <td id=\"T_c8da2_row23_col0\" class=\"data row23 col0\" >Iterative Imputation Iteration</td>\n",
       "      <td id=\"T_c8da2_row23_col1\" class=\"data row23 col1\" >None</td>\n",
       "    </tr>\n",
       "    <tr>\n",
       "      <th id=\"T_c8da2_level0_row24\" class=\"row_heading level0 row24\" >24</th>\n",
       "      <td id=\"T_c8da2_row24_col0\" class=\"data row24 col0\" >Numeric Imputer</td>\n",
       "      <td id=\"T_c8da2_row24_col1\" class=\"data row24 col1\" >mean</td>\n",
       "    </tr>\n",
       "    <tr>\n",
       "      <th id=\"T_c8da2_level0_row25\" class=\"row_heading level0 row25\" >25</th>\n",
       "      <td id=\"T_c8da2_row25_col0\" class=\"data row25 col0\" >Iterative Imputation Numeric Model</td>\n",
       "      <td id=\"T_c8da2_row25_col1\" class=\"data row25 col1\" >None</td>\n",
       "    </tr>\n",
       "    <tr>\n",
       "      <th id=\"T_c8da2_level0_row26\" class=\"row_heading level0 row26\" >26</th>\n",
       "      <td id=\"T_c8da2_row26_col0\" class=\"data row26 col0\" >Categorical Imputer</td>\n",
       "      <td id=\"T_c8da2_row26_col1\" class=\"data row26 col1\" >constant</td>\n",
       "    </tr>\n",
       "    <tr>\n",
       "      <th id=\"T_c8da2_level0_row27\" class=\"row_heading level0 row27\" >27</th>\n",
       "      <td id=\"T_c8da2_row27_col0\" class=\"data row27 col0\" >Iterative Imputation Categorical Model</td>\n",
       "      <td id=\"T_c8da2_row27_col1\" class=\"data row27 col1\" >None</td>\n",
       "    </tr>\n",
       "    <tr>\n",
       "      <th id=\"T_c8da2_level0_row28\" class=\"row_heading level0 row28\" >28</th>\n",
       "      <td id=\"T_c8da2_row28_col0\" class=\"data row28 col0\" >Unknown Categoricals Handling</td>\n",
       "      <td id=\"T_c8da2_row28_col1\" class=\"data row28 col1\" >least_frequent</td>\n",
       "    </tr>\n",
       "    <tr>\n",
       "      <th id=\"T_c8da2_level0_row29\" class=\"row_heading level0 row29\" >29</th>\n",
       "      <td id=\"T_c8da2_row29_col0\" class=\"data row29 col0\" >Normalize</td>\n",
       "      <td id=\"T_c8da2_row29_col1\" class=\"data row29 col1\" >False</td>\n",
       "    </tr>\n",
       "    <tr>\n",
       "      <th id=\"T_c8da2_level0_row30\" class=\"row_heading level0 row30\" >30</th>\n",
       "      <td id=\"T_c8da2_row30_col0\" class=\"data row30 col0\" >Normalize Method</td>\n",
       "      <td id=\"T_c8da2_row30_col1\" class=\"data row30 col1\" >None</td>\n",
       "    </tr>\n",
       "    <tr>\n",
       "      <th id=\"T_c8da2_level0_row31\" class=\"row_heading level0 row31\" >31</th>\n",
       "      <td id=\"T_c8da2_row31_col0\" class=\"data row31 col0\" >Transformation</td>\n",
       "      <td id=\"T_c8da2_row31_col1\" class=\"data row31 col1\" >False</td>\n",
       "    </tr>\n",
       "    <tr>\n",
       "      <th id=\"T_c8da2_level0_row32\" class=\"row_heading level0 row32\" >32</th>\n",
       "      <td id=\"T_c8da2_row32_col0\" class=\"data row32 col0\" >Transformation Method</td>\n",
       "      <td id=\"T_c8da2_row32_col1\" class=\"data row32 col1\" >None</td>\n",
       "    </tr>\n",
       "    <tr>\n",
       "      <th id=\"T_c8da2_level0_row33\" class=\"row_heading level0 row33\" >33</th>\n",
       "      <td id=\"T_c8da2_row33_col0\" class=\"data row33 col0\" >PCA</td>\n",
       "      <td id=\"T_c8da2_row33_col1\" class=\"data row33 col1\" >False</td>\n",
       "    </tr>\n",
       "    <tr>\n",
       "      <th id=\"T_c8da2_level0_row34\" class=\"row_heading level0 row34\" >34</th>\n",
       "      <td id=\"T_c8da2_row34_col0\" class=\"data row34 col0\" >PCA Method</td>\n",
       "      <td id=\"T_c8da2_row34_col1\" class=\"data row34 col1\" >None</td>\n",
       "    </tr>\n",
       "    <tr>\n",
       "      <th id=\"T_c8da2_level0_row35\" class=\"row_heading level0 row35\" >35</th>\n",
       "      <td id=\"T_c8da2_row35_col0\" class=\"data row35 col0\" >PCA Components</td>\n",
       "      <td id=\"T_c8da2_row35_col1\" class=\"data row35 col1\" >None</td>\n",
       "    </tr>\n",
       "    <tr>\n",
       "      <th id=\"T_c8da2_level0_row36\" class=\"row_heading level0 row36\" >36</th>\n",
       "      <td id=\"T_c8da2_row36_col0\" class=\"data row36 col0\" >Ignore Low Variance</td>\n",
       "      <td id=\"T_c8da2_row36_col1\" class=\"data row36 col1\" >False</td>\n",
       "    </tr>\n",
       "    <tr>\n",
       "      <th id=\"T_c8da2_level0_row37\" class=\"row_heading level0 row37\" >37</th>\n",
       "      <td id=\"T_c8da2_row37_col0\" class=\"data row37 col0\" >Combine Rare Levels</td>\n",
       "      <td id=\"T_c8da2_row37_col1\" class=\"data row37 col1\" >False</td>\n",
       "    </tr>\n",
       "    <tr>\n",
       "      <th id=\"T_c8da2_level0_row38\" class=\"row_heading level0 row38\" >38</th>\n",
       "      <td id=\"T_c8da2_row38_col0\" class=\"data row38 col0\" >Rare Level Threshold</td>\n",
       "      <td id=\"T_c8da2_row38_col1\" class=\"data row38 col1\" >None</td>\n",
       "    </tr>\n",
       "    <tr>\n",
       "      <th id=\"T_c8da2_level0_row39\" class=\"row_heading level0 row39\" >39</th>\n",
       "      <td id=\"T_c8da2_row39_col0\" class=\"data row39 col0\" >Numeric Binning</td>\n",
       "      <td id=\"T_c8da2_row39_col1\" class=\"data row39 col1\" >False</td>\n",
       "    </tr>\n",
       "    <tr>\n",
       "      <th id=\"T_c8da2_level0_row40\" class=\"row_heading level0 row40\" >40</th>\n",
       "      <td id=\"T_c8da2_row40_col0\" class=\"data row40 col0\" >Remove Outliers</td>\n",
       "      <td id=\"T_c8da2_row40_col1\" class=\"data row40 col1\" >False</td>\n",
       "    </tr>\n",
       "    <tr>\n",
       "      <th id=\"T_c8da2_level0_row41\" class=\"row_heading level0 row41\" >41</th>\n",
       "      <td id=\"T_c8da2_row41_col0\" class=\"data row41 col0\" >Outliers Threshold</td>\n",
       "      <td id=\"T_c8da2_row41_col1\" class=\"data row41 col1\" >None</td>\n",
       "    </tr>\n",
       "    <tr>\n",
       "      <th id=\"T_c8da2_level0_row42\" class=\"row_heading level0 row42\" >42</th>\n",
       "      <td id=\"T_c8da2_row42_col0\" class=\"data row42 col0\" >Remove Multicollinearity</td>\n",
       "      <td id=\"T_c8da2_row42_col1\" class=\"data row42 col1\" >False</td>\n",
       "    </tr>\n",
       "    <tr>\n",
       "      <th id=\"T_c8da2_level0_row43\" class=\"row_heading level0 row43\" >43</th>\n",
       "      <td id=\"T_c8da2_row43_col0\" class=\"data row43 col0\" >Multicollinearity Threshold</td>\n",
       "      <td id=\"T_c8da2_row43_col1\" class=\"data row43 col1\" >None</td>\n",
       "    </tr>\n",
       "    <tr>\n",
       "      <th id=\"T_c8da2_level0_row44\" class=\"row_heading level0 row44\" >44</th>\n",
       "      <td id=\"T_c8da2_row44_col0\" class=\"data row44 col0\" >Remove Perfect Collinearity</td>\n",
       "      <td id=\"T_c8da2_row44_col1\" class=\"data row44 col1\" >True</td>\n",
       "    </tr>\n",
       "    <tr>\n",
       "      <th id=\"T_c8da2_level0_row45\" class=\"row_heading level0 row45\" >45</th>\n",
       "      <td id=\"T_c8da2_row45_col0\" class=\"data row45 col0\" >Clustering</td>\n",
       "      <td id=\"T_c8da2_row45_col1\" class=\"data row45 col1\" >False</td>\n",
       "    </tr>\n",
       "    <tr>\n",
       "      <th id=\"T_c8da2_level0_row46\" class=\"row_heading level0 row46\" >46</th>\n",
       "      <td id=\"T_c8da2_row46_col0\" class=\"data row46 col0\" >Clustering Iteration</td>\n",
       "      <td id=\"T_c8da2_row46_col1\" class=\"data row46 col1\" >None</td>\n",
       "    </tr>\n",
       "    <tr>\n",
       "      <th id=\"T_c8da2_level0_row47\" class=\"row_heading level0 row47\" >47</th>\n",
       "      <td id=\"T_c8da2_row47_col0\" class=\"data row47 col0\" >Polynomial Features</td>\n",
       "      <td id=\"T_c8da2_row47_col1\" class=\"data row47 col1\" >False</td>\n",
       "    </tr>\n",
       "    <tr>\n",
       "      <th id=\"T_c8da2_level0_row48\" class=\"row_heading level0 row48\" >48</th>\n",
       "      <td id=\"T_c8da2_row48_col0\" class=\"data row48 col0\" >Polynomial Degree</td>\n",
       "      <td id=\"T_c8da2_row48_col1\" class=\"data row48 col1\" >None</td>\n",
       "    </tr>\n",
       "    <tr>\n",
       "      <th id=\"T_c8da2_level0_row49\" class=\"row_heading level0 row49\" >49</th>\n",
       "      <td id=\"T_c8da2_row49_col0\" class=\"data row49 col0\" >Trignometry Features</td>\n",
       "      <td id=\"T_c8da2_row49_col1\" class=\"data row49 col1\" >False</td>\n",
       "    </tr>\n",
       "    <tr>\n",
       "      <th id=\"T_c8da2_level0_row50\" class=\"row_heading level0 row50\" >50</th>\n",
       "      <td id=\"T_c8da2_row50_col0\" class=\"data row50 col0\" >Polynomial Threshold</td>\n",
       "      <td id=\"T_c8da2_row50_col1\" class=\"data row50 col1\" >None</td>\n",
       "    </tr>\n",
       "    <tr>\n",
       "      <th id=\"T_c8da2_level0_row51\" class=\"row_heading level0 row51\" >51</th>\n",
       "      <td id=\"T_c8da2_row51_col0\" class=\"data row51 col0\" >Group Features</td>\n",
       "      <td id=\"T_c8da2_row51_col1\" class=\"data row51 col1\" >False</td>\n",
       "    </tr>\n",
       "    <tr>\n",
       "      <th id=\"T_c8da2_level0_row52\" class=\"row_heading level0 row52\" >52</th>\n",
       "      <td id=\"T_c8da2_row52_col0\" class=\"data row52 col0\" >Feature Selection</td>\n",
       "      <td id=\"T_c8da2_row52_col1\" class=\"data row52 col1\" >False</td>\n",
       "    </tr>\n",
       "    <tr>\n",
       "      <th id=\"T_c8da2_level0_row53\" class=\"row_heading level0 row53\" >53</th>\n",
       "      <td id=\"T_c8da2_row53_col0\" class=\"data row53 col0\" >Feature Selection Method</td>\n",
       "      <td id=\"T_c8da2_row53_col1\" class=\"data row53 col1\" >classic</td>\n",
       "    </tr>\n",
       "    <tr>\n",
       "      <th id=\"T_c8da2_level0_row54\" class=\"row_heading level0 row54\" >54</th>\n",
       "      <td id=\"T_c8da2_row54_col0\" class=\"data row54 col0\" >Features Selection Threshold</td>\n",
       "      <td id=\"T_c8da2_row54_col1\" class=\"data row54 col1\" >None</td>\n",
       "    </tr>\n",
       "    <tr>\n",
       "      <th id=\"T_c8da2_level0_row55\" class=\"row_heading level0 row55\" >55</th>\n",
       "      <td id=\"T_c8da2_row55_col0\" class=\"data row55 col0\" >Feature Interaction</td>\n",
       "      <td id=\"T_c8da2_row55_col1\" class=\"data row55 col1\" >False</td>\n",
       "    </tr>\n",
       "    <tr>\n",
       "      <th id=\"T_c8da2_level0_row56\" class=\"row_heading level0 row56\" >56</th>\n",
       "      <td id=\"T_c8da2_row56_col0\" class=\"data row56 col0\" >Feature Ratio</td>\n",
       "      <td id=\"T_c8da2_row56_col1\" class=\"data row56 col1\" >False</td>\n",
       "    </tr>\n",
       "    <tr>\n",
       "      <th id=\"T_c8da2_level0_row57\" class=\"row_heading level0 row57\" >57</th>\n",
       "      <td id=\"T_c8da2_row57_col0\" class=\"data row57 col0\" >Interaction Threshold</td>\n",
       "      <td id=\"T_c8da2_row57_col1\" class=\"data row57 col1\" >None</td>\n",
       "    </tr>\n",
       "    <tr>\n",
       "      <th id=\"T_c8da2_level0_row58\" class=\"row_heading level0 row58\" >58</th>\n",
       "      <td id=\"T_c8da2_row58_col0\" class=\"data row58 col0\" >Fix Imbalance</td>\n",
       "      <td id=\"T_c8da2_row58_col1\" class=\"data row58 col1\" >True</td>\n",
       "    </tr>\n",
       "    <tr>\n",
       "      <th id=\"T_c8da2_level0_row59\" class=\"row_heading level0 row59\" >59</th>\n",
       "      <td id=\"T_c8da2_row59_col0\" class=\"data row59 col0\" >Fix Imbalance Method</td>\n",
       "      <td id=\"T_c8da2_row59_col1\" class=\"data row59 col1\" >SMOTE</td>\n",
       "    </tr>\n",
       "  </tbody>\n",
       "</table>\n"
      ],
      "text/plain": [
       "<pandas.io.formats.style.Styler at 0x7fae80fd6b10>"
      ]
     },
     "metadata": {},
     "output_type": "display_data"
    }
   ],
   "source": [
    "# setup the dataset\n",
    "\n",
    "# Setting up the classifier\n",
    "# Pass the complete dataset as data and the featured to be predicted as target\n",
    "# clf=setup(data=data,target='TARGET')\n",
    "data = pd.concat([x_train, y_train], axis=1)\n",
    "\n",
    "clf = setup(data=data,\n",
    "             target='TARGET',\n",
    "             fix_imbalance=True,\n",
    "             fold=10,\n",
    "             silent=True)"
   ]
  },
  {
   "cell_type": "markdown",
   "id": "6a3a22a0",
   "metadata": {},
   "source": [
    "### saving our model "
   ]
  },
  {
   "cell_type": "code",
   "execution_count": 50,
   "id": "50b89019",
   "metadata": {},
   "outputs": [],
   "source": [
    "# saving our model \n",
    "save_config('my_pycaret_model.pkl')"
   ]
  },
  {
   "cell_type": "markdown",
   "id": "77e2cdaa",
   "metadata": {},
   "source": [
    "### Load config function"
   ]
  },
  {
   "cell_type": "code",
   "execution_count": 6,
   "id": "3832d4e4",
   "metadata": {},
   "outputs": [],
   "source": [
    "#load_config function with Example:\n",
    "# PyCaret provides \"pycaret.classification.load_config()\" function.\n",
    "\n",
    "# load_config function loads global variables from a pickle file into Python environment.\n",
    "\n",
    "\n",
    "from pycaret.classification import load_config \n",
    "\n",
    "# \"my_pycaret_model is already been saved\" \n",
    "load_config('my_pycaret_model.pkl') \n"
   ]
  },
  {
   "cell_type": "code",
   "execution_count": 7,
   "id": "1493dff2",
   "metadata": {},
   "outputs": [
    {
     "ename": "NameError",
     "evalue": "name 'data' is not defined",
     "output_type": "error",
     "traceback": [
      "\u001b[0;31m---------------------------------------------------------------------------\u001b[0m",
      "\u001b[0;31mNameError\u001b[0m                                 Traceback (most recent call last)",
      "\u001b[0;32m/var/folders/wv/385mpsm94p94tx3z5t_dmc3m0000gn/T/ipykernel_786/1576813123.py\u001b[0m in \u001b[0;36m<module>\u001b[0;34m\u001b[0m\n\u001b[0;32m----> 1\u001b[0;31m \u001b[0;32mdel\u001b[0m \u001b[0mdata\u001b[0m\u001b[0;34m,\u001b[0m \u001b[0mdf_scores\u001b[0m\u001b[0;34m,\u001b[0m \u001b[0mtest_df\u001b[0m\u001b[0;34m,\u001b[0m \u001b[0mtrain_df\u001b[0m\u001b[0;34m,\u001b[0m \u001b[0mx_smote\u001b[0m\u001b[0;34m,\u001b[0m \u001b[0mx_test\u001b[0m\u001b[0;34m,\u001b[0m \u001b[0mx_train\u001b[0m\u001b[0;34m\u001b[0m\u001b[0;34m\u001b[0m\u001b[0m\n\u001b[0m",
      "\u001b[0;31mNameError\u001b[0m: name 'data' is not defined"
     ]
    }
   ],
   "source": [
    "del data, df_scores, test_df, train_df, x_smote, x_test, x_train"
   ]
  },
  {
   "cell_type": "code",
   "execution_count": 9,
   "id": "2f94cb12",
   "metadata": {},
   "outputs": [
    {
     "data": {
      "text/plain": [
       "[]"
      ]
     },
     "execution_count": 9,
     "metadata": {},
     "output_type": "execute_result"
    }
   ],
   "source": [
    "%who_ls DataFrame "
   ]
  },
  {
   "cell_type": "code",
   "execution_count": 10,
   "id": "def39e56",
   "metadata": {},
   "outputs": [
    {
     "data": {
      "text/plain": [
       "((172203, 750), (172203,))"
      ]
     },
     "execution_count": 10,
     "metadata": {},
     "output_type": "execute_result"
    }
   ],
   "source": [
    "# to get the training set effectively used to train the model\n",
    "\n",
    "X_train_pycaret = get_config('X_train')\n",
    "y_train_pycaret = get_config('y_train')\n",
    "X_train_pycaret.shape, y_train_pycaret.shape"
   ]
  },
  {
   "cell_type": "code",
   "execution_count": 11,
   "id": "86c01757",
   "metadata": {},
   "outputs": [
    {
     "data": {
      "text/html": [
       "<div>\n",
       "<style scoped>\n",
       "    .dataframe tbody tr th:only-of-type {\n",
       "        vertical-align: middle;\n",
       "    }\n",
       "\n",
       "    .dataframe tbody tr th {\n",
       "        vertical-align: top;\n",
       "    }\n",
       "\n",
       "    .dataframe thead th {\n",
       "        text-align: right;\n",
       "    }\n",
       "</style>\n",
       "<table border=\"1\" class=\"dataframe\">\n",
       "  <thead>\n",
       "    <tr style=\"text-align: right;\">\n",
       "      <th></th>\n",
       "      <th>Name</th>\n",
       "      <th>Reference</th>\n",
       "      <th>Turbo</th>\n",
       "    </tr>\n",
       "    <tr>\n",
       "      <th>ID</th>\n",
       "      <th></th>\n",
       "      <th></th>\n",
       "      <th></th>\n",
       "    </tr>\n",
       "  </thead>\n",
       "  <tbody>\n",
       "    <tr>\n",
       "      <th>lr</th>\n",
       "      <td>Logistic Regression</td>\n",
       "      <td>sklearn.linear_model._logistic.LogisticRegression</td>\n",
       "      <td>True</td>\n",
       "    </tr>\n",
       "    <tr>\n",
       "      <th>knn</th>\n",
       "      <td>K Neighbors Classifier</td>\n",
       "      <td>sklearn.neighbors._classification.KNeighborsCl...</td>\n",
       "      <td>True</td>\n",
       "    </tr>\n",
       "    <tr>\n",
       "      <th>nb</th>\n",
       "      <td>Naive Bayes</td>\n",
       "      <td>sklearn.naive_bayes.GaussianNB</td>\n",
       "      <td>True</td>\n",
       "    </tr>\n",
       "    <tr>\n",
       "      <th>dt</th>\n",
       "      <td>Decision Tree Classifier</td>\n",
       "      <td>sklearn.tree._classes.DecisionTreeClassifier</td>\n",
       "      <td>True</td>\n",
       "    </tr>\n",
       "    <tr>\n",
       "      <th>svm</th>\n",
       "      <td>SVM - Linear Kernel</td>\n",
       "      <td>sklearn.linear_model._stochastic_gradient.SGDC...</td>\n",
       "      <td>True</td>\n",
       "    </tr>\n",
       "    <tr>\n",
       "      <th>rbfsvm</th>\n",
       "      <td>SVM - Radial Kernel</td>\n",
       "      <td>sklearn.svm._classes.SVC</td>\n",
       "      <td>False</td>\n",
       "    </tr>\n",
       "    <tr>\n",
       "      <th>gpc</th>\n",
       "      <td>Gaussian Process Classifier</td>\n",
       "      <td>sklearn.gaussian_process._gpc.GaussianProcessC...</td>\n",
       "      <td>False</td>\n",
       "    </tr>\n",
       "    <tr>\n",
       "      <th>mlp</th>\n",
       "      <td>MLP Classifier</td>\n",
       "      <td>sklearn.neural_network._multilayer_perceptron....</td>\n",
       "      <td>False</td>\n",
       "    </tr>\n",
       "    <tr>\n",
       "      <th>ridge</th>\n",
       "      <td>Ridge Classifier</td>\n",
       "      <td>sklearn.linear_model._ridge.RidgeClassifier</td>\n",
       "      <td>True</td>\n",
       "    </tr>\n",
       "    <tr>\n",
       "      <th>rf</th>\n",
       "      <td>Random Forest Classifier</td>\n",
       "      <td>sklearn.ensemble._forest.RandomForestClassifier</td>\n",
       "      <td>True</td>\n",
       "    </tr>\n",
       "    <tr>\n",
       "      <th>qda</th>\n",
       "      <td>Quadratic Discriminant Analysis</td>\n",
       "      <td>sklearn.discriminant_analysis.QuadraticDiscrim...</td>\n",
       "      <td>True</td>\n",
       "    </tr>\n",
       "    <tr>\n",
       "      <th>ada</th>\n",
       "      <td>Ada Boost Classifier</td>\n",
       "      <td>sklearn.ensemble._weight_boosting.AdaBoostClas...</td>\n",
       "      <td>True</td>\n",
       "    </tr>\n",
       "    <tr>\n",
       "      <th>gbc</th>\n",
       "      <td>Gradient Boosting Classifier</td>\n",
       "      <td>sklearn.ensemble._gb.GradientBoostingClassifier</td>\n",
       "      <td>True</td>\n",
       "    </tr>\n",
       "    <tr>\n",
       "      <th>lda</th>\n",
       "      <td>Linear Discriminant Analysis</td>\n",
       "      <td>sklearn.discriminant_analysis.LinearDiscrimina...</td>\n",
       "      <td>True</td>\n",
       "    </tr>\n",
       "    <tr>\n",
       "      <th>et</th>\n",
       "      <td>Extra Trees Classifier</td>\n",
       "      <td>sklearn.ensemble._forest.ExtraTreesClassifier</td>\n",
       "      <td>True</td>\n",
       "    </tr>\n",
       "    <tr>\n",
       "      <th>xgboost</th>\n",
       "      <td>Extreme Gradient Boosting</td>\n",
       "      <td>xgboost.sklearn.XGBClassifier</td>\n",
       "      <td>True</td>\n",
       "    </tr>\n",
       "    <tr>\n",
       "      <th>lightgbm</th>\n",
       "      <td>Light Gradient Boosting Machine</td>\n",
       "      <td>lightgbm.sklearn.LGBMClassifier</td>\n",
       "      <td>True</td>\n",
       "    </tr>\n",
       "    <tr>\n",
       "      <th>dummy</th>\n",
       "      <td>Dummy Classifier</td>\n",
       "      <td>sklearn.dummy.DummyClassifier</td>\n",
       "      <td>True</td>\n",
       "    </tr>\n",
       "  </tbody>\n",
       "</table>\n",
       "</div>"
      ],
      "text/plain": [
       "                                     Name  \\\n",
       "ID                                          \n",
       "lr                    Logistic Regression   \n",
       "knn                K Neighbors Classifier   \n",
       "nb                            Naive Bayes   \n",
       "dt               Decision Tree Classifier   \n",
       "svm                   SVM - Linear Kernel   \n",
       "rbfsvm                SVM - Radial Kernel   \n",
       "gpc           Gaussian Process Classifier   \n",
       "mlp                        MLP Classifier   \n",
       "ridge                    Ridge Classifier   \n",
       "rf               Random Forest Classifier   \n",
       "qda       Quadratic Discriminant Analysis   \n",
       "ada                  Ada Boost Classifier   \n",
       "gbc          Gradient Boosting Classifier   \n",
       "lda          Linear Discriminant Analysis   \n",
       "et                 Extra Trees Classifier   \n",
       "xgboost         Extreme Gradient Boosting   \n",
       "lightgbm  Light Gradient Boosting Machine   \n",
       "dummy                    Dummy Classifier   \n",
       "\n",
       "                                                  Reference  Turbo  \n",
       "ID                                                                  \n",
       "lr        sklearn.linear_model._logistic.LogisticRegression   True  \n",
       "knn       sklearn.neighbors._classification.KNeighborsCl...   True  \n",
       "nb                           sklearn.naive_bayes.GaussianNB   True  \n",
       "dt             sklearn.tree._classes.DecisionTreeClassifier   True  \n",
       "svm       sklearn.linear_model._stochastic_gradient.SGDC...   True  \n",
       "rbfsvm                             sklearn.svm._classes.SVC  False  \n",
       "gpc       sklearn.gaussian_process._gpc.GaussianProcessC...  False  \n",
       "mlp       sklearn.neural_network._multilayer_perceptron....  False  \n",
       "ridge           sklearn.linear_model._ridge.RidgeClassifier   True  \n",
       "rf          sklearn.ensemble._forest.RandomForestClassifier   True  \n",
       "qda       sklearn.discriminant_analysis.QuadraticDiscrim...   True  \n",
       "ada       sklearn.ensemble._weight_boosting.AdaBoostClas...   True  \n",
       "gbc         sklearn.ensemble._gb.GradientBoostingClassifier   True  \n",
       "lda       sklearn.discriminant_analysis.LinearDiscrimina...   True  \n",
       "et            sklearn.ensemble._forest.ExtraTreesClassifier   True  \n",
       "xgboost                       xgboost.sklearn.XGBClassifier   True  \n",
       "lightgbm                    lightgbm.sklearn.LGBMClassifier   True  \n",
       "dummy                         sklearn.dummy.DummyClassifier   True  "
      ]
     },
     "execution_count": 11,
     "metadata": {},
     "output_type": "execute_result"
    }
   ],
   "source": [
    "# check out the available models\n",
    "\n",
    "models(raise_errors=True)"
   ]
  },
  {
   "cell_type": "code",
   "execution_count": 12,
   "id": "377efcf0",
   "metadata": {
    "scrolled": false
   },
   "outputs": [
    {
     "data": {
      "text/html": [
       "<style type=\"text/css\">\n",
       "#T_af14d_ th {\n",
       "  text-align: left;\n",
       "}\n",
       "#T_af14d_row0_col0, #T_af14d_row0_col3, #T_af14d_row0_col4, #T_af14d_row0_col5, #T_af14d_row0_col6, #T_af14d_row1_col0, #T_af14d_row1_col1, #T_af14d_row1_col2, #T_af14d_row1_col3, #T_af14d_row1_col5, #T_af14d_row1_col6, #T_af14d_row1_col7, #T_af14d_row2_col0, #T_af14d_row2_col1, #T_af14d_row2_col2, #T_af14d_row2_col3, #T_af14d_row2_col4, #T_af14d_row2_col5, #T_af14d_row2_col7, #T_af14d_row3_col0, #T_af14d_row3_col1, #T_af14d_row3_col2, #T_af14d_row3_col4, #T_af14d_row3_col6, #T_af14d_row3_col7 {\n",
       "  text-align: left;\n",
       "}\n",
       "#T_af14d_row0_col1, #T_af14d_row0_col2, #T_af14d_row0_col7, #T_af14d_row1_col4, #T_af14d_row2_col6, #T_af14d_row3_col3, #T_af14d_row3_col5 {\n",
       "  text-align: left;\n",
       "  background-color: yellow;\n",
       "}\n",
       "#T_af14d_row0_col8 {\n",
       "  text-align: left;\n",
       "  background-color: yellow;\n",
       "  background-color: lightgrey;\n",
       "}\n",
       "#T_af14d_row1_col8, #T_af14d_row2_col8, #T_af14d_row3_col8 {\n",
       "  text-align: left;\n",
       "  background-color: lightgrey;\n",
       "}\n",
       "</style>\n",
       "<table id=\"T_af14d_\">\n",
       "  <thead>\n",
       "    <tr>\n",
       "      <th class=\"blank level0\" >&nbsp;</th>\n",
       "      <th class=\"col_heading level0 col0\" >Model</th>\n",
       "      <th class=\"col_heading level0 col1\" >Accuracy</th>\n",
       "      <th class=\"col_heading level0 col2\" >AUC</th>\n",
       "      <th class=\"col_heading level0 col3\" >Recall</th>\n",
       "      <th class=\"col_heading level0 col4\" >Prec.</th>\n",
       "      <th class=\"col_heading level0 col5\" >F1</th>\n",
       "      <th class=\"col_heading level0 col6\" >Kappa</th>\n",
       "      <th class=\"col_heading level0 col7\" >MCC</th>\n",
       "      <th class=\"col_heading level0 col8\" >TT (Sec)</th>\n",
       "    </tr>\n",
       "  </thead>\n",
       "  <tbody>\n",
       "    <tr>\n",
       "      <th id=\"T_af14d_level0_row0\" class=\"row_heading level0 row0\" >lightgbm</th>\n",
       "      <td id=\"T_af14d_row0_col0\" class=\"data row0 col0\" >Light Gradient Boosting Machine</td>\n",
       "      <td id=\"T_af14d_row0_col1\" class=\"data row0 col1\" >0.9192</td>\n",
       "      <td id=\"T_af14d_row0_col2\" class=\"data row0 col2\" >0.7732</td>\n",
       "      <td id=\"T_af14d_row0_col3\" class=\"data row0 col3\" >0.0300</td>\n",
       "      <td id=\"T_af14d_row0_col4\" class=\"data row0 col4\" >0.5231</td>\n",
       "      <td id=\"T_af14d_row0_col5\" class=\"data row0 col5\" >0.0568</td>\n",
       "      <td id=\"T_af14d_row0_col6\" class=\"data row0 col6\" >0.0484</td>\n",
       "      <td id=\"T_af14d_row0_col7\" class=\"data row0 col7\" >0.1105</td>\n",
       "      <td id=\"T_af14d_row0_col8\" class=\"data row0 col8\" >80.2300</td>\n",
       "    </tr>\n",
       "    <tr>\n",
       "      <th id=\"T_af14d_level0_row1\" class=\"row_heading level0 row1\" >rf</th>\n",
       "      <td id=\"T_af14d_row1_col0\" class=\"data row1 col0\" >Random Forest Classifier</td>\n",
       "      <td id=\"T_af14d_row1_col1\" class=\"data row1 col1\" >0.9191</td>\n",
       "      <td id=\"T_af14d_row1_col2\" class=\"data row1 col2\" >0.7139</td>\n",
       "      <td id=\"T_af14d_row1_col3\" class=\"data row1 col3\" >0.0025</td>\n",
       "      <td id=\"T_af14d_row1_col4\" class=\"data row1 col4\" >0.7533</td>\n",
       "      <td id=\"T_af14d_row1_col5\" class=\"data row1 col5\" >0.0050</td>\n",
       "      <td id=\"T_af14d_row1_col6\" class=\"data row1 col6\" >0.0045</td>\n",
       "      <td id=\"T_af14d_row1_col7\" class=\"data row1 col7\" >0.0403</td>\n",
       "      <td id=\"T_af14d_row1_col8\" class=\"data row1 col8\" >251.9540</td>\n",
       "    </tr>\n",
       "    <tr>\n",
       "      <th id=\"T_af14d_level0_row2\" class=\"row_heading level0 row2\" >dt</th>\n",
       "      <td id=\"T_af14d_row2_col0\" class=\"data row2 col0\" >Decision Tree Classifier</td>\n",
       "      <td id=\"T_af14d_row2_col1\" class=\"data row2 col1\" >0.8454</td>\n",
       "      <td id=\"T_af14d_row2_col2\" class=\"data row2 col2\" >0.5398</td>\n",
       "      <td id=\"T_af14d_row2_col3\" class=\"data row2 col3\" >0.1752</td>\n",
       "      <td id=\"T_af14d_row2_col4\" class=\"data row2 col4\" >0.1390</td>\n",
       "      <td id=\"T_af14d_row2_col5\" class=\"data row2 col5\" >0.1550</td>\n",
       "      <td id=\"T_af14d_row2_col6\" class=\"data row2 col6\" >0.0712</td>\n",
       "      <td id=\"T_af14d_row2_col7\" class=\"data row2 col7\" >0.0717</td>\n",
       "      <td id=\"T_af14d_row2_col8\" class=\"data row2 col8\" >95.7480</td>\n",
       "    </tr>\n",
       "    <tr>\n",
       "      <th id=\"T_af14d_level0_row3\" class=\"row_heading level0 row3\" >lr</th>\n",
       "      <td id=\"T_af14d_row3_col0\" class=\"data row3 col0\" >Logistic Regression</td>\n",
       "      <td id=\"T_af14d_row3_col1\" class=\"data row3 col1\" >0.6317</td>\n",
       "      <td id=\"T_af14d_row3_col2\" class=\"data row3 col2\" >0.5823</td>\n",
       "      <td id=\"T_af14d_row3_col3\" class=\"data row3 col3\" >0.4648</td>\n",
       "      <td id=\"T_af14d_row3_col4\" class=\"data row3 col4\" >0.1080</td>\n",
       "      <td id=\"T_af14d_row3_col5\" class=\"data row3 col5\" >0.1670</td>\n",
       "      <td id=\"T_af14d_row3_col6\" class=\"data row3 col6\" >0.0448</td>\n",
       "      <td id=\"T_af14d_row3_col7\" class=\"data row3 col7\" >0.0657</td>\n",
       "      <td id=\"T_af14d_row3_col8\" class=\"data row3 col8\" >200.4420</td>\n",
       "    </tr>\n",
       "  </tbody>\n",
       "</table>\n"
      ],
      "text/plain": [
       "<pandas.io.formats.style.Styler at 0x7f84a2c16810>"
      ]
     },
     "metadata": {},
     "output_type": "display_data"
    },
    {
     "data": {
      "text/plain": [
       "[LGBMClassifier(random_state=1626),\n",
       " RandomForestClassifier(n_jobs=-1, random_state=1626),\n",
       " DecisionTreeClassifier(random_state=1626)]"
      ]
     },
     "execution_count": 12,
     "metadata": {},
     "output_type": "execute_result"
    }
   ],
   "source": [
    "# budget_time: int or float, default = None -->\n",
    "#If not None, will terminate execution of the function after budget_time minutes have passed and return results up to that point.\n",
    "# n_select: int, default = 1 -->\n",
    "#Number of top_n models to return. For example, to select top 3 models use n_select = 3.\n",
    "# compare_models()\n",
    "# compare_models(budget_time = 0.5, n_select = 3)\n",
    "compare_models(n_select = 3, include = ['lr','dt','rf','lightgbm'])"
   ]
  },
  {
   "cell_type": "markdown",
   "id": "0dd5add5",
   "metadata": {},
   "source": [
    "### Create the Light Gradient Boosting Machine(lightgbm) model"
   ]
  },
  {
   "cell_type": "code",
   "execution_count": 13,
   "id": "d6a2a726",
   "metadata": {},
   "outputs": [
    {
     "data": {
      "text/html": [
       "<style type=\"text/css\">\n",
       "#T_a291c_row10_col0, #T_a291c_row10_col1, #T_a291c_row10_col2, #T_a291c_row10_col3, #T_a291c_row10_col4, #T_a291c_row10_col5, #T_a291c_row10_col6 {\n",
       "  background: yellow;\n",
       "}\n",
       "</style>\n",
       "<table id=\"T_a291c_\">\n",
       "  <thead>\n",
       "    <tr>\n",
       "      <th class=\"blank level0\" >&nbsp;</th>\n",
       "      <th class=\"col_heading level0 col0\" >Accuracy</th>\n",
       "      <th class=\"col_heading level0 col1\" >AUC</th>\n",
       "      <th class=\"col_heading level0 col2\" >Recall</th>\n",
       "      <th class=\"col_heading level0 col3\" >Prec.</th>\n",
       "      <th class=\"col_heading level0 col4\" >F1</th>\n",
       "      <th class=\"col_heading level0 col5\" >Kappa</th>\n",
       "      <th class=\"col_heading level0 col6\" >MCC</th>\n",
       "    </tr>\n",
       "    <tr>\n",
       "      <th class=\"index_name level0\" >Fold</th>\n",
       "      <th class=\"blank col0\" >&nbsp;</th>\n",
       "      <th class=\"blank col1\" >&nbsp;</th>\n",
       "      <th class=\"blank col2\" >&nbsp;</th>\n",
       "      <th class=\"blank col3\" >&nbsp;</th>\n",
       "      <th class=\"blank col4\" >&nbsp;</th>\n",
       "      <th class=\"blank col5\" >&nbsp;</th>\n",
       "      <th class=\"blank col6\" >&nbsp;</th>\n",
       "    </tr>\n",
       "  </thead>\n",
       "  <tbody>\n",
       "    <tr>\n",
       "      <th id=\"T_a291c_level0_row0\" class=\"row_heading level0 row0\" >0</th>\n",
       "      <td id=\"T_a291c_row0_col0\" class=\"data row0 col0\" >0.9195</td>\n",
       "      <td id=\"T_a291c_row0_col1\" class=\"data row0 col1\" >0.7747</td>\n",
       "      <td id=\"T_a291c_row0_col2\" class=\"data row0 col2\" >0.0294</td>\n",
       "      <td id=\"T_a291c_row0_col3\" class=\"data row0 col3\" >0.5616</td>\n",
       "      <td id=\"T_a291c_row0_col4\" class=\"data row0 col4\" >0.0559</td>\n",
       "      <td id=\"T_a291c_row0_col5\" class=\"data row0 col5\" >0.0482</td>\n",
       "      <td id=\"T_a291c_row0_col6\" class=\"data row0 col6\" >0.1149</td>\n",
       "    </tr>\n",
       "    <tr>\n",
       "      <th id=\"T_a291c_level0_row1\" class=\"row_heading level0 row1\" >1</th>\n",
       "      <td id=\"T_a291c_row1_col0\" class=\"data row1 col0\" >0.9191</td>\n",
       "      <td id=\"T_a291c_row1_col1\" class=\"data row1 col1\" >0.7735</td>\n",
       "      <td id=\"T_a291c_row1_col2\" class=\"data row1 col2\" >0.0237</td>\n",
       "      <td id=\"T_a291c_row1_col3\" class=\"data row1 col3\" >0.5077</td>\n",
       "      <td id=\"T_a291c_row1_col4\" class=\"data row1 col4\" >0.0452</td>\n",
       "      <td id=\"T_a291c_row1_col5\" class=\"data row1 col5\" >0.0383</td>\n",
       "      <td id=\"T_a291c_row1_col6\" class=\"data row1 col6\" >0.0963</td>\n",
       "    </tr>\n",
       "    <tr>\n",
       "      <th id=\"T_a291c_level0_row2\" class=\"row_heading level0 row2\" >2</th>\n",
       "      <td id=\"T_a291c_row2_col0\" class=\"data row2 col0\" >0.9193</td>\n",
       "      <td id=\"T_a291c_row2_col1\" class=\"data row2 col1\" >0.7714</td>\n",
       "      <td id=\"T_a291c_row2_col2\" class=\"data row2 col2\" >0.0330</td>\n",
       "      <td id=\"T_a291c_row2_col3\" class=\"data row2 col3\" >0.5287</td>\n",
       "      <td id=\"T_a291c_row2_col4\" class=\"data row2 col4\" >0.0621</td>\n",
       "      <td id=\"T_a291c_row2_col5\" class=\"data row2 col5\" >0.0531</td>\n",
       "      <td id=\"T_a291c_row2_col6\" class=\"data row2 col6\" >0.1169</td>\n",
       "    </tr>\n",
       "    <tr>\n",
       "      <th id=\"T_a291c_level0_row3\" class=\"row_heading level0 row3\" >3</th>\n",
       "      <td id=\"T_a291c_row3_col0\" class=\"data row3 col0\" >0.9196</td>\n",
       "      <td id=\"T_a291c_row3_col1\" class=\"data row3 col1\" >0.7792</td>\n",
       "      <td id=\"T_a291c_row3_col2\" class=\"data row3 col2\" >0.0344</td>\n",
       "      <td id=\"T_a291c_row3_col3\" class=\"data row3 col3\" >0.5517</td>\n",
       "      <td id=\"T_a291c_row3_col4\" class=\"data row3 col4\" >0.0648</td>\n",
       "      <td id=\"T_a291c_row3_col5\" class=\"data row3 col5\" >0.0558</td>\n",
       "      <td id=\"T_a291c_row3_col6\" class=\"data row3 col6\" >0.1230</td>\n",
       "    </tr>\n",
       "    <tr>\n",
       "      <th id=\"T_a291c_level0_row4\" class=\"row_heading level0 row4\" >4</th>\n",
       "      <td id=\"T_a291c_row4_col0\" class=\"data row4 col0\" >0.9195</td>\n",
       "      <td id=\"T_a291c_row4_col1\" class=\"data row4 col1\" >0.7744</td>\n",
       "      <td id=\"T_a291c_row4_col2\" class=\"data row4 col2\" >0.0287</td>\n",
       "      <td id=\"T_a291c_row4_col3\" class=\"data row4 col3\" >0.5479</td>\n",
       "      <td id=\"T_a291c_row4_col4\" class=\"data row4 col4\" >0.0545</td>\n",
       "      <td id=\"T_a291c_row4_col5\" class=\"data row4 col5\" >0.0469</td>\n",
       "      <td id=\"T_a291c_row4_col6\" class=\"data row4 col6\" >0.1117</td>\n",
       "    </tr>\n",
       "    <tr>\n",
       "      <th id=\"T_a291c_level0_row5\" class=\"row_heading level0 row5\" >5</th>\n",
       "      <td id=\"T_a291c_row5_col0\" class=\"data row5 col0\" >0.9182</td>\n",
       "      <td id=\"T_a291c_row5_col1\" class=\"data row5 col1\" >0.7722</td>\n",
       "      <td id=\"T_a291c_row5_col2\" class=\"data row5 col2\" >0.0316</td>\n",
       "      <td id=\"T_a291c_row5_col3\" class=\"data row5 col3\" >0.4314</td>\n",
       "      <td id=\"T_a291c_row5_col4\" class=\"data row5 col4\" >0.0588</td>\n",
       "      <td id=\"T_a291c_row5_col5\" class=\"data row5 col5\" >0.0483</td>\n",
       "      <td id=\"T_a291c_row5_col6\" class=\"data row5 col6\" >0.0992</td>\n",
       "    </tr>\n",
       "    <tr>\n",
       "      <th id=\"T_a291c_level0_row6\" class=\"row_heading level0 row6\" >6</th>\n",
       "      <td id=\"T_a291c_row6_col0\" class=\"data row6 col0\" >0.9198</td>\n",
       "      <td id=\"T_a291c_row6_col1\" class=\"data row6 col1\" >0.7804</td>\n",
       "      <td id=\"T_a291c_row6_col2\" class=\"data row6 col2\" >0.0373</td>\n",
       "      <td id=\"T_a291c_row6_col3\" class=\"data row6 col3\" >0.5714</td>\n",
       "      <td id=\"T_a291c_row6_col4\" class=\"data row6 col4\" >0.0700</td>\n",
       "      <td id=\"T_a291c_row6_col5\" class=\"data row6 col5\" >0.0607</td>\n",
       "      <td id=\"T_a291c_row6_col6\" class=\"data row6 col6\" >0.1311</td>\n",
       "    </tr>\n",
       "    <tr>\n",
       "      <th id=\"T_a291c_level0_row7\" class=\"row_heading level0 row7\" >7</th>\n",
       "      <td id=\"T_a291c_row7_col0\" class=\"data row7 col0\" >0.9184</td>\n",
       "      <td id=\"T_a291c_row7_col1\" class=\"data row7 col1\" >0.7672</td>\n",
       "      <td id=\"T_a291c_row7_col2\" class=\"data row7 col2\" >0.0265</td>\n",
       "      <td id=\"T_a291c_row7_col3\" class=\"data row7 col3\" >0.4405</td>\n",
       "      <td id=\"T_a291c_row7_col4\" class=\"data row7 col4\" >0.0500</td>\n",
       "      <td id=\"T_a291c_row7_col5\" class=\"data row7 col5\" >0.0412</td>\n",
       "      <td id=\"T_a291c_row7_col6\" class=\"data row7 col6\" >0.0922</td>\n",
       "    </tr>\n",
       "    <tr>\n",
       "      <th id=\"T_a291c_level0_row8\" class=\"row_heading level0 row8\" >8</th>\n",
       "      <td id=\"T_a291c_row8_col0\" class=\"data row8 col0\" >0.9200</td>\n",
       "      <td id=\"T_a291c_row8_col1\" class=\"data row8 col1\" >0.7661</td>\n",
       "      <td id=\"T_a291c_row8_col2\" class=\"data row8 col2\" >0.0308</td>\n",
       "      <td id=\"T_a291c_row8_col3\" class=\"data row8 col3\" >0.6232</td>\n",
       "      <td id=\"T_a291c_row8_col4\" class=\"data row8 col4\" >0.0587</td>\n",
       "      <td id=\"T_a291c_row8_col5\" class=\"data row8 col5\" >0.0515</td>\n",
       "      <td id=\"T_a291c_row8_col6\" class=\"data row8 col6\" >0.1260</td>\n",
       "    </tr>\n",
       "    <tr>\n",
       "      <th id=\"T_a291c_level0_row9\" class=\"row_heading level0 row9\" >9</th>\n",
       "      <td id=\"T_a291c_row9_col0\" class=\"data row9 col0\" >0.9187</td>\n",
       "      <td id=\"T_a291c_row9_col1\" class=\"data row9 col1\" >0.7728</td>\n",
       "      <td id=\"T_a291c_row9_col2\" class=\"data row9 col2\" >0.0251</td>\n",
       "      <td id=\"T_a291c_row9_col3\" class=\"data row9 col3\" >0.4667</td>\n",
       "      <td id=\"T_a291c_row9_col4\" class=\"data row9 col4\" >0.0476</td>\n",
       "      <td id=\"T_a291c_row9_col5\" class=\"data row9 col5\" >0.0397</td>\n",
       "      <td id=\"T_a291c_row9_col6\" class=\"data row9 col6\" >0.0935</td>\n",
       "    </tr>\n",
       "    <tr>\n",
       "      <th id=\"T_a291c_level0_row10\" class=\"row_heading level0 row10\" >Mean</th>\n",
       "      <td id=\"T_a291c_row10_col0\" class=\"data row10 col0\" >0.9192</td>\n",
       "      <td id=\"T_a291c_row10_col1\" class=\"data row10 col1\" >0.7732</td>\n",
       "      <td id=\"T_a291c_row10_col2\" class=\"data row10 col2\" >0.0300</td>\n",
       "      <td id=\"T_a291c_row10_col3\" class=\"data row10 col3\" >0.5231</td>\n",
       "      <td id=\"T_a291c_row10_col4\" class=\"data row10 col4\" >0.0568</td>\n",
       "      <td id=\"T_a291c_row10_col5\" class=\"data row10 col5\" >0.0484</td>\n",
       "      <td id=\"T_a291c_row10_col6\" class=\"data row10 col6\" >0.1105</td>\n",
       "    </tr>\n",
       "    <tr>\n",
       "      <th id=\"T_a291c_level0_row11\" class=\"row_heading level0 row11\" >Std</th>\n",
       "      <td id=\"T_a291c_row11_col0\" class=\"data row11 col0\" >0.0006</td>\n",
       "      <td id=\"T_a291c_row11_col1\" class=\"data row11 col1\" >0.0043</td>\n",
       "      <td id=\"T_a291c_row11_col2\" class=\"data row11 col2\" >0.0040</td>\n",
       "      <td id=\"T_a291c_row11_col3\" class=\"data row11 col3\" >0.0583</td>\n",
       "      <td id=\"T_a291c_row11_col4\" class=\"data row11 col4\" >0.0074</td>\n",
       "      <td id=\"T_a291c_row11_col5\" class=\"data row11 col5\" >0.0069</td>\n",
       "      <td id=\"T_a291c_row11_col6\" class=\"data row11 col6\" >0.0136</td>\n",
       "    </tr>\n",
       "  </tbody>\n",
       "</table>\n"
      ],
      "text/plain": [
       "<pandas.io.formats.style.Styler at 0x7f8551dfd590>"
      ]
     },
     "metadata": {},
     "output_type": "display_data"
    }
   ],
   "source": [
    "lightgbm_classifier=create_model('lightgbm')"
   ]
  },
  {
   "cell_type": "markdown",
   "id": "93b1428b",
   "metadata": {},
   "source": [
    "#### Let's now check the model hyperparameters"
   ]
  },
  {
   "cell_type": "code",
   "execution_count": 14,
   "id": "43a065a2",
   "metadata": {},
   "outputs": [
    {
     "name": "stdout",
     "output_type": "stream",
     "text": [
      "LGBMClassifier(random_state=1626)\n"
     ]
    }
   ],
   "source": [
    "print(lightgbm_classifier)"
   ]
  },
  {
   "cell_type": "markdown",
   "id": "72491996",
   "metadata": {},
   "source": [
    "#### Tuning the hyperparametes for better performance"
   ]
  },
  {
   "cell_type": "code",
   "execution_count": 15,
   "id": "4128a653",
   "metadata": {
    "scrolled": false
   },
   "outputs": [
    {
     "data": {
      "text/html": [
       "<style type=\"text/css\">\n",
       "#T_c512d_row10_col0, #T_c512d_row10_col1, #T_c512d_row10_col2, #T_c512d_row10_col3, #T_c512d_row10_col4, #T_c512d_row10_col5, #T_c512d_row10_col6 {\n",
       "  background: yellow;\n",
       "}\n",
       "</style>\n",
       "<table id=\"T_c512d_\">\n",
       "  <thead>\n",
       "    <tr>\n",
       "      <th class=\"blank level0\" >&nbsp;</th>\n",
       "      <th class=\"col_heading level0 col0\" >Accuracy</th>\n",
       "      <th class=\"col_heading level0 col1\" >AUC</th>\n",
       "      <th class=\"col_heading level0 col2\" >Recall</th>\n",
       "      <th class=\"col_heading level0 col3\" >Prec.</th>\n",
       "      <th class=\"col_heading level0 col4\" >F1</th>\n",
       "      <th class=\"col_heading level0 col5\" >Kappa</th>\n",
       "      <th class=\"col_heading level0 col6\" >MCC</th>\n",
       "    </tr>\n",
       "    <tr>\n",
       "      <th class=\"index_name level0\" >Fold</th>\n",
       "      <th class=\"blank col0\" >&nbsp;</th>\n",
       "      <th class=\"blank col1\" >&nbsp;</th>\n",
       "      <th class=\"blank col2\" >&nbsp;</th>\n",
       "      <th class=\"blank col3\" >&nbsp;</th>\n",
       "      <th class=\"blank col4\" >&nbsp;</th>\n",
       "      <th class=\"blank col5\" >&nbsp;</th>\n",
       "      <th class=\"blank col6\" >&nbsp;</th>\n",
       "    </tr>\n",
       "  </thead>\n",
       "  <tbody>\n",
       "    <tr>\n",
       "      <th id=\"T_c512d_level0_row0\" class=\"row_heading level0 row0\" >0</th>\n",
       "      <td id=\"T_c512d_row0_col0\" class=\"data row0 col0\" >0.9191</td>\n",
       "      <td id=\"T_c512d_row0_col1\" class=\"data row0 col1\" >0.7478</td>\n",
       "      <td id=\"T_c512d_row0_col2\" class=\"data row0 col2\" >0.0036</td>\n",
       "      <td id=\"T_c512d_row0_col3\" class=\"data row0 col3\" >0.5556</td>\n",
       "      <td id=\"T_c512d_row0_col4\" class=\"data row0 col4\" >0.0071</td>\n",
       "      <td id=\"T_c512d_row0_col5\" class=\"data row0 col5\" >0.0061</td>\n",
       "      <td id=\"T_c512d_row0_col6\" class=\"data row0 col6\" >0.0398</td>\n",
       "    </tr>\n",
       "    <tr>\n",
       "      <th id=\"T_c512d_level0_row1\" class=\"row_heading level0 row1\" >1</th>\n",
       "      <td id=\"T_c512d_row1_col0\" class=\"data row1 col0\" >0.9193</td>\n",
       "      <td id=\"T_c512d_row1_col1\" class=\"data row1 col1\" >0.7499</td>\n",
       "      <td id=\"T_c512d_row1_col2\" class=\"data row1 col2\" >0.0057</td>\n",
       "      <td id=\"T_c512d_row1_col3\" class=\"data row1 col3\" >0.7273</td>\n",
       "      <td id=\"T_c512d_row1_col4\" class=\"data row1 col4\" >0.0114</td>\n",
       "      <td id=\"T_c512d_row1_col5\" class=\"data row1 col5\" >0.0101</td>\n",
       "      <td id=\"T_c512d_row1_col6\" class=\"data row1 col6\" >0.0599</td>\n",
       "    </tr>\n",
       "    <tr>\n",
       "      <th id=\"T_c512d_level0_row2\" class=\"row_heading level0 row2\" >2</th>\n",
       "      <td id=\"T_c512d_row2_col0\" class=\"data row2 col0\" >0.9193</td>\n",
       "      <td id=\"T_c512d_row2_col1\" class=\"data row2 col1\" >0.7458</td>\n",
       "      <td id=\"T_c512d_row2_col2\" class=\"data row2 col2\" >0.0065</td>\n",
       "      <td id=\"T_c512d_row2_col3\" class=\"data row2 col3\" >0.6923</td>\n",
       "      <td id=\"T_c512d_row2_col4\" class=\"data row2 col4\" >0.0128</td>\n",
       "      <td id=\"T_c512d_row2_col5\" class=\"data row2 col5\" >0.0113</td>\n",
       "      <td id=\"T_c512d_row2_col6\" class=\"data row2 col6\" >0.0616</td>\n",
       "    </tr>\n",
       "    <tr>\n",
       "      <th id=\"T_c512d_level0_row3\" class=\"row_heading level0 row3\" >3</th>\n",
       "      <td id=\"T_c512d_row3_col0\" class=\"data row3 col0\" >0.9189</td>\n",
       "      <td id=\"T_c512d_row3_col1\" class=\"data row3 col1\" >0.7489</td>\n",
       "      <td id=\"T_c512d_row3_col2\" class=\"data row3 col2\" >0.0029</td>\n",
       "      <td id=\"T_c512d_row3_col3\" class=\"data row3 col3\" >0.4000</td>\n",
       "      <td id=\"T_c512d_row3_col4\" class=\"data row3 col4\" >0.0057</td>\n",
       "      <td id=\"T_c512d_row3_col5\" class=\"data row3 col5\" >0.0046</td>\n",
       "      <td id=\"T_c512d_row3_col6\" class=\"data row3 col6\" >0.0282</td>\n",
       "    </tr>\n",
       "    <tr>\n",
       "      <th id=\"T_c512d_level0_row4\" class=\"row_heading level0 row4\" >4</th>\n",
       "      <td id=\"T_c512d_row4_col0\" class=\"data row4 col0\" >0.9192</td>\n",
       "      <td id=\"T_c512d_row4_col1\" class=\"data row4 col1\" >0.7482</td>\n",
       "      <td id=\"T_c512d_row4_col2\" class=\"data row4 col2\" >0.0043</td>\n",
       "      <td id=\"T_c512d_row4_col3\" class=\"data row4 col3\" >0.6667</td>\n",
       "      <td id=\"T_c512d_row4_col4\" class=\"data row4 col4\" >0.0086</td>\n",
       "      <td id=\"T_c512d_row4_col5\" class=\"data row4 col5\" >0.0075</td>\n",
       "      <td id=\"T_c512d_row4_col6\" class=\"data row4 col6\" >0.0491</td>\n",
       "    </tr>\n",
       "    <tr>\n",
       "      <th id=\"T_c512d_level0_row5\" class=\"row_heading level0 row5\" >5</th>\n",
       "      <td id=\"T_c512d_row5_col0\" class=\"data row5 col0\" >0.9192</td>\n",
       "      <td id=\"T_c512d_row5_col1\" class=\"data row5 col1\" >0.7432</td>\n",
       "      <td id=\"T_c512d_row5_col2\" class=\"data row5 col2\" >0.0050</td>\n",
       "      <td id=\"T_c512d_row5_col3\" class=\"data row5 col3\" >0.5833</td>\n",
       "      <td id=\"T_c512d_row5_col4\" class=\"data row5 col4\" >0.0100</td>\n",
       "      <td id=\"T_c512d_row5_col5\" class=\"data row5 col5\" >0.0086</td>\n",
       "      <td id=\"T_c512d_row5_col6\" class=\"data row5 col6\" >0.0486</td>\n",
       "    </tr>\n",
       "    <tr>\n",
       "      <th id=\"T_c512d_level0_row6\" class=\"row_heading level0 row6\" >6</th>\n",
       "      <td id=\"T_c512d_row6_col0\" class=\"data row6 col0\" >0.9190</td>\n",
       "      <td id=\"T_c512d_row6_col1\" class=\"data row6 col1\" >0.7525</td>\n",
       "      <td id=\"T_c512d_row6_col2\" class=\"data row6 col2\" >0.0057</td>\n",
       "      <td id=\"T_c512d_row6_col3\" class=\"data row6 col3\" >0.5000</td>\n",
       "      <td id=\"T_c512d_row6_col4\" class=\"data row6 col4\" >0.0113</td>\n",
       "      <td id=\"T_c512d_row6_col5\" class=\"data row6 col5\" >0.0095</td>\n",
       "      <td id=\"T_c512d_row6_col6\" class=\"data row6 col6\" >0.0469</td>\n",
       "    </tr>\n",
       "    <tr>\n",
       "      <th id=\"T_c512d_level0_row7\" class=\"row_heading level0 row7\" >7</th>\n",
       "      <td id=\"T_c512d_row7_col0\" class=\"data row7 col0\" >0.9186</td>\n",
       "      <td id=\"T_c512d_row7_col1\" class=\"data row7 col1\" >0.7454</td>\n",
       "      <td id=\"T_c512d_row7_col2\" class=\"data row7 col2\" >0.0022</td>\n",
       "      <td id=\"T_c512d_row7_col3\" class=\"data row7 col3\" >0.2500</td>\n",
       "      <td id=\"T_c512d_row7_col4\" class=\"data row7 col4\" >0.0043</td>\n",
       "      <td id=\"T_c512d_row7_col5\" class=\"data row7 col5\" >0.0029</td>\n",
       "      <td id=\"T_c512d_row7_col6\" class=\"data row7 col6\" >0.0164</td>\n",
       "    </tr>\n",
       "    <tr>\n",
       "      <th id=\"T_c512d_level0_row8\" class=\"row_heading level0 row8\" >8</th>\n",
       "      <td id=\"T_c512d_row8_col0\" class=\"data row8 col0\" >0.9191</td>\n",
       "      <td id=\"T_c512d_row8_col1\" class=\"data row8 col1\" >0.7423</td>\n",
       "      <td id=\"T_c512d_row8_col2\" class=\"data row8 col2\" >0.0029</td>\n",
       "      <td id=\"T_c512d_row8_col3\" class=\"data row8 col3\" >0.6667</td>\n",
       "      <td id=\"T_c512d_row8_col4\" class=\"data row8 col4\" >0.0057</td>\n",
       "      <td id=\"T_c512d_row8_col5\" class=\"data row8 col5\" >0.0050</td>\n",
       "      <td id=\"T_c512d_row8_col6\" class=\"data row8 col6\" >0.0401</td>\n",
       "    </tr>\n",
       "    <tr>\n",
       "      <th id=\"T_c512d_level0_row9\" class=\"row_heading level0 row9\" >9</th>\n",
       "      <td id=\"T_c512d_row9_col0\" class=\"data row9 col0\" >0.9192</td>\n",
       "      <td id=\"T_c512d_row9_col1\" class=\"data row9 col1\" >0.7487</td>\n",
       "      <td id=\"T_c512d_row9_col2\" class=\"data row9 col2\" >0.0036</td>\n",
       "      <td id=\"T_c512d_row9_col3\" class=\"data row9 col3\" >0.7143</td>\n",
       "      <td id=\"T_c512d_row9_col4\" class=\"data row9 col4\" >0.0071</td>\n",
       "      <td id=\"T_c512d_row9_col5\" class=\"data row9 col5\" >0.0063</td>\n",
       "      <td id=\"T_c512d_row9_col6\" class=\"data row9 col6\" >0.0468</td>\n",
       "    </tr>\n",
       "    <tr>\n",
       "      <th id=\"T_c512d_level0_row10\" class=\"row_heading level0 row10\" >Mean</th>\n",
       "      <td id=\"T_c512d_row10_col0\" class=\"data row10 col0\" >0.9191</td>\n",
       "      <td id=\"T_c512d_row10_col1\" class=\"data row10 col1\" >0.7473</td>\n",
       "      <td id=\"T_c512d_row10_col2\" class=\"data row10 col2\" >0.0042</td>\n",
       "      <td id=\"T_c512d_row10_col3\" class=\"data row10 col3\" >0.5756</td>\n",
       "      <td id=\"T_c512d_row10_col4\" class=\"data row10 col4\" >0.0084</td>\n",
       "      <td id=\"T_c512d_row10_col5\" class=\"data row10 col5\" >0.0072</td>\n",
       "      <td id=\"T_c512d_row10_col6\" class=\"data row10 col6\" >0.0437</td>\n",
       "    </tr>\n",
       "    <tr>\n",
       "      <th id=\"T_c512d_level0_row11\" class=\"row_heading level0 row11\" >Std</th>\n",
       "      <td id=\"T_c512d_row11_col0\" class=\"data row11 col0\" >0.0002</td>\n",
       "      <td id=\"T_c512d_row11_col1\" class=\"data row11 col1\" >0.0030</td>\n",
       "      <td id=\"T_c512d_row11_col2\" class=\"data row11 col2\" >0.0014</td>\n",
       "      <td id=\"T_c512d_row11_col3\" class=\"data row11 col3\" >0.1468</td>\n",
       "      <td id=\"T_c512d_row11_col4\" class=\"data row11 col4\" >0.0027</td>\n",
       "      <td id=\"T_c512d_row11_col5\" class=\"data row11 col5\" >0.0026</td>\n",
       "      <td id=\"T_c512d_row11_col6\" class=\"data row11 col6\" >0.0129</td>\n",
       "    </tr>\n",
       "  </tbody>\n",
       "</table>\n"
      ],
      "text/plain": [
       "<pandas.io.formats.style.Styler at 0x7f84a2dc4b50>"
      ]
     },
     "metadata": {},
     "output_type": "display_data"
    }
   ],
   "source": [
    "# Whenenver we compare different models or build a model, the model uses deault\n",
    "#hyperparameter values. Hence, we need to tune our model to get better performance\n",
    "tuned_lightgbm_classifier=tune_model(lightgbm_classifier)"
   ]
  },
  {
   "cell_type": "markdown",
   "id": "71429f04",
   "metadata": {},
   "source": [
    "#### Compare hyperparameters of both models"
   ]
  },
  {
   "cell_type": "code",
   "execution_count": 16,
   "id": "88c6b341",
   "metadata": {},
   "outputs": [
    {
     "name": "stdout",
     "output_type": "stream",
     "text": [
      "LGBMClassifier(random_state=1626)\n"
     ]
    }
   ],
   "source": [
    "print(lightgbm_classifier)"
   ]
  },
  {
   "cell_type": "code",
   "execution_count": 17,
   "id": "05e52f29",
   "metadata": {},
   "outputs": [
    {
     "name": "stdout",
     "output_type": "stream",
     "text": [
      "LGBMClassifier(bagging_fraction=0.7, bagging_freq=1, feature_fraction=1.0,\n",
      "               learning_rate=0.01, min_child_samples=26, min_split_gain=0.9,\n",
      "               n_estimators=210, num_leaves=200, random_state=1626,\n",
      "               reg_alpha=0.005, reg_lambda=0.4)\n"
     ]
    }
   ],
   "source": [
    "print(tuned_lightgbm_classifier)"
   ]
  },
  {
   "cell_type": "markdown",
   "id": "a4de7f57",
   "metadata": {},
   "source": [
    "We can clearly conclude that our tuned model has performed better than our original model with default hyperparameters. The mean accuracy increased from 0.9899 to 0.9906"
   ]
  },
  {
   "cell_type": "markdown",
   "id": "bc2ccbd2",
   "metadata": {},
   "source": [
    "#### Saving the model for future prediction"
   ]
  },
  {
   "cell_type": "code",
   "execution_count": 18,
   "id": "15a1c9d5",
   "metadata": {},
   "outputs": [
    {
     "name": "stdout",
     "output_type": "stream",
     "text": [
      "Transformation Pipeline and Model Successfully Saved\n"
     ]
    },
    {
     "data": {
      "text/plain": [
       "(Pipeline(steps=[('dtypes',\n",
       "                  DataTypes_Auto_infer(display_types=False,\n",
       "                                       ml_usecase='classification',\n",
       "                                       target='TARGET')),\n",
       "                 ('imputer',\n",
       "                  Simple_Imputer(categorical_strategy='not_available',\n",
       "                                 fill_value_categorical=None,\n",
       "                                 fill_value_numerical=None,\n",
       "                                 numeric_strategy='mean',\n",
       "                                 target_variable=None)),\n",
       "                 ('new_levels1',\n",
       "                  New_Catagorical_Levels_in_TestData(replacement_strategy='l...\n",
       "                 ('clean_names', Clean_Colum_Names()),\n",
       "                 ('feature_select', 'passthrough'), ('fix_multi', 'passthrough'),\n",
       "                 ('dfs', 'passthrough'), ('pca', 'passthrough'),\n",
       "                 ['trained_model',\n",
       "                  LGBMClassifier(bagging_fraction=0.7, bagging_freq=1,\n",
       "                                 feature_fraction=1.0, learning_rate=0.01,\n",
       "                                 min_child_samples=26, min_split_gain=0.9,\n",
       "                                 n_estimators=210, num_leaves=200,\n",
       "                                 random_state=1626, reg_alpha=0.005,\n",
       "                                 reg_lambda=0.4)]]),\n",
       " 'lightgbm_saved_model_tuned_2062022.pkl')"
      ]
     },
     "execution_count": 18,
     "metadata": {},
     "output_type": "execute_result"
    }
   ],
   "source": [
    "## This can be used to save our trained model for future use.\n",
    "save_model(tuned_lightgbm_classifier,\"lightgbm_saved_model_tuned_2062022\")"
   ]
  },
  {
   "cell_type": "markdown",
   "id": "6718af9d",
   "metadata": {},
   "source": [
    "#### Loading the saved model"
   ]
  },
  {
   "cell_type": "code",
   "execution_count": 19,
   "id": "30fba402",
   "metadata": {},
   "outputs": [],
   "source": [
    "## This can be used to load our model. We don't need to train our model again and again.\n",
    "#tuned_lightgbm_classifier=load_model('lightgbm_saved_model_tuned_2062022')"
   ]
  },
  {
   "cell_type": "markdown",
   "id": "513e15bf",
   "metadata": {},
   "source": [
    "#### Optimize hyperparameters"
   ]
  },
  {
   "cell_type": "code",
   "execution_count": 20,
   "id": "85f6844f",
   "metadata": {},
   "outputs": [],
   "source": [
    "# lightgbm_classifier=create_model('lightgbm')"
   ]
  },
  {
   "cell_type": "code",
   "execution_count": 21,
   "id": "28747e75",
   "metadata": {},
   "outputs": [
    {
     "data": {
      "text/html": [
       "<style type=\"text/css\">\n",
       "#T_43949_row10_col0, #T_43949_row10_col1, #T_43949_row10_col2, #T_43949_row10_col3, #T_43949_row10_col4, #T_43949_row10_col5, #T_43949_row10_col6 {\n",
       "  background: yellow;\n",
       "}\n",
       "</style>\n",
       "<table id=\"T_43949_\">\n",
       "  <thead>\n",
       "    <tr>\n",
       "      <th class=\"blank level0\" >&nbsp;</th>\n",
       "      <th class=\"col_heading level0 col0\" >Accuracy</th>\n",
       "      <th class=\"col_heading level0 col1\" >AUC</th>\n",
       "      <th class=\"col_heading level0 col2\" >Recall</th>\n",
       "      <th class=\"col_heading level0 col3\" >Prec.</th>\n",
       "      <th class=\"col_heading level0 col4\" >F1</th>\n",
       "      <th class=\"col_heading level0 col5\" >Kappa</th>\n",
       "      <th class=\"col_heading level0 col6\" >MCC</th>\n",
       "    </tr>\n",
       "    <tr>\n",
       "      <th class=\"index_name level0\" >Fold</th>\n",
       "      <th class=\"blank col0\" >&nbsp;</th>\n",
       "      <th class=\"blank col1\" >&nbsp;</th>\n",
       "      <th class=\"blank col2\" >&nbsp;</th>\n",
       "      <th class=\"blank col3\" >&nbsp;</th>\n",
       "      <th class=\"blank col4\" >&nbsp;</th>\n",
       "      <th class=\"blank col5\" >&nbsp;</th>\n",
       "      <th class=\"blank col6\" >&nbsp;</th>\n",
       "    </tr>\n",
       "  </thead>\n",
       "  <tbody>\n",
       "    <tr>\n",
       "      <th id=\"T_43949_level0_row0\" class=\"row_heading level0 row0\" >0</th>\n",
       "      <td id=\"T_43949_row0_col0\" class=\"data row0 col0\" >0.9191</td>\n",
       "      <td id=\"T_43949_row0_col1\" class=\"data row0 col1\" >0.7478</td>\n",
       "      <td id=\"T_43949_row0_col2\" class=\"data row0 col2\" >0.0036</td>\n",
       "      <td id=\"T_43949_row0_col3\" class=\"data row0 col3\" >0.5556</td>\n",
       "      <td id=\"T_43949_row0_col4\" class=\"data row0 col4\" >0.0071</td>\n",
       "      <td id=\"T_43949_row0_col5\" class=\"data row0 col5\" >0.0061</td>\n",
       "      <td id=\"T_43949_row0_col6\" class=\"data row0 col6\" >0.0398</td>\n",
       "    </tr>\n",
       "    <tr>\n",
       "      <th id=\"T_43949_level0_row1\" class=\"row_heading level0 row1\" >1</th>\n",
       "      <td id=\"T_43949_row1_col0\" class=\"data row1 col0\" >0.9193</td>\n",
       "      <td id=\"T_43949_row1_col1\" class=\"data row1 col1\" >0.7499</td>\n",
       "      <td id=\"T_43949_row1_col2\" class=\"data row1 col2\" >0.0057</td>\n",
       "      <td id=\"T_43949_row1_col3\" class=\"data row1 col3\" >0.7273</td>\n",
       "      <td id=\"T_43949_row1_col4\" class=\"data row1 col4\" >0.0114</td>\n",
       "      <td id=\"T_43949_row1_col5\" class=\"data row1 col5\" >0.0101</td>\n",
       "      <td id=\"T_43949_row1_col6\" class=\"data row1 col6\" >0.0599</td>\n",
       "    </tr>\n",
       "    <tr>\n",
       "      <th id=\"T_43949_level0_row2\" class=\"row_heading level0 row2\" >2</th>\n",
       "      <td id=\"T_43949_row2_col0\" class=\"data row2 col0\" >0.9193</td>\n",
       "      <td id=\"T_43949_row2_col1\" class=\"data row2 col1\" >0.7458</td>\n",
       "      <td id=\"T_43949_row2_col2\" class=\"data row2 col2\" >0.0065</td>\n",
       "      <td id=\"T_43949_row2_col3\" class=\"data row2 col3\" >0.6923</td>\n",
       "      <td id=\"T_43949_row2_col4\" class=\"data row2 col4\" >0.0128</td>\n",
       "      <td id=\"T_43949_row2_col5\" class=\"data row2 col5\" >0.0113</td>\n",
       "      <td id=\"T_43949_row2_col6\" class=\"data row2 col6\" >0.0616</td>\n",
       "    </tr>\n",
       "    <tr>\n",
       "      <th id=\"T_43949_level0_row3\" class=\"row_heading level0 row3\" >3</th>\n",
       "      <td id=\"T_43949_row3_col0\" class=\"data row3 col0\" >0.9189</td>\n",
       "      <td id=\"T_43949_row3_col1\" class=\"data row3 col1\" >0.7489</td>\n",
       "      <td id=\"T_43949_row3_col2\" class=\"data row3 col2\" >0.0029</td>\n",
       "      <td id=\"T_43949_row3_col3\" class=\"data row3 col3\" >0.4000</td>\n",
       "      <td id=\"T_43949_row3_col4\" class=\"data row3 col4\" >0.0057</td>\n",
       "      <td id=\"T_43949_row3_col5\" class=\"data row3 col5\" >0.0046</td>\n",
       "      <td id=\"T_43949_row3_col6\" class=\"data row3 col6\" >0.0282</td>\n",
       "    </tr>\n",
       "    <tr>\n",
       "      <th id=\"T_43949_level0_row4\" class=\"row_heading level0 row4\" >4</th>\n",
       "      <td id=\"T_43949_row4_col0\" class=\"data row4 col0\" >0.9192</td>\n",
       "      <td id=\"T_43949_row4_col1\" class=\"data row4 col1\" >0.7482</td>\n",
       "      <td id=\"T_43949_row4_col2\" class=\"data row4 col2\" >0.0043</td>\n",
       "      <td id=\"T_43949_row4_col3\" class=\"data row4 col3\" >0.6667</td>\n",
       "      <td id=\"T_43949_row4_col4\" class=\"data row4 col4\" >0.0086</td>\n",
       "      <td id=\"T_43949_row4_col5\" class=\"data row4 col5\" >0.0075</td>\n",
       "      <td id=\"T_43949_row4_col6\" class=\"data row4 col6\" >0.0491</td>\n",
       "    </tr>\n",
       "    <tr>\n",
       "      <th id=\"T_43949_level0_row5\" class=\"row_heading level0 row5\" >5</th>\n",
       "      <td id=\"T_43949_row5_col0\" class=\"data row5 col0\" >0.9192</td>\n",
       "      <td id=\"T_43949_row5_col1\" class=\"data row5 col1\" >0.7432</td>\n",
       "      <td id=\"T_43949_row5_col2\" class=\"data row5 col2\" >0.0050</td>\n",
       "      <td id=\"T_43949_row5_col3\" class=\"data row5 col3\" >0.5833</td>\n",
       "      <td id=\"T_43949_row5_col4\" class=\"data row5 col4\" >0.0100</td>\n",
       "      <td id=\"T_43949_row5_col5\" class=\"data row5 col5\" >0.0086</td>\n",
       "      <td id=\"T_43949_row5_col6\" class=\"data row5 col6\" >0.0486</td>\n",
       "    </tr>\n",
       "    <tr>\n",
       "      <th id=\"T_43949_level0_row6\" class=\"row_heading level0 row6\" >6</th>\n",
       "      <td id=\"T_43949_row6_col0\" class=\"data row6 col0\" >0.9190</td>\n",
       "      <td id=\"T_43949_row6_col1\" class=\"data row6 col1\" >0.7525</td>\n",
       "      <td id=\"T_43949_row6_col2\" class=\"data row6 col2\" >0.0057</td>\n",
       "      <td id=\"T_43949_row6_col3\" class=\"data row6 col3\" >0.5000</td>\n",
       "      <td id=\"T_43949_row6_col4\" class=\"data row6 col4\" >0.0113</td>\n",
       "      <td id=\"T_43949_row6_col5\" class=\"data row6 col5\" >0.0095</td>\n",
       "      <td id=\"T_43949_row6_col6\" class=\"data row6 col6\" >0.0469</td>\n",
       "    </tr>\n",
       "    <tr>\n",
       "      <th id=\"T_43949_level0_row7\" class=\"row_heading level0 row7\" >7</th>\n",
       "      <td id=\"T_43949_row7_col0\" class=\"data row7 col0\" >0.9186</td>\n",
       "      <td id=\"T_43949_row7_col1\" class=\"data row7 col1\" >0.7454</td>\n",
       "      <td id=\"T_43949_row7_col2\" class=\"data row7 col2\" >0.0022</td>\n",
       "      <td id=\"T_43949_row7_col3\" class=\"data row7 col3\" >0.2500</td>\n",
       "      <td id=\"T_43949_row7_col4\" class=\"data row7 col4\" >0.0043</td>\n",
       "      <td id=\"T_43949_row7_col5\" class=\"data row7 col5\" >0.0029</td>\n",
       "      <td id=\"T_43949_row7_col6\" class=\"data row7 col6\" >0.0164</td>\n",
       "    </tr>\n",
       "    <tr>\n",
       "      <th id=\"T_43949_level0_row8\" class=\"row_heading level0 row8\" >8</th>\n",
       "      <td id=\"T_43949_row8_col0\" class=\"data row8 col0\" >0.9191</td>\n",
       "      <td id=\"T_43949_row8_col1\" class=\"data row8 col1\" >0.7423</td>\n",
       "      <td id=\"T_43949_row8_col2\" class=\"data row8 col2\" >0.0029</td>\n",
       "      <td id=\"T_43949_row8_col3\" class=\"data row8 col3\" >0.6667</td>\n",
       "      <td id=\"T_43949_row8_col4\" class=\"data row8 col4\" >0.0057</td>\n",
       "      <td id=\"T_43949_row8_col5\" class=\"data row8 col5\" >0.0050</td>\n",
       "      <td id=\"T_43949_row8_col6\" class=\"data row8 col6\" >0.0401</td>\n",
       "    </tr>\n",
       "    <tr>\n",
       "      <th id=\"T_43949_level0_row9\" class=\"row_heading level0 row9\" >9</th>\n",
       "      <td id=\"T_43949_row9_col0\" class=\"data row9 col0\" >0.9192</td>\n",
       "      <td id=\"T_43949_row9_col1\" class=\"data row9 col1\" >0.7487</td>\n",
       "      <td id=\"T_43949_row9_col2\" class=\"data row9 col2\" >0.0036</td>\n",
       "      <td id=\"T_43949_row9_col3\" class=\"data row9 col3\" >0.7143</td>\n",
       "      <td id=\"T_43949_row9_col4\" class=\"data row9 col4\" >0.0071</td>\n",
       "      <td id=\"T_43949_row9_col5\" class=\"data row9 col5\" >0.0063</td>\n",
       "      <td id=\"T_43949_row9_col6\" class=\"data row9 col6\" >0.0468</td>\n",
       "    </tr>\n",
       "    <tr>\n",
       "      <th id=\"T_43949_level0_row10\" class=\"row_heading level0 row10\" >Mean</th>\n",
       "      <td id=\"T_43949_row10_col0\" class=\"data row10 col0\" >0.9191</td>\n",
       "      <td id=\"T_43949_row10_col1\" class=\"data row10 col1\" >0.7473</td>\n",
       "      <td id=\"T_43949_row10_col2\" class=\"data row10 col2\" >0.0042</td>\n",
       "      <td id=\"T_43949_row10_col3\" class=\"data row10 col3\" >0.5756</td>\n",
       "      <td id=\"T_43949_row10_col4\" class=\"data row10 col4\" >0.0084</td>\n",
       "      <td id=\"T_43949_row10_col5\" class=\"data row10 col5\" >0.0072</td>\n",
       "      <td id=\"T_43949_row10_col6\" class=\"data row10 col6\" >0.0437</td>\n",
       "    </tr>\n",
       "    <tr>\n",
       "      <th id=\"T_43949_level0_row11\" class=\"row_heading level0 row11\" >Std</th>\n",
       "      <td id=\"T_43949_row11_col0\" class=\"data row11 col0\" >0.0002</td>\n",
       "      <td id=\"T_43949_row11_col1\" class=\"data row11 col1\" >0.0030</td>\n",
       "      <td id=\"T_43949_row11_col2\" class=\"data row11 col2\" >0.0014</td>\n",
       "      <td id=\"T_43949_row11_col3\" class=\"data row11 col3\" >0.1468</td>\n",
       "      <td id=\"T_43949_row11_col4\" class=\"data row11 col4\" >0.0027</td>\n",
       "      <td id=\"T_43949_row11_col5\" class=\"data row11 col5\" >0.0026</td>\n",
       "      <td id=\"T_43949_row11_col6\" class=\"data row11 col6\" >0.0129</td>\n",
       "    </tr>\n",
       "  </tbody>\n",
       "</table>\n"
      ],
      "text/plain": [
       "<pandas.io.formats.style.Styler at 0x7f854eae9450>"
      ]
     },
     "metadata": {},
     "output_type": "display_data"
    }
   ],
   "source": [
    "# Optimize The Model \n",
    "tuned_lightgbm_optimized=tune_model(lightgbm_classifier, optimize='Accuracy')\n"
   ]
  },
  {
   "cell_type": "code",
   "execution_count": 22,
   "id": "4db4ab41",
   "metadata": {},
   "outputs": [
    {
     "name": "stdout",
     "output_type": "stream",
     "text": [
      "Transformation Pipeline and Model Successfully Saved\n"
     ]
    },
    {
     "data": {
      "text/plain": [
       "(Pipeline(steps=[('dtypes',\n",
       "                  DataTypes_Auto_infer(display_types=False,\n",
       "                                       ml_usecase='classification',\n",
       "                                       target='TARGET')),\n",
       "                 ('imputer',\n",
       "                  Simple_Imputer(categorical_strategy='not_available',\n",
       "                                 fill_value_categorical=None,\n",
       "                                 fill_value_numerical=None,\n",
       "                                 numeric_strategy='mean',\n",
       "                                 target_variable=None)),\n",
       "                 ('new_levels1',\n",
       "                  New_Catagorical_Levels_in_TestData(replacement_strategy='l...\n",
       "                 ('clean_names', Clean_Colum_Names()),\n",
       "                 ('feature_select', 'passthrough'), ('fix_multi', 'passthrough'),\n",
       "                 ('dfs', 'passthrough'), ('pca', 'passthrough'),\n",
       "                 ['trained_model',\n",
       "                  LGBMClassifier(bagging_fraction=0.7, bagging_freq=1,\n",
       "                                 feature_fraction=1.0, learning_rate=0.01,\n",
       "                                 min_child_samples=26, min_split_gain=0.9,\n",
       "                                 n_estimators=210, num_leaves=200,\n",
       "                                 random_state=1626, reg_alpha=0.005,\n",
       "                                 reg_lambda=0.4)]]),\n",
       " 'lightgbm_saved_model_optimized_2062022.pkl')"
      ]
     },
     "execution_count": 22,
     "metadata": {},
     "output_type": "execute_result"
    }
   ],
   "source": [
    "## This can be used to save our trained model for future use.\n",
    "save_model(tuned_lightgbm_optimized,\"lightgbm_saved_model_optimized_2062022\")"
   ]
  },
  {
   "cell_type": "markdown",
   "id": "6fd9f27e",
   "metadata": {},
   "source": [
    "#### Load the model"
   ]
  },
  {
   "cell_type": "code",
   "execution_count": 23,
   "id": "b3104d48",
   "metadata": {},
   "outputs": [],
   "source": [
    "## This can be used to load our model. We don't need to train our model again and again.\n",
    "#model = load_model('lightgbm_saved_model_optimized_2062022')"
   ]
  },
  {
   "cell_type": "markdown",
   "id": "539800aa",
   "metadata": {},
   "source": [
    "####  Evaluate the Model"
   ]
  },
  {
   "cell_type": "code",
   "execution_count": 24,
   "id": "f5c4096e",
   "metadata": {},
   "outputs": [
    {
     "data": {
      "text/html": [
       "<div>\n",
       "<style scoped>\n",
       "    .dataframe tbody tr th:only-of-type {\n",
       "        vertical-align: middle;\n",
       "    }\n",
       "\n",
       "    .dataframe tbody tr th {\n",
       "        vertical-align: top;\n",
       "    }\n",
       "\n",
       "    .dataframe thead th {\n",
       "        text-align: right;\n",
       "    }\n",
       "</style>\n",
       "<table border=\"1\" class=\"dataframe\">\n",
       "  <thead>\n",
       "    <tr style=\"text-align: right;\">\n",
       "      <th></th>\n",
       "      <th>Parameters</th>\n",
       "    </tr>\n",
       "  </thead>\n",
       "  <tbody>\n",
       "    <tr>\n",
       "      <th>boosting_type</th>\n",
       "      <td>gbdt</td>\n",
       "    </tr>\n",
       "    <tr>\n",
       "      <th>class_weight</th>\n",
       "      <td>None</td>\n",
       "    </tr>\n",
       "    <tr>\n",
       "      <th>colsample_bytree</th>\n",
       "      <td>1.0</td>\n",
       "    </tr>\n",
       "    <tr>\n",
       "      <th>importance_type</th>\n",
       "      <td>split</td>\n",
       "    </tr>\n",
       "    <tr>\n",
       "      <th>learning_rate</th>\n",
       "      <td>0.01</td>\n",
       "    </tr>\n",
       "    <tr>\n",
       "      <th>max_depth</th>\n",
       "      <td>-1</td>\n",
       "    </tr>\n",
       "    <tr>\n",
       "      <th>min_child_samples</th>\n",
       "      <td>26</td>\n",
       "    </tr>\n",
       "    <tr>\n",
       "      <th>min_child_weight</th>\n",
       "      <td>0.001</td>\n",
       "    </tr>\n",
       "    <tr>\n",
       "      <th>min_split_gain</th>\n",
       "      <td>0.9</td>\n",
       "    </tr>\n",
       "    <tr>\n",
       "      <th>n_estimators</th>\n",
       "      <td>210</td>\n",
       "    </tr>\n",
       "    <tr>\n",
       "      <th>n_jobs</th>\n",
       "      <td>-1</td>\n",
       "    </tr>\n",
       "    <tr>\n",
       "      <th>num_leaves</th>\n",
       "      <td>200</td>\n",
       "    </tr>\n",
       "    <tr>\n",
       "      <th>objective</th>\n",
       "      <td>None</td>\n",
       "    </tr>\n",
       "    <tr>\n",
       "      <th>random_state</th>\n",
       "      <td>1626</td>\n",
       "    </tr>\n",
       "    <tr>\n",
       "      <th>reg_alpha</th>\n",
       "      <td>0.005</td>\n",
       "    </tr>\n",
       "    <tr>\n",
       "      <th>reg_lambda</th>\n",
       "      <td>0.4</td>\n",
       "    </tr>\n",
       "    <tr>\n",
       "      <th>silent</th>\n",
       "      <td>warn</td>\n",
       "    </tr>\n",
       "    <tr>\n",
       "      <th>subsample</th>\n",
       "      <td>1.0</td>\n",
       "    </tr>\n",
       "    <tr>\n",
       "      <th>subsample_for_bin</th>\n",
       "      <td>200000</td>\n",
       "    </tr>\n",
       "    <tr>\n",
       "      <th>subsample_freq</th>\n",
       "      <td>0</td>\n",
       "    </tr>\n",
       "    <tr>\n",
       "      <th>feature_fraction</th>\n",
       "      <td>1.0</td>\n",
       "    </tr>\n",
       "    <tr>\n",
       "      <th>bagging_freq</th>\n",
       "      <td>1</td>\n",
       "    </tr>\n",
       "    <tr>\n",
       "      <th>bagging_fraction</th>\n",
       "      <td>0.7</td>\n",
       "    </tr>\n",
       "  </tbody>\n",
       "</table>\n",
       "</div>"
      ],
      "text/plain": [
       "                  Parameters\n",
       "boosting_type           gbdt\n",
       "class_weight            None\n",
       "colsample_bytree         1.0\n",
       "importance_type        split\n",
       "learning_rate           0.01\n",
       "max_depth                 -1\n",
       "min_child_samples         26\n",
       "min_child_weight       0.001\n",
       "min_split_gain           0.9\n",
       "n_estimators             210\n",
       "n_jobs                    -1\n",
       "num_leaves               200\n",
       "objective               None\n",
       "random_state            1626\n",
       "reg_alpha              0.005\n",
       "reg_lambda               0.4\n",
       "silent                  warn\n",
       "subsample                1.0\n",
       "subsample_for_bin     200000\n",
       "subsample_freq             0\n",
       "feature_fraction         1.0\n",
       "bagging_freq               1\n",
       "bagging_fraction         0.7"
      ]
     },
     "metadata": {},
     "output_type": "display_data"
    }
   ],
   "source": [
    "evaluate_model(tuned_lightgbm_optimized)"
   ]
  },
  {
   "cell_type": "markdown",
   "id": "165fe700",
   "metadata": {},
   "source": [
    "#### Plot Performance of Model\n"
   ]
  },
  {
   "cell_type": "code",
   "execution_count": 25,
   "id": "6183e09c",
   "metadata": {},
   "outputs": [
    {
     "data": {
      "image/png": "[encoded data removed]",
      "text/plain": [
       "<Figure size 576x396 with 1 Axes>"
      ]
     },
     "metadata": {},
     "output_type": "display_data"
    }
   ],
   "source": [
    "plot_model(tuned_lightgbm_optimized)"
   ]
  },
  {
   "cell_type": "markdown",
   "id": "720f0b12",
   "metadata": {},
   "source": [
    "#### Plot Confusion Matrix"
   ]
  },
  {
   "cell_type": "code",
   "execution_count": 26,
   "id": "533297ae",
   "metadata": {},
   "outputs": [
    {
     "data": {
      "image/png": "[encoded data removed]",
      "text/plain": [
       "<Figure size 576x396 with 1 Axes>"
      ]
     },
     "metadata": {},
     "output_type": "display_data"
    }
   ],
   "source": [
    "plot_model(tuned_lightgbm_optimized,plot='confusion_matrix')"
   ]
  },
  {
   "cell_type": "markdown",
   "id": "d9f79fae",
   "metadata": {},
   "source": [
    "#### Feature Importance\n"
   ]
  },
  {
   "cell_type": "code",
   "execution_count": 27,
   "id": "bd029788",
   "metadata": {},
   "outputs": [
    {
     "data": {
      "image/png": "[encoded data removed]",
      "text/plain": [
       "<Figure size 800x500 with 1 Axes>"
      ]
     },
     "metadata": {},
     "output_type": "display_data"
    }
   ],
   "source": [
    "plot_model(tuned_lightgbm_optimized,plot='feature')"
   ]
  },
  {
   "cell_type": "markdown",
   "id": "a4080c6e",
   "metadata": {},
   "source": [
    "#### Validation Curve\n"
   ]
  },
  {
   "cell_type": "code",
   "execution_count": 28,
   "id": "9baa719a",
   "metadata": {},
   "outputs": [
    {
     "data": {
      "image/png": "[encoded data removed]",
      "text/plain": [
       "<Figure size 576x396 with 1 Axes>"
      ]
     },
     "metadata": {},
     "output_type": "display_data"
    }
   ],
   "source": [
    "plot_model(tuned_lightgbm_optimized,plot='pr')"
   ]
  },
  {
   "cell_type": "markdown",
   "id": "34d82ec3",
   "metadata": {},
   "source": [
    "#### Predict on test / hold-out Sample"
   ]
  },
  {
   "cell_type": "code",
   "execution_count": 29,
   "id": "51c27ae1",
   "metadata": {},
   "outputs": [
    {
     "data": {
      "text/html": [
       "<style type=\"text/css\">\n",
       "</style>\n",
       "<table id=\"T_4d348_\">\n",
       "  <thead>\n",
       "    <tr>\n",
       "      <th class=\"blank level0\" >&nbsp;</th>\n",
       "      <th class=\"col_heading level0 col0\" >Model</th>\n",
       "      <th class=\"col_heading level0 col1\" >Accuracy</th>\n",
       "      <th class=\"col_heading level0 col2\" >AUC</th>\n",
       "      <th class=\"col_heading level0 col3\" >Recall</th>\n",
       "      <th class=\"col_heading level0 col4\" >Prec.</th>\n",
       "      <th class=\"col_heading level0 col5\" >F1</th>\n",
       "      <th class=\"col_heading level0 col6\" >Kappa</th>\n",
       "      <th class=\"col_heading level0 col7\" >MCC</th>\n",
       "    </tr>\n",
       "  </thead>\n",
       "  <tbody>\n",
       "    <tr>\n",
       "      <th id=\"T_4d348_level0_row0\" class=\"row_heading level0 row0\" >0</th>\n",
       "      <td id=\"T_4d348_row0_col0\" class=\"data row0 col0\" >Light Gradient Boosting Machine</td>\n",
       "      <td id=\"T_4d348_row0_col1\" class=\"data row0 col1\" >0.9200</td>\n",
       "      <td id=\"T_4d348_row0_col2\" class=\"data row0 col2\" >0.7471</td>\n",
       "      <td id=\"T_4d348_row0_col3\" class=\"data row0 col3\" >0.0047</td>\n",
       "      <td id=\"T_4d348_row0_col4\" class=\"data row0 col4\" >0.6087</td>\n",
       "      <td id=\"T_4d348_row0_col5\" class=\"data row0 col5\" >0.0094</td>\n",
       "      <td id=\"T_4d348_row0_col6\" class=\"data row0 col6\" >0.0082</td>\n",
       "      <td id=\"T_4d348_row0_col7\" class=\"data row0 col7\" >0.0486</td>\n",
       "    </tr>\n",
       "  </tbody>\n",
       "</table>\n"
      ],
      "text/plain": [
       "<pandas.io.formats.style.Styler at 0x7f84a2cee490>"
      ]
     },
     "metadata": {},
     "output_type": "display_data"
    },
    {
     "data": {
      "text/html": [
       "<div>\n",
       "<style scoped>\n",
       "    .dataframe tbody tr th:only-of-type {\n",
       "        vertical-align: middle;\n",
       "    }\n",
       "\n",
       "    .dataframe tbody tr th {\n",
       "        vertical-align: top;\n",
       "    }\n",
       "\n",
       "    .dataframe thead th {\n",
       "        text-align: right;\n",
       "    }\n",
       "</style>\n",
       "<table border=\"1\" class=\"dataframe\">\n",
       "  <thead>\n",
       "    <tr style=\"text-align: right;\">\n",
       "      <th></th>\n",
       "      <th>AMT_INCOME_TOTAL</th>\n",
       "      <th>AMT_CREDIT</th>\n",
       "      <th>AMT_ANNUITY</th>\n",
       "      <th>AMT_GOODS_PRICE</th>\n",
       "      <th>REGION_POPULATION_RELATIVE</th>\n",
       "      <th>DAYS_BIRTH</th>\n",
       "      <th>DAYS_EMPLOYED</th>\n",
       "      <th>DAYS_REGISTRATION</th>\n",
       "      <th>DAYS_ID_PUBLISH</th>\n",
       "      <th>OWN_CAR_AGE</th>\n",
       "      <th>...</th>\n",
       "      <th>WALLSMATERIAL_MODE_Others_0</th>\n",
       "      <th>WALLSMATERIAL_MODE_Panel_0</th>\n",
       "      <th>WALLSMATERIAL_MODE_Stone brick_1</th>\n",
       "      <th>WALLSMATERIAL_MODE_Wooden_1</th>\n",
       "      <th>EMERGENCYSTATE_MODE_No_1</th>\n",
       "      <th>EMERGENCYSTATE_MODE_Yes_0</th>\n",
       "      <th>BURO_CREDIT_TYPE_Mobile operator loan_MEAN_2.0437727243916015e-07</th>\n",
       "      <th>TARGET</th>\n",
       "      <th>Label</th>\n",
       "      <th>Score</th>\n",
       "    </tr>\n",
       "  </thead>\n",
       "  <tbody>\n",
       "    <tr>\n",
       "      <th>0</th>\n",
       "      <td>225000.0</td>\n",
       "      <td>1687266.0</td>\n",
       "      <td>69763.5</td>\n",
       "      <td>1575000.0</td>\n",
       "      <td>0.008068</td>\n",
       "      <td>-13314.0</td>\n",
       "      <td>-5230.0</td>\n",
       "      <td>-3774.0</td>\n",
       "      <td>-5713.0</td>\n",
       "      <td>3.000000</td>\n",
       "      <td>...</td>\n",
       "      <td>1.0</td>\n",
       "      <td>1.0</td>\n",
       "      <td>0.0</td>\n",
       "      <td>0.0</td>\n",
       "      <td>1.0</td>\n",
       "      <td>1.0</td>\n",
       "      <td>0.0</td>\n",
       "      <td>0.0</td>\n",
       "      <td>0.0</td>\n",
       "      <td>0.8757</td>\n",
       "    </tr>\n",
       "    <tr>\n",
       "      <th>1</th>\n",
       "      <td>157500.0</td>\n",
       "      <td>490495.5</td>\n",
       "      <td>30136.5</td>\n",
       "      <td>454500.0</td>\n",
       "      <td>0.010147</td>\n",
       "      <td>-12585.0</td>\n",
       "      <td>-367.0</td>\n",
       "      <td>-11988.0</td>\n",
       "      <td>-4021.0</td>\n",
       "      <td>12.023767</td>\n",
       "      <td>...</td>\n",
       "      <td>1.0</td>\n",
       "      <td>1.0</td>\n",
       "      <td>0.0</td>\n",
       "      <td>0.0</td>\n",
       "      <td>0.0</td>\n",
       "      <td>1.0</td>\n",
       "      <td>0.0</td>\n",
       "      <td>0.0</td>\n",
       "      <td>0.0</td>\n",
       "      <td>0.6574</td>\n",
       "    </tr>\n",
       "    <tr>\n",
       "      <th>2</th>\n",
       "      <td>135000.0</td>\n",
       "      <td>339948.0</td>\n",
       "      <td>26437.5</td>\n",
       "      <td>315000.0</td>\n",
       "      <td>0.018634</td>\n",
       "      <td>-9475.0</td>\n",
       "      <td>-787.0</td>\n",
       "      <td>-308.0</td>\n",
       "      <td>-518.0</td>\n",
       "      <td>12.023767</td>\n",
       "      <td>...</td>\n",
       "      <td>1.0</td>\n",
       "      <td>1.0</td>\n",
       "      <td>1.0</td>\n",
       "      <td>0.0</td>\n",
       "      <td>1.0</td>\n",
       "      <td>1.0</td>\n",
       "      <td>0.0</td>\n",
       "      <td>0.0</td>\n",
       "      <td>0.0</td>\n",
       "      <td>0.8889</td>\n",
       "    </tr>\n",
       "    <tr>\n",
       "      <th>3</th>\n",
       "      <td>270000.0</td>\n",
       "      <td>1462500.0</td>\n",
       "      <td>73125.0</td>\n",
       "      <td>1462500.0</td>\n",
       "      <td>0.020246</td>\n",
       "      <td>-18623.0</td>\n",
       "      <td>-712.0</td>\n",
       "      <td>-5490.0</td>\n",
       "      <td>-2156.0</td>\n",
       "      <td>12.023767</td>\n",
       "      <td>...</td>\n",
       "      <td>1.0</td>\n",
       "      <td>1.0</td>\n",
       "      <td>1.0</td>\n",
       "      <td>0.0</td>\n",
       "      <td>1.0</td>\n",
       "      <td>1.0</td>\n",
       "      <td>0.0</td>\n",
       "      <td>0.0</td>\n",
       "      <td>0.0</td>\n",
       "      <td>0.8995</td>\n",
       "    </tr>\n",
       "    <tr>\n",
       "      <th>4</th>\n",
       "      <td>117000.0</td>\n",
       "      <td>170640.0</td>\n",
       "      <td>11403.0</td>\n",
       "      <td>135000.0</td>\n",
       "      <td>0.008625</td>\n",
       "      <td>-13584.0</td>\n",
       "      <td>-570.0</td>\n",
       "      <td>-6950.0</td>\n",
       "      <td>-1647.0</td>\n",
       "      <td>12.000000</td>\n",
       "      <td>...</td>\n",
       "      <td>1.0</td>\n",
       "      <td>0.0</td>\n",
       "      <td>0.0</td>\n",
       "      <td>0.0</td>\n",
       "      <td>1.0</td>\n",
       "      <td>1.0</td>\n",
       "      <td>1.0</td>\n",
       "      <td>0.0</td>\n",
       "      <td>0.0</td>\n",
       "      <td>0.8143</td>\n",
       "    </tr>\n",
       "  </tbody>\n",
       "</table>\n",
       "<p>5 rows × 753 columns</p>\n",
       "</div>"
      ],
      "text/plain": [
       "   AMT_INCOME_TOTAL  AMT_CREDIT  AMT_ANNUITY  AMT_GOODS_PRICE  \\\n",
       "0          225000.0   1687266.0      69763.5        1575000.0   \n",
       "1          157500.0    490495.5      30136.5         454500.0   \n",
       "2          135000.0    339948.0      26437.5         315000.0   \n",
       "3          270000.0   1462500.0      73125.0        1462500.0   \n",
       "4          117000.0    170640.0      11403.0         135000.0   \n",
       "\n",
       "   REGION_POPULATION_RELATIVE  DAYS_BIRTH  DAYS_EMPLOYED  DAYS_REGISTRATION  \\\n",
       "0                    0.008068    -13314.0        -5230.0            -3774.0   \n",
       "1                    0.010147    -12585.0         -367.0           -11988.0   \n",
       "2                    0.018634     -9475.0         -787.0             -308.0   \n",
       "3                    0.020246    -18623.0         -712.0            -5490.0   \n",
       "4                    0.008625    -13584.0         -570.0            -6950.0   \n",
       "\n",
       "   DAYS_ID_PUBLISH  OWN_CAR_AGE  ...  WALLSMATERIAL_MODE_Others_0  \\\n",
       "0          -5713.0     3.000000  ...                          1.0   \n",
       "1          -4021.0    12.023767  ...                          1.0   \n",
       "2           -518.0    12.023767  ...                          1.0   \n",
       "3          -2156.0    12.023767  ...                          1.0   \n",
       "4          -1647.0    12.000000  ...                          1.0   \n",
       "\n",
       "   WALLSMATERIAL_MODE_Panel_0  WALLSMATERIAL_MODE_Stone brick_1  \\\n",
       "0                         1.0                               0.0   \n",
       "1                         1.0                               0.0   \n",
       "2                         1.0                               1.0   \n",
       "3                         1.0                               1.0   \n",
       "4                         0.0                               0.0   \n",
       "\n",
       "   WALLSMATERIAL_MODE_Wooden_1  EMERGENCYSTATE_MODE_No_1  \\\n",
       "0                          0.0                       1.0   \n",
       "1                          0.0                       0.0   \n",
       "2                          0.0                       1.0   \n",
       "3                          0.0                       1.0   \n",
       "4                          0.0                       1.0   \n",
       "\n",
       "   EMERGENCYSTATE_MODE_Yes_0  \\\n",
       "0                        1.0   \n",
       "1                        1.0   \n",
       "2                        1.0   \n",
       "3                        1.0   \n",
       "4                        1.0   \n",
       "\n",
       "   BURO_CREDIT_TYPE_Mobile operator loan_MEAN_2.0437727243916015e-07  TARGET  \\\n",
       "0                                                0.0                     0.0   \n",
       "1                                                0.0                     0.0   \n",
       "2                                                0.0                     0.0   \n",
       "3                                                0.0                     0.0   \n",
       "4                                                1.0                     0.0   \n",
       "\n",
       "   Label   Score  \n",
       "0    0.0  0.8757  \n",
       "1    0.0  0.6574  \n",
       "2    0.0  0.8889  \n",
       "3    0.0  0.8995  \n",
       "4    0.0  0.8143  \n",
       "\n",
       "[5 rows x 753 columns]"
      ]
     },
     "execution_count": 29,
     "metadata": {},
     "output_type": "execute_result"
    }
   ],
   "source": [
    "predict_model_1 = predict_model(tuned_lightgbm_optimized)\n",
    "predict_model_1.head()"
   ]
  },
  {
   "cell_type": "markdown",
   "id": "d174d161",
   "metadata": {},
   "source": [
    "The accuracy on the test set is 0.9293 compared to 0.9193 achieved on the tuned_lightgbm_optimized results. This is not a significant difference.\n",
    "\n",
    "At the last column of this result we see a new feature called Score.\n",
    "Label is the prediction and score is the probability of the prediction. Note that the predicted results are concatenated with the original data set, while all transformations are automatically performed in the background.\n",
    "\n"
   ]
  },
  {
   "cell_type": "code",
   "execution_count": 30,
   "id": "e6b2b40d",
   "metadata": {},
   "outputs": [
    {
     "data": {
      "text/plain": [
       "LGBMClassifier(bagging_fraction=0.7, bagging_freq=1, feature_fraction=1.0,\n",
       "               learning_rate=0.01, min_child_samples=26, min_split_gain=0.9,\n",
       "               n_estimators=210, num_leaves=200, random_state=1626,\n",
       "               reg_alpha=0.005, reg_lambda=0.4)"
      ]
     },
     "execution_count": 30,
     "metadata": {},
     "output_type": "execute_result"
    }
   ],
   "source": [
    "tuned_lightgbm_optimized"
   ]
  },
  {
   "cell_type": "markdown",
   "id": "c452bd24",
   "metadata": {},
   "source": [
    "#### Finalizing the Model"
   ]
  },
  {
   "cell_type": "code",
   "execution_count": null,
   "id": "60ed2d0e",
   "metadata": {},
   "outputs": [],
   "source": [
    "final_tuned_lightgbm_optimized = finalize_model(tuned_lightgbm_optimized)"
   ]
  }
 ],
 "metadata": {
  "hide_input": false,
  "kernelspec": {
   "display_name": "Python [conda env:py3711OpenClass]",
   "language": "python",
   "name": "conda-env-py3711OpenClass-py"
  },
  "language_info": {
   "codemirror_mode": {
    "name": "ipython",
    "version": 3
   },
   "file_extension": ".py",
   "mimetype": "text/x-python",
   "name": "python",
   "nbconvert_exporter": "python",
   "pygments_lexer": "ipython3",
   "version": "3.7.11"
  }
 },
 "nbformat": 4,
 "nbformat_minor": 5
}
